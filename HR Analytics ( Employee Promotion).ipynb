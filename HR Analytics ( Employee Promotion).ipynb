{
 "cells": [
  {
   "cell_type": "markdown",
   "metadata": {},
   "source": [
    "# Employee Promotion (HR-Analytics)\n",
    "\n",
    "\n",
    "\n",
    "\n",
    "# Introduction\n",
    "    \n",
    "HR analytics is revolutionising the way human resources departments operate, leading to higher efficiency and better results overall. Human resources has been using analytics for years. However, the collection, processing and analysis of data has been largely manual, and given the nature of human resources dynamics and HR KPIs, the approach has been constraining HR. There is an opportunity to try predictive analytics in identifying the employees most likely to get promoted.\n",
    "\n",
    "\n",
    "# Problem-Statement\n",
    "\n",
    "Client is a large MNC and they have 9 broad verticals across the organisation. One of the problem client is facing is around identifying the right people for promotion (only for manager position and below) and prepare them in time.\n",
    "For above mentioned process, the final promotions are only announced after the evaluation and this leads to delay in transition to their new roles. Hence, company needs help in identifying the eligible candidates at a particular time point and making the promotion process smoother for the organisation  \n",
    "   \n",
    "   \n",
    "# Data-Source\n",
    "\n",
    "HR Analytics Challenge , Data-set available in Analytics Vidhya websie. \n",
    "\n",
    "\n",
    "# Project-Description\n",
    "\n",
    "This project work, focuses on which algorithm can work better for this real world problem of\n",
    "Employee Promotion Classification Problem and there after recommending which are the important factors for classifying.\n",
    "\n",
    "\n",
    "# Data\n",
    "\n",
    "<b>Dataset Description</b>\n",
    "\n",
    "employee_id\t--->Unique ID for employee<br/>\n",
    "department  ---->\tDepartment of employee<br/>\n",
    "region ---->\tRegion of employment (unordered)<br/>\n",
    "education  ---->\tEducation Level<br/>\n",
    "gender  ---->\tGender of Employee<br/>\n",
    "recruitment_channel  ---->\tChannel of recruitment for employee<br/>\n",
    "no_of_trainings  -->\tno of other trainings completed in previous year on soft skills, technical skills etc.<br/>\n",
    "age ---->\tAge of Employee<br/>\n",
    "previous_year_rating --->\tEmployee Rating for the previous year<br/>\n",
    "length_of_service ---->\tLength of service in years<br/>\n",
    "KPIs_met >80% ---->\tif Percent of KPIs(Key performance Indicators) >80% then 1 else 0<br/>\n",
    "awards_won?\t ----> if awards won during previous year then 1 else 0<br/>\n",
    "avg_training_score ---->\tAverage score in current training evaluations<br/>\n",
    "is_promoted\t(Target) ----> Recommended for promotion<br/>"
   ]
  },
  {
   "cell_type": "code",
   "execution_count": 1183,
   "metadata": {},
   "outputs": [],
   "source": [
    "import pandas as pd\n",
    "import numpy as np\n",
    "import matplotlib.pyplot as plt\n",
    "import seaborn as sns\n",
    "from scipy import stats\n",
    "import math"
   ]
  },
  {
   "cell_type": "code",
   "execution_count": 1184,
   "metadata": {},
   "outputs": [
    {
     "data": {
      "text/html": [
       "<div>\n",
       "<style scoped>\n",
       "    .dataframe tbody tr th:only-of-type {\n",
       "        vertical-align: middle;\n",
       "    }\n",
       "\n",
       "    .dataframe tbody tr th {\n",
       "        vertical-align: top;\n",
       "    }\n",
       "\n",
       "    .dataframe thead th {\n",
       "        text-align: right;\n",
       "    }\n",
       "</style>\n",
       "<table border=\"1\" class=\"dataframe\">\n",
       "  <thead>\n",
       "    <tr style=\"text-align: right;\">\n",
       "      <th></th>\n",
       "      <th>employee_id</th>\n",
       "      <th>department</th>\n",
       "      <th>region</th>\n",
       "      <th>education</th>\n",
       "      <th>gender</th>\n",
       "      <th>recruitment_channel</th>\n",
       "      <th>no_of_trainings</th>\n",
       "      <th>age</th>\n",
       "      <th>previous_year_rating</th>\n",
       "      <th>length_of_service</th>\n",
       "      <th>KPIs_met &gt;80%</th>\n",
       "      <th>awards_won?</th>\n",
       "      <th>avg_training_score</th>\n",
       "      <th>is_promoted</th>\n",
       "    </tr>\n",
       "  </thead>\n",
       "  <tbody>\n",
       "    <tr>\n",
       "      <th>0</th>\n",
       "      <td>65438</td>\n",
       "      <td>Sales &amp; Marketing</td>\n",
       "      <td>region_7</td>\n",
       "      <td>Master's &amp; above</td>\n",
       "      <td>f</td>\n",
       "      <td>sourcing</td>\n",
       "      <td>1</td>\n",
       "      <td>35</td>\n",
       "      <td>5.0</td>\n",
       "      <td>8</td>\n",
       "      <td>1</td>\n",
       "      <td>0</td>\n",
       "      <td>49</td>\n",
       "      <td>0</td>\n",
       "    </tr>\n",
       "    <tr>\n",
       "      <th>1</th>\n",
       "      <td>65141</td>\n",
       "      <td>Operations</td>\n",
       "      <td>region_22</td>\n",
       "      <td>Bachelor's</td>\n",
       "      <td>m</td>\n",
       "      <td>other</td>\n",
       "      <td>1</td>\n",
       "      <td>30</td>\n",
       "      <td>5.0</td>\n",
       "      <td>4</td>\n",
       "      <td>0</td>\n",
       "      <td>0</td>\n",
       "      <td>60</td>\n",
       "      <td>0</td>\n",
       "    </tr>\n",
       "    <tr>\n",
       "      <th>2</th>\n",
       "      <td>7513</td>\n",
       "      <td>Sales &amp; Marketing</td>\n",
       "      <td>region_19</td>\n",
       "      <td>Bachelor's</td>\n",
       "      <td>m</td>\n",
       "      <td>sourcing</td>\n",
       "      <td>1</td>\n",
       "      <td>34</td>\n",
       "      <td>3.0</td>\n",
       "      <td>7</td>\n",
       "      <td>0</td>\n",
       "      <td>0</td>\n",
       "      <td>50</td>\n",
       "      <td>0</td>\n",
       "    </tr>\n",
       "    <tr>\n",
       "      <th>3</th>\n",
       "      <td>2542</td>\n",
       "      <td>Sales &amp; Marketing</td>\n",
       "      <td>region_23</td>\n",
       "      <td>Bachelor's</td>\n",
       "      <td>m</td>\n",
       "      <td>other</td>\n",
       "      <td>2</td>\n",
       "      <td>39</td>\n",
       "      <td>1.0</td>\n",
       "      <td>10</td>\n",
       "      <td>0</td>\n",
       "      <td>0</td>\n",
       "      <td>50</td>\n",
       "      <td>0</td>\n",
       "    </tr>\n",
       "    <tr>\n",
       "      <th>4</th>\n",
       "      <td>48945</td>\n",
       "      <td>Technology</td>\n",
       "      <td>region_26</td>\n",
       "      <td>Bachelor's</td>\n",
       "      <td>m</td>\n",
       "      <td>other</td>\n",
       "      <td>1</td>\n",
       "      <td>45</td>\n",
       "      <td>3.0</td>\n",
       "      <td>2</td>\n",
       "      <td>0</td>\n",
       "      <td>0</td>\n",
       "      <td>73</td>\n",
       "      <td>0</td>\n",
       "    </tr>\n",
       "  </tbody>\n",
       "</table>\n",
       "</div>"
      ],
      "text/plain": [
       "   employee_id         department     region         education gender  \\\n",
       "0        65438  Sales & Marketing   region_7  Master's & above      f   \n",
       "1        65141         Operations  region_22        Bachelor's      m   \n",
       "2         7513  Sales & Marketing  region_19        Bachelor's      m   \n",
       "3         2542  Sales & Marketing  region_23        Bachelor's      m   \n",
       "4        48945         Technology  region_26        Bachelor's      m   \n",
       "\n",
       "  recruitment_channel  no_of_trainings  age  previous_year_rating  \\\n",
       "0            sourcing                1   35                   5.0   \n",
       "1               other                1   30                   5.0   \n",
       "2            sourcing                1   34                   3.0   \n",
       "3               other                2   39                   1.0   \n",
       "4               other                1   45                   3.0   \n",
       "\n",
       "   length_of_service  KPIs_met >80%  awards_won?  avg_training_score  \\\n",
       "0                  8              1            0                  49   \n",
       "1                  4              0            0                  60   \n",
       "2                  7              0            0                  50   \n",
       "3                 10              0            0                  50   \n",
       "4                  2              0            0                  73   \n",
       "\n",
       "   is_promoted  \n",
       "0            0  \n",
       "1            0  \n",
       "2            0  \n",
       "3            0  \n",
       "4            0  "
      ]
     },
     "execution_count": 1184,
     "metadata": {},
     "output_type": "execute_result"
    }
   ],
   "source": [
    "train_df=pd.read_csv(r'C:\\Users\\DEBADRITO\\Desktop\\PROJECT FOR CV\\HR_ANALYTICS\\train_LZdllcl.csv')\n",
    "train_df.head(5)"
   ]
  },
  {
   "cell_type": "code",
   "execution_count": 1185,
   "metadata": {},
   "outputs": [],
   "source": [
    "df=train_df"
   ]
  },
  {
   "cell_type": "code",
   "execution_count": 1186,
   "metadata": {},
   "outputs": [
    {
     "data": {
      "text/html": [
       "<div>\n",
       "<style scoped>\n",
       "    .dataframe tbody tr th:only-of-type {\n",
       "        vertical-align: middle;\n",
       "    }\n",
       "\n",
       "    .dataframe tbody tr th {\n",
       "        vertical-align: top;\n",
       "    }\n",
       "\n",
       "    .dataframe thead th {\n",
       "        text-align: right;\n",
       "    }\n",
       "</style>\n",
       "<table border=\"1\" class=\"dataframe\">\n",
       "  <thead>\n",
       "    <tr style=\"text-align: right;\">\n",
       "      <th></th>\n",
       "      <th>employee_id</th>\n",
       "      <th>department</th>\n",
       "      <th>region</th>\n",
       "      <th>education</th>\n",
       "      <th>gender</th>\n",
       "      <th>recruitment_channel</th>\n",
       "      <th>no_of_trainings</th>\n",
       "      <th>age</th>\n",
       "      <th>previous_year_rating</th>\n",
       "      <th>length_of_service</th>\n",
       "      <th>KPIs_met &gt;80%</th>\n",
       "      <th>awards_won?</th>\n",
       "      <th>avg_training_score</th>\n",
       "    </tr>\n",
       "  </thead>\n",
       "  <tbody>\n",
       "    <tr>\n",
       "      <th>0</th>\n",
       "      <td>8724</td>\n",
       "      <td>Technology</td>\n",
       "      <td>region_26</td>\n",
       "      <td>Bachelor's</td>\n",
       "      <td>m</td>\n",
       "      <td>sourcing</td>\n",
       "      <td>1</td>\n",
       "      <td>24</td>\n",
       "      <td>NaN</td>\n",
       "      <td>1</td>\n",
       "      <td>1</td>\n",
       "      <td>0</td>\n",
       "      <td>77</td>\n",
       "    </tr>\n",
       "    <tr>\n",
       "      <th>1</th>\n",
       "      <td>74430</td>\n",
       "      <td>HR</td>\n",
       "      <td>region_4</td>\n",
       "      <td>Bachelor's</td>\n",
       "      <td>f</td>\n",
       "      <td>other</td>\n",
       "      <td>1</td>\n",
       "      <td>31</td>\n",
       "      <td>3.0</td>\n",
       "      <td>5</td>\n",
       "      <td>0</td>\n",
       "      <td>0</td>\n",
       "      <td>51</td>\n",
       "    </tr>\n",
       "    <tr>\n",
       "      <th>2</th>\n",
       "      <td>72255</td>\n",
       "      <td>Sales &amp; Marketing</td>\n",
       "      <td>region_13</td>\n",
       "      <td>Bachelor's</td>\n",
       "      <td>m</td>\n",
       "      <td>other</td>\n",
       "      <td>1</td>\n",
       "      <td>31</td>\n",
       "      <td>1.0</td>\n",
       "      <td>4</td>\n",
       "      <td>0</td>\n",
       "      <td>0</td>\n",
       "      <td>47</td>\n",
       "    </tr>\n",
       "    <tr>\n",
       "      <th>3</th>\n",
       "      <td>38562</td>\n",
       "      <td>Procurement</td>\n",
       "      <td>region_2</td>\n",
       "      <td>Bachelor's</td>\n",
       "      <td>f</td>\n",
       "      <td>other</td>\n",
       "      <td>3</td>\n",
       "      <td>31</td>\n",
       "      <td>2.0</td>\n",
       "      <td>9</td>\n",
       "      <td>0</td>\n",
       "      <td>0</td>\n",
       "      <td>65</td>\n",
       "    </tr>\n",
       "    <tr>\n",
       "      <th>4</th>\n",
       "      <td>64486</td>\n",
       "      <td>Finance</td>\n",
       "      <td>region_29</td>\n",
       "      <td>Bachelor's</td>\n",
       "      <td>m</td>\n",
       "      <td>sourcing</td>\n",
       "      <td>1</td>\n",
       "      <td>30</td>\n",
       "      <td>4.0</td>\n",
       "      <td>7</td>\n",
       "      <td>0</td>\n",
       "      <td>0</td>\n",
       "      <td>61</td>\n",
       "    </tr>\n",
       "  </tbody>\n",
       "</table>\n",
       "</div>"
      ],
      "text/plain": [
       "   employee_id         department     region   education gender  \\\n",
       "0         8724         Technology  region_26  Bachelor's      m   \n",
       "1        74430                 HR   region_4  Bachelor's      f   \n",
       "2        72255  Sales & Marketing  region_13  Bachelor's      m   \n",
       "3        38562        Procurement   region_2  Bachelor's      f   \n",
       "4        64486            Finance  region_29  Bachelor's      m   \n",
       "\n",
       "  recruitment_channel  no_of_trainings  age  previous_year_rating  \\\n",
       "0            sourcing                1   24                   NaN   \n",
       "1               other                1   31                   3.0   \n",
       "2               other                1   31                   1.0   \n",
       "3               other                3   31                   2.0   \n",
       "4            sourcing                1   30                   4.0   \n",
       "\n",
       "   length_of_service  KPIs_met >80%  awards_won?  avg_training_score  \n",
       "0                  1              1            0                  77  \n",
       "1                  5              0            0                  51  \n",
       "2                  4              0            0                  47  \n",
       "3                  9              0            0                  65  \n",
       "4                  7              0            0                  61  "
      ]
     },
     "execution_count": 1186,
     "metadata": {},
     "output_type": "execute_result"
    }
   ],
   "source": [
    "test_df=pd.read_csv(r'C:\\Users\\DEBADRITO\\Desktop\\PROJECT FOR CV\\HR_ANALYTICS\\test_2umaH9m.csv')\n",
    "test_df.head(5)"
   ]
  },
  {
   "cell_type": "code",
   "execution_count": 1187,
   "metadata": {},
   "outputs": [
    {
     "data": {
      "text/plain": [
       "(54808, 14)"
      ]
     },
     "execution_count": 1187,
     "metadata": {},
     "output_type": "execute_result"
    }
   ],
   "source": [
    "df.shape"
   ]
  },
  {
   "cell_type": "code",
   "execution_count": 1188,
   "metadata": {},
   "outputs": [
    {
     "data": {
      "text/plain": [
       "Index(['employee_id', 'department', 'region', 'education', 'gender',\n",
       "       'recruitment_channel', 'no_of_trainings', 'age', 'previous_year_rating',\n",
       "       'length_of_service', 'KPIs_met >80%', 'awards_won?',\n",
       "       'avg_training_score', 'is_promoted'],\n",
       "      dtype='object')"
      ]
     },
     "execution_count": 1188,
     "metadata": {},
     "output_type": "execute_result"
    }
   ],
   "source": [
    "df.columns.unique()"
   ]
  },
  {
   "cell_type": "code",
   "execution_count": 1189,
   "metadata": {},
   "outputs": [
    {
     "name": "stdout",
     "output_type": "stream",
     "text": [
      "<class 'pandas.core.frame.DataFrame'>\n",
      "RangeIndex: 54808 entries, 0 to 54807\n",
      "Data columns (total 14 columns):\n",
      " #   Column                Non-Null Count  Dtype  \n",
      "---  ------                --------------  -----  \n",
      " 0   employee_id           54808 non-null  int64  \n",
      " 1   department            54808 non-null  object \n",
      " 2   region                54808 non-null  object \n",
      " 3   education             52399 non-null  object \n",
      " 4   gender                54808 non-null  object \n",
      " 5   recruitment_channel   54808 non-null  object \n",
      " 6   no_of_trainings       54808 non-null  int64  \n",
      " 7   age                   54808 non-null  int64  \n",
      " 8   previous_year_rating  50684 non-null  float64\n",
      " 9   length_of_service     54808 non-null  int64  \n",
      " 10  KPIs_met >80%         54808 non-null  int64  \n",
      " 11  awards_won?           54808 non-null  int64  \n",
      " 12  avg_training_score    54808 non-null  int64  \n",
      " 13  is_promoted           54808 non-null  int64  \n",
      "dtypes: float64(1), int64(8), object(5)\n",
      "memory usage: 5.9+ MB\n"
     ]
    }
   ],
   "source": [
    "df.info()"
   ]
  },
  {
   "cell_type": "code",
   "execution_count": 1190,
   "metadata": {},
   "outputs": [
    {
     "data": {
      "text/plain": [
       "employee_id                0\n",
       "department                 0\n",
       "region                     0\n",
       "education               2409\n",
       "gender                     0\n",
       "recruitment_channel        0\n",
       "no_of_trainings            0\n",
       "age                        0\n",
       "previous_year_rating    4124\n",
       "length_of_service          0\n",
       "KPIs_met >80%              0\n",
       "awards_won?                0\n",
       "avg_training_score         0\n",
       "is_promoted                0\n",
       "dtype: int64"
      ]
     },
     "execution_count": 1190,
     "metadata": {},
     "output_type": "execute_result"
    }
   ],
   "source": [
    "train_total = df.isnull().sum()\n",
    "train_total"
   ]
  },
  {
   "cell_type": "code",
   "execution_count": 1191,
   "metadata": {},
   "outputs": [
    {
     "data": {
      "text/plain": [
       "employee_id             0.00\n",
       "department              0.00\n",
       "region                  0.00\n",
       "education               4.40\n",
       "gender                  0.00\n",
       "recruitment_channel     0.00\n",
       "no_of_trainings         0.00\n",
       "age                     0.00\n",
       "previous_year_rating    7.52\n",
       "length_of_service       0.00\n",
       "KPIs_met >80%           0.00\n",
       "awards_won?             0.00\n",
       "avg_training_score      0.00\n",
       "is_promoted             0.00\n",
       "dtype: float64"
      ]
     },
     "execution_count": 1191,
     "metadata": {},
     "output_type": "execute_result"
    }
   ],
   "source": [
    "# Percentage of Null Values in the columns\n",
    "train_percent = ((train_total/54808)*100).round(2)\n",
    "train_percent"
   ]
  },
  {
   "cell_type": "code",
   "execution_count": 1192,
   "metadata": {},
   "outputs": [
    {
     "data": {
      "text/plain": [
       "dtype('O')"
      ]
     },
     "execution_count": 1192,
     "metadata": {},
     "output_type": "execute_result"
    }
   ],
   "source": [
    "#dtypes of the column having null values\n",
    "df.education.dtype         "
   ]
  },
  {
   "cell_type": "code",
   "execution_count": 1193,
   "metadata": {},
   "outputs": [
    {
     "data": {
      "text/plain": [
       "dtype('float64')"
      ]
     },
     "execution_count": 1193,
     "metadata": {},
     "output_type": "execute_result"
    }
   ],
   "source": [
    "df.previous_year_rating.dtype "
   ]
  },
  {
   "cell_type": "markdown",
   "metadata": {},
   "source": [
    "here we have observed that the percentage of the missing value in the categorical column(education) and the numerical column\n",
    "(previous_year_rating) is very less that is less than 25 % so we cant drop these columns. We will be dealing with them after\n",
    "some preliminary analysis."
   ]
  },
  {
   "cell_type": "markdown",
   "metadata": {},
   "source": [
    "### EDA and Descriptive Statistics and Data Wranglingling with Target Variable"
   ]
  },
  {
   "cell_type": "code",
   "execution_count": 1194,
   "metadata": {},
   "outputs": [
    {
     "data": {
      "text/plain": [
       "<matplotlib.axes._subplots.AxesSubplot at 0x1c1338b46a0>"
      ]
     },
     "execution_count": 1194,
     "metadata": {},
     "output_type": "execute_result"
    },
    {
     "data": {
      "image/png": "[encoded data removed]",
      "text/plain": [
       "<Figure size 864x360 with 1 Axes>"
      ]
     },
     "metadata": {
      "needs_background": "light"
     },
     "output_type": "display_data"
    }
   ],
   "source": [
    "plt.figure(figsize=(12,5))\n",
    "sns.countplot(x='department',data=df)"
   ]
  },
  {
   "cell_type": "code",
   "execution_count": 1195,
   "metadata": {},
   "outputs": [
    {
     "data": {
      "text/plain": [
       "<matplotlib.axes._subplots.AxesSubplot at 0x1c1338830a0>"
      ]
     },
     "execution_count": 1195,
     "metadata": {},
     "output_type": "execute_result"
    },
    {
     "data": {
      "image/png": "[encoded data removed]",
      "text/plain": [
       "<Figure size 576x360 with 1 Axes>"
      ]
     },
     "metadata": {
      "needs_background": "light"
     },
     "output_type": "display_data"
    }
   ],
   "source": [
    "plt.figure(figsize=(8,5))\n",
    "sns.countplot(x='education',data=df)"
   ]
  },
  {
   "cell_type": "code",
   "execution_count": 1196,
   "metadata": {},
   "outputs": [
    {
     "data": {
      "text/plain": [
       "<matplotlib.axes._subplots.AxesSubplot at 0x1c133bb5ca0>"
      ]
     },
     "execution_count": 1196,
     "metadata": {},
     "output_type": "execute_result"
    },
    {
     "data": {
      "image/png": "[encoded data removed]",
      "text/plain": [
       "<Figure size 576x360 with 1 Axes>"
      ]
     },
     "metadata": {
      "needs_background": "light"
     },
     "output_type": "display_data"
    }
   ],
   "source": [
    "plt.figure(figsize=(8,5))\n",
    "sns.countplot(x='gender',data=df)"
   ]
  },
  {
   "cell_type": "code",
   "execution_count": 1197,
   "metadata": {},
   "outputs": [
    {
     "data": {
      "text/plain": [
       "<matplotlib.axes._subplots.AxesSubplot at 0x1c133bf5190>"
      ]
     },
     "execution_count": 1197,
     "metadata": {},
     "output_type": "execute_result"
    },
    {
     "data": {
      "image/png": "[encoded data removed]",
      "text/plain": [
       "<Figure size 576x360 with 1 Axes>"
      ]
     },
     "metadata": {
      "needs_background": "light"
     },
     "output_type": "display_data"
    }
   ],
   "source": [
    "plt.figure(figsize=(8,5))\n",
    "sns.countplot(x='recruitment_channel',data=df)"
   ]
  },
  {
   "cell_type": "code",
   "execution_count": 1198,
   "metadata": {},
   "outputs": [
    {
     "data": {
      "text/plain": [
       "<matplotlib.axes._subplots.AxesSubplot at 0x1c133c44f10>"
      ]
     },
     "execution_count": 1198,
     "metadata": {},
     "output_type": "execute_result"
    },
    {
     "data": {
      "image/png": "[encoded data removed]",
      "text/plain": [
       "<Figure size 576x360 with 1 Axes>"
      ]
     },
     "metadata": {
      "needs_background": "light"
     },
     "output_type": "display_data"
    }
   ],
   "source": [
    "plt.figure(figsize=(8,5))\n",
    "sns.countplot(x='no_of_trainings',data=df)"
   ]
  },
  {
   "cell_type": "code",
   "execution_count": 1199,
   "metadata": {},
   "outputs": [
    {
     "data": {
      "text/plain": [
       "1     44378\n",
       "2      7987\n",
       "3      1776\n",
       "4       468\n",
       "5       128\n",
       "6        44\n",
       "7        12\n",
       "10        5\n",
       "9         5\n",
       "8         5\n",
       "Name: no_of_trainings, dtype: int64"
      ]
     },
     "execution_count": 1199,
     "metadata": {},
     "output_type": "execute_result"
    }
   ],
   "source": [
    "df.no_of_trainings.value_counts()"
   ]
  },
  {
   "cell_type": "code",
   "execution_count": 1200,
   "metadata": {},
   "outputs": [
    {
     "data": {
      "text/plain": [
       "30    3665\n",
       "31    3534\n",
       "32    3534\n",
       "29    3405\n",
       "33    3210\n",
       "28    3147\n",
       "34    3076\n",
       "27    2827\n",
       "35    2711\n",
       "36    2517\n",
       "37    2165\n",
       "26    2060\n",
       "38    1923\n",
       "39    1695\n",
       "40    1663\n",
       "25    1299\n",
       "41    1289\n",
       "42    1149\n",
       "43     992\n",
       "44     847\n",
       "24     845\n",
       "45     760\n",
       "46     697\n",
       "47     557\n",
       "48     557\n",
       "50     521\n",
       "49     441\n",
       "23     428\n",
       "51     389\n",
       "53     364\n",
       "52     351\n",
       "54     313\n",
       "55     294\n",
       "56     264\n",
       "57     238\n",
       "22     231\n",
       "60     217\n",
       "58     213\n",
       "59     209\n",
       "20     113\n",
       "21      98\n",
       "Name: age, dtype: int64"
      ]
     },
     "execution_count": 1200,
     "metadata": {},
     "output_type": "execute_result"
    }
   ],
   "source": [
    "#checking if this continuos variable is actually traced to categorical\n",
    "df.age.value_counts()"
   ]
  },
  {
   "cell_type": "code",
   "execution_count": 1201,
   "metadata": {},
   "outputs": [
    {
     "data": {
      "text/plain": [
       "<matplotlib.axes._subplots.AxesSubplot at 0x1c133bfdc10>"
      ]
     },
     "execution_count": 1201,
     "metadata": {},
     "output_type": "execute_result"
    },
    {
     "data": {
      "image/png": "[encoded data removed]",
      "text/plain": [
       "<Figure size 576x360 with 1 Axes>"
      ]
     },
     "metadata": {
      "needs_background": "light"
     },
     "output_type": "display_data"
    }
   ],
   "source": [
    "plt.figure(figsize=(8,5))\n",
    "sns.countplot(x='previous_year_rating',data=df)"
   ]
  },
  {
   "cell_type": "code",
   "execution_count": 1202,
   "metadata": {},
   "outputs": [
    {
     "data": {
      "text/plain": [
       "Index(['employee_id', 'department', 'region', 'education', 'gender',\n",
       "       'recruitment_channel', 'no_of_trainings', 'age', 'previous_year_rating',\n",
       "       'length_of_service', 'KPIs_met >80%', 'awards_won?',\n",
       "       'avg_training_score', 'is_promoted'],\n",
       "      dtype='object')"
      ]
     },
     "execution_count": 1202,
     "metadata": {},
     "output_type": "execute_result"
    }
   ],
   "source": [
    "df.columns.unique()"
   ]
  },
  {
   "cell_type": "code",
   "execution_count": 1203,
   "metadata": {},
   "outputs": [
    {
     "data": {
      "text/plain": [
       "<matplotlib.axes._subplots.AxesSubplot at 0x1c1341f6eb0>"
      ]
     },
     "execution_count": 1203,
     "metadata": {},
     "output_type": "execute_result"
    },
    {
     "data": {
      "image/png": "[encoded data removed]",
      "text/plain": [
       "<Figure size 576x360 with 1 Axes>"
      ]
     },
     "metadata": {
      "needs_background": "light"
     },
     "output_type": "display_data"
    }
   ],
   "source": [
    "plt.figure(figsize=(8,5))\n",
    "sns.countplot(x='length_of_service',data=df)"
   ]
  },
  {
   "cell_type": "code",
   "execution_count": 1204,
   "metadata": {},
   "outputs": [
    {
     "data": {
      "text/plain": [
       "3     7033\n",
       "4     6836\n",
       "2     6684\n",
       "5     5832\n",
       "7     5551\n",
       "6     4734\n",
       "1     4547\n",
       "8     2883\n",
       "9     2629\n",
       "10    2193\n",
       "11     916\n",
       "12     794\n",
       "13     687\n",
       "15     593\n",
       "14     549\n",
       "16     548\n",
       "17     432\n",
       "18     392\n",
       "19     329\n",
       "20     128\n",
       "21      78\n",
       "24      70\n",
       "23      65\n",
       "22      61\n",
       "25      51\n",
       "26      41\n",
       "27      36\n",
       "28      30\n",
       "29      30\n",
       "31      20\n",
       "30      12\n",
       "32      10\n",
       "33       9\n",
       "34       4\n",
       "37       1\n",
       "Name: length_of_service, dtype: int64"
      ]
     },
     "execution_count": 1204,
     "metadata": {},
     "output_type": "execute_result"
    }
   ],
   "source": [
    "df.length_of_service.value_counts()"
   ]
  },
  {
   "cell_type": "code",
   "execution_count": 1205,
   "metadata": {},
   "outputs": [
    {
     "data": {
      "text/plain": [
       "<matplotlib.axes._subplots.AxesSubplot at 0x1c1342ce130>"
      ]
     },
     "execution_count": 1205,
     "metadata": {},
     "output_type": "execute_result"
    },
    {
     "data": {
      "image/png": "[encoded data removed]",
      "text/plain": [
       "<Figure size 2160x864 with 1 Axes>"
      ]
     },
     "metadata": {
      "needs_background": "light"
     },
     "output_type": "display_data"
    }
   ],
   "source": [
    "plt.figure(figsize=(30,12))\n",
    "sns.countplot(x='region',data=df)"
   ]
  },
  {
   "cell_type": "code",
   "execution_count": 1206,
   "metadata": {},
   "outputs": [
    {
     "data": {
      "text/plain": [
       "region_2     12343\n",
       "region_22     6428\n",
       "region_7      4843\n",
       "region_15     2808\n",
       "region_13     2648\n",
       "region_26     2260\n",
       "region_31     1935\n",
       "region_4      1703\n",
       "region_27     1659\n",
       "region_16     1465\n",
       "region_28     1318\n",
       "region_11     1315\n",
       "region_23     1175\n",
       "region_29      994\n",
       "region_32      945\n",
       "region_19      874\n",
       "region_20      850\n",
       "region_14      827\n",
       "region_25      819\n",
       "region_17      796\n",
       "region_5       766\n",
       "region_6       690\n",
       "region_30      657\n",
       "region_8       655\n",
       "region_10      648\n",
       "region_1       610\n",
       "region_24      508\n",
       "region_12      500\n",
       "region_9       420\n",
       "region_21      411\n",
       "region_3       346\n",
       "region_34      292\n",
       "region_33      269\n",
       "region_18       31\n",
       "Name: region, dtype: int64"
      ]
     },
     "execution_count": 1206,
     "metadata": {},
     "output_type": "execute_result"
    }
   ],
   "source": [
    "df.region.value_counts() "
   ]
  },
  {
   "cell_type": "code",
   "execution_count": 1207,
   "metadata": {},
   "outputs": [
    {
     "data": {
      "text/plain": [
       "<matplotlib.axes._subplots.AxesSubplot at 0x1c133baef70>"
      ]
     },
     "execution_count": 1207,
     "metadata": {},
     "output_type": "execute_result"
    },
    {
     "data": {
      "image/png": "[encoded data removed]",
      "text/plain": [
       "<Figure size 576x360 with 1 Axes>"
      ]
     },
     "metadata": {
      "needs_background": "light"
     },
     "output_type": "display_data"
    }
   ],
   "source": [
    "plt.figure(figsize=(8,5))\n",
    "sns.countplot(x='KPIs_met >80%',data=df)"
   ]
  },
  {
   "cell_type": "code",
   "execution_count": 1208,
   "metadata": {},
   "outputs": [
    {
     "data": {
      "text/plain": [
       "<matplotlib.axes._subplots.AxesSubplot at 0x1c134284c40>"
      ]
     },
     "execution_count": 1208,
     "metadata": {},
     "output_type": "execute_result"
    },
    {
     "data": {
      "image/png": "[encoded data removed]",
      "text/plain": [
       "<Figure size 576x360 with 1 Axes>"
      ]
     },
     "metadata": {
      "needs_background": "light"
     },
     "output_type": "display_data"
    }
   ],
   "source": [
    "plt.figure(figsize=(8,5))\n",
    "sns.countplot(x='awards_won?',data=df)"
   ]
  },
  {
   "cell_type": "code",
   "execution_count": 1209,
   "metadata": {},
   "outputs": [
    {
     "name": "stdout",
     "output_type": "stream",
     "text": [
      "<class 'pandas.core.frame.DataFrame'>\n",
      "RangeIndex: 54808 entries, 0 to 54807\n",
      "Data columns (total 14 columns):\n",
      " #   Column                Non-Null Count  Dtype  \n",
      "---  ------                --------------  -----  \n",
      " 0   employee_id           54808 non-null  int64  \n",
      " 1   department            54808 non-null  object \n",
      " 2   region                54808 non-null  object \n",
      " 3   education             52399 non-null  object \n",
      " 4   gender                54808 non-null  object \n",
      " 5   recruitment_channel   54808 non-null  object \n",
      " 6   no_of_trainings       54808 non-null  int64  \n",
      " 7   age                   54808 non-null  int64  \n",
      " 8   previous_year_rating  50684 non-null  float64\n",
      " 9   length_of_service     54808 non-null  int64  \n",
      " 10  KPIs_met >80%         54808 non-null  int64  \n",
      " 11  awards_won?           54808 non-null  int64  \n",
      " 12  avg_training_score    54808 non-null  int64  \n",
      " 13  is_promoted           54808 non-null  int64  \n",
      "dtypes: float64(1), int64(8), object(5)\n",
      "memory usage: 5.9+ MB\n"
     ]
    }
   ],
   "source": [
    "df.info()"
   ]
  },
  {
   "cell_type": "code",
   "execution_count": 1210,
   "metadata": {},
   "outputs": [
    {
     "data": {
      "text/plain": [
       "50    2716\n",
       "49    2681\n",
       "48    2437\n",
       "51    2347\n",
       "60    2155\n",
       "      ... \n",
       "98      37\n",
       "99      35\n",
       "41      26\n",
       "40       5\n",
       "39       2\n",
       "Name: avg_training_score, Length: 61, dtype: int64"
      ]
     },
     "execution_count": 1210,
     "metadata": {},
     "output_type": "execute_result"
    }
   ],
   "source": [
    "df.avg_training_score.value_counts()"
   ]
  },
  {
   "cell_type": "code",
   "execution_count": 1211,
   "metadata": {
    "scrolled": true
   },
   "outputs": [
    {
     "data": {
      "text/plain": [
       "<matplotlib.axes._subplots.AxesSubplot at 0x1c13445abb0>"
      ]
     },
     "execution_count": 1211,
     "metadata": {},
     "output_type": "execute_result"
    },
    {
     "data": {
      "image/png": "[encoded data removed]",
      "text/plain": [
       "<Figure size 576x360 with 1 Axes>"
      ]
     },
     "metadata": {
      "needs_background": "light"
     },
     "output_type": "display_data"
    }
   ],
   "source": [
    "#Target\n",
    "plt.figure(figsize=(8,5))\n",
    "sns.countplot(x='is_promoted',data=df)"
   ]
  },
  {
   "cell_type": "code",
   "execution_count": 1212,
   "metadata": {},
   "outputs": [],
   "source": [
    "#Interpretation"
   ]
  },
  {
   "cell_type": "markdown",
   "metadata": {},
   "source": [
    "#### Interpretation\n",
    "<br/>\n",
    "Eventhough the data types of the following variables are int but they can be traced as categorical variables<br/>\n",
    "1. KPIs_met >80%    (0,1)<br/>\n",
    "2. awards_won?      (0,1)<br/>\n",
    "3. is_promoted      (0,1) <br/>\n",
    "<br/>\n",
    "We would Like to make brackets of category for <b>age</b> also but since the range is some what big we are not putting<br/>\n",
    "it into any brackets without domain experts knowledge.Same for <b>length_of_service</b> and  <b>avg_training_score </b>     \n",
    "<br/><br/>\n",
    "<b>no_of_trainings</b> can be traced as category since it takes (1-8) in numbers.   \n",
    "<br/>\n",
    "<br/><b>previous_year_rating</b>  can also be traced as categorical variable eventhough its d.type is float\n",
    "but it takes discrete values of(1,2,3,4 and 5)<br/>"
   ]
  },
  {
   "cell_type": "code",
   "execution_count": 1213,
   "metadata": {},
   "outputs": [],
   "source": [
    "#continuos variables"
   ]
  },
  {
   "cell_type": "code",
   "execution_count": 1214,
   "metadata": {},
   "outputs": [],
   "source": [
    "def desc_stat(x):\n",
    "    \n",
    "     \n",
    "            \n",
    "       Median = np.median(df[x]) \n",
    "       \n",
    "       Mean   = np.mean(df[x])\n",
    "    \n",
    "       Mode   =  df[x].mode()[0]     \n",
    "       \n",
    "       plt.figure(figsize=(7,4))\n",
    "\n",
    "       ax=sns.distplot(df[x],hist=False,bins=30,color=\"lime\")\n",
    "\n",
    "       ax.axvline(Mean,label='Mean',color='r',linestyle=\":\",linewidth=3)\n",
    "\n",
    "       ax.axvline(Median,label='Median',color='b',linestyle=\"-\",linewidth=2)\n",
    "    \n",
    "       ax.axvline(Mode,label='Median',color='g',linestyle=\"-\",linewidth=2)\n",
    "\n",
    "       plt.legend({'Mean':Mean,'Median':Median,'Mode':Mode})\n",
    "\n",
    "\n",
    "       plt.show"
   ]
  },
  {
   "cell_type": "code",
   "execution_count": 1215,
   "metadata": {},
   "outputs": [
    {
     "data": {
      "image/png": "[encoded data removed]",
      "text/plain": [
       "<Figure size 504x288 with 1 Axes>"
      ]
     },
     "metadata": {
      "needs_background": "light"
     },
     "output_type": "display_data"
    }
   ],
   "source": [
    "desc_stat(\"age\")"
   ]
  },
  {
   "cell_type": "markdown",
   "metadata": {},
   "source": [
    "Positively skewed"
   ]
  },
  {
   "cell_type": "code",
   "execution_count": 1216,
   "metadata": {},
   "outputs": [
    {
     "data": {
      "image/png": "[encoded data removed]",
      "text/plain": [
       "<Figure size 504x288 with 1 Axes>"
      ]
     },
     "metadata": {
      "needs_background": "light"
     },
     "output_type": "display_data"
    }
   ],
   "source": [
    "desc_stat(\"length_of_service\")"
   ]
  },
  {
   "cell_type": "markdown",
   "metadata": {},
   "source": [
    "Positively skewed"
   ]
  },
  {
   "cell_type": "code",
   "execution_count": 1217,
   "metadata": {},
   "outputs": [
    {
     "data": {
      "image/png": "[encoded data removed]",
      "text/plain": [
       "<Figure size 504x288 with 1 Axes>"
      ]
     },
     "metadata": {
      "needs_background": "light"
     },
     "output_type": "display_data"
    }
   ],
   "source": [
    "desc_stat(\"avg_training_score\")"
   ]
  },
  {
   "cell_type": "markdown",
   "metadata": {},
   "source": [
    "Positively skewed"
   ]
  },
  {
   "cell_type": "code",
   "execution_count": 1218,
   "metadata": {},
   "outputs": [
    {
     "data": {
      "text/plain": [
       "<matplotlib.axes._subplots.AxesSubplot at 0x1c1341faee0>"
      ]
     },
     "execution_count": 1218,
     "metadata": {},
     "output_type": "execute_result"
    },
    {
     "data": {
      "image/png": "[encoded data removed]",
      "text/plain": [
       "<Figure size 720x720 with 1 Axes>"
      ]
     },
     "metadata": {
      "needs_background": "light"
     },
     "output_type": "display_data"
    }
   ],
   "source": [
    "#boxplot\n",
    "\n",
    "plt.figure(figsize=(10,10))\n",
    "\n",
    "sns.boxplot(data=df[['age','length_of_service','avg_training_score']])"
   ]
  },
  {
   "cell_type": "code",
   "execution_count": 1219,
   "metadata": {},
   "outputs": [],
   "source": [
    "#Preliminary Inference from heat-map"
   ]
  },
  {
   "cell_type": "markdown",
   "metadata": {},
   "source": [
    "### Data Cleaning,Preparing and Preprocessing"
   ]
  },
  {
   "cell_type": "code",
   "execution_count": 1220,
   "metadata": {},
   "outputs": [
    {
     "name": "stdout",
     "output_type": "stream",
     "text": [
      "<class 'pandas.core.frame.DataFrame'>\n",
      "RangeIndex: 54808 entries, 0 to 54807\n",
      "Data columns (total 14 columns):\n",
      " #   Column                Non-Null Count  Dtype  \n",
      "---  ------                --------------  -----  \n",
      " 0   employee_id           54808 non-null  int64  \n",
      " 1   department            54808 non-null  object \n",
      " 2   region                54808 non-null  object \n",
      " 3   education             52399 non-null  object \n",
      " 4   gender                54808 non-null  object \n",
      " 5   recruitment_channel   54808 non-null  object \n",
      " 6   no_of_trainings       54808 non-null  int64  \n",
      " 7   age                   54808 non-null  int64  \n",
      " 8   previous_year_rating  50684 non-null  float64\n",
      " 9   length_of_service     54808 non-null  int64  \n",
      " 10  KPIs_met >80%         54808 non-null  int64  \n",
      " 11  awards_won?           54808 non-null  int64  \n",
      " 12  avg_training_score    54808 non-null  int64  \n",
      " 13  is_promoted           54808 non-null  int64  \n",
      "dtypes: float64(1), int64(8), object(5)\n",
      "memory usage: 5.9+ MB\n"
     ]
    }
   ],
   "source": [
    "df.info()"
   ]
  },
  {
   "cell_type": "markdown",
   "metadata": {},
   "source": [
    "###### dealing with missing values"
   ]
  },
  {
   "cell_type": "code",
   "execution_count": 1221,
   "metadata": {},
   "outputs": [
    {
     "data": {
      "text/plain": [
       "Bachelor's          36669\n",
       "Master's & above    14925\n",
       "Below Secondary       805\n",
       "Name: education, dtype: int64"
      ]
     },
     "execution_count": 1221,
     "metadata": {},
     "output_type": "execute_result"
    }
   ],
   "source": [
    "#Education (4.40% Null as observed before)\n",
    "\n",
    "df.education.value_counts()"
   ]
  },
  {
   "cell_type": "code",
   "execution_count": 1222,
   "metadata": {},
   "outputs": [],
   "source": [
    "#since the frequently occuring observation here is Bachelor's so we will be replacing null with this."
   ]
  },
  {
   "cell_type": "code",
   "execution_count": 1223,
   "metadata": {},
   "outputs": [],
   "source": [
    "df.education.fillna(\"Bachelor's\",inplace=True)"
   ]
  },
  {
   "cell_type": "code",
   "execution_count": 1224,
   "metadata": {},
   "outputs": [
    {
     "data": {
      "text/plain": [
       "Bachelor's          39078\n",
       "Master's & above    14925\n",
       "Below Secondary       805\n",
       "Name: education, dtype: int64"
      ]
     },
     "execution_count": 1224,
     "metadata": {},
     "output_type": "execute_result"
    }
   ],
   "source": [
    "#Taking look at the counts(if changes happened)\n",
    "\n",
    "df.education.value_counts()"
   ]
  },
  {
   "cell_type": "code",
   "execution_count": 1225,
   "metadata": {},
   "outputs": [
    {
     "data": {
      "text/plain": [
       "0"
      ]
     },
     "execution_count": 1225,
     "metadata": {},
     "output_type": "execute_result"
    }
   ],
   "source": [
    "df.education.isnull().sum()"
   ]
  },
  {
   "cell_type": "code",
   "execution_count": 1226,
   "metadata": {},
   "outputs": [
    {
     "data": {
      "text/plain": [
       "dtype('O')"
      ]
     },
     "execution_count": 1226,
     "metadata": {},
     "output_type": "execute_result"
    }
   ],
   "source": [
    "df.education.dtype"
   ]
  },
  {
   "cell_type": "code",
   "execution_count": 1227,
   "metadata": {},
   "outputs": [],
   "source": [
    "#previous_year_rating (7.52% Null as observed before) -dtype float"
   ]
  },
  {
   "cell_type": "code",
   "execution_count": 1228,
   "metadata": {},
   "outputs": [],
   "source": [
    "#As we have already mentioned earlier previous_year_rating can also be traced as categorical variable\n",
    "#eventhough its d.type is float but it takes discrete values of(1,2,3,4 and 5)\n",
    "#we can replace it wth the most frequently occuring discrete value"
   ]
  },
  {
   "cell_type": "code",
   "execution_count": 1229,
   "metadata": {},
   "outputs": [
    {
     "data": {
      "text/plain": [
       "<matplotlib.axes._subplots.AxesSubplot at 0x1c1345e3ca0>"
      ]
     },
     "execution_count": 1229,
     "metadata": {},
     "output_type": "execute_result"
    },
    {
     "data": {
      "image/png": "[encoded data removed]",
      "text/plain": [
       "<Figure size 576x360 with 1 Axes>"
      ]
     },
     "metadata": {
      "needs_background": "light"
     },
     "output_type": "display_data"
    }
   ],
   "source": [
    "plt.figure(figsize=(8,5))\n",
    "sns.countplot(x='previous_year_rating',data=df)"
   ]
  },
  {
   "cell_type": "code",
   "execution_count": 1230,
   "metadata": {},
   "outputs": [
    {
     "data": {
      "text/plain": [
       "3.329255780917055"
      ]
     },
     "execution_count": 1230,
     "metadata": {},
     "output_type": "execute_result"
    }
   ],
   "source": [
    "df[\"previous_year_rating\"].mean()"
   ]
  },
  {
   "cell_type": "code",
   "execution_count": 1231,
   "metadata": {},
   "outputs": [
    {
     "data": {
      "text/plain": [
       "3.0    18618\n",
       "5.0    11741\n",
       "4.0     9877\n",
       "1.0     6223\n",
       "2.0     4225\n",
       "Name: previous_year_rating, dtype: int64"
      ]
     },
     "execution_count": 1231,
     "metadata": {},
     "output_type": "execute_result"
    }
   ],
   "source": [
    "df.previous_year_rating.value_counts()"
   ]
  },
  {
   "cell_type": "code",
   "execution_count": 1232,
   "metadata": {},
   "outputs": [],
   "source": [
    "#from here we can see even the mean of this variable is 3 approximately\n",
    "#So we will be replacing the null values with 3.0 and we wont be changing the dtype without business experts knowledge"
   ]
  },
  {
   "cell_type": "code",
   "execution_count": 1233,
   "metadata": {},
   "outputs": [],
   "source": [
    "df.previous_year_rating.fillna(3.0,inplace=True)"
   ]
  },
  {
   "cell_type": "code",
   "execution_count": 1234,
   "metadata": {},
   "outputs": [
    {
     "data": {
      "text/plain": [
       "3.0    22742\n",
       "5.0    11741\n",
       "4.0     9877\n",
       "1.0     6223\n",
       "2.0     4225\n",
       "Name: previous_year_rating, dtype: int64"
      ]
     },
     "execution_count": 1234,
     "metadata": {},
     "output_type": "execute_result"
    }
   ],
   "source": [
    "#Taking look at the counts(if changes happened)\n",
    "\n",
    "df.previous_year_rating.value_counts()"
   ]
  },
  {
   "cell_type": "code",
   "execution_count": 1235,
   "metadata": {},
   "outputs": [
    {
     "data": {
      "text/plain": [
       "0"
      ]
     },
     "execution_count": 1235,
     "metadata": {},
     "output_type": "execute_result"
    }
   ],
   "source": [
    "df.previous_year_rating.isnull().sum()"
   ]
  },
  {
   "cell_type": "code",
   "execution_count": 1236,
   "metadata": {},
   "outputs": [
    {
     "data": {
      "text/plain": [
       "dtype('float64')"
      ]
     },
     "execution_count": 1236,
     "metadata": {},
     "output_type": "execute_result"
    }
   ],
   "source": [
    "df.previous_year_rating.dtype"
   ]
  },
  {
   "cell_type": "markdown",
   "metadata": {},
   "source": [
    "###### Rechecking if no null is present"
   ]
  },
  {
   "cell_type": "code",
   "execution_count": 1237,
   "metadata": {},
   "outputs": [
    {
     "data": {
      "text/plain": [
       "employee_id             0\n",
       "department              0\n",
       "region                  0\n",
       "education               0\n",
       "gender                  0\n",
       "recruitment_channel     0\n",
       "no_of_trainings         0\n",
       "age                     0\n",
       "previous_year_rating    0\n",
       "length_of_service       0\n",
       "KPIs_met >80%           0\n",
       "awards_won?             0\n",
       "avg_training_score      0\n",
       "is_promoted             0\n",
       "dtype: int64"
      ]
     },
     "execution_count": 1237,
     "metadata": {},
     "output_type": "execute_result"
    }
   ],
   "source": [
    "df.isnull().sum()"
   ]
  },
  {
   "cell_type": "markdown",
   "metadata": {},
   "source": [
    "<b>Outliers</b><br/>\n",
    "We are not dealing with the outliers as of now for 'age','length_of_service'and 'avg_training_score' as because \n",
    "these 3 features may have influence over promotion so changing randomly with mean value may be an issue. We need sufficient\n",
    "business experts view point on this."
   ]
  },
  {
   "cell_type": "markdown",
   "metadata": {},
   "source": [
    "#### Replacing categorical columns with numerical columns"
   ]
  },
  {
   "cell_type": "code",
   "execution_count": 1238,
   "metadata": {},
   "outputs": [
    {
     "data": {
      "text/plain": [
       "array(['Sales & Marketing', 'Operations', 'Technology', 'Analytics',\n",
       "       'R&D', 'Procurement', 'Finance', 'HR', 'Legal'], dtype=object)"
      ]
     },
     "execution_count": 1238,
     "metadata": {},
     "output_type": "execute_result"
    }
   ],
   "source": [
    "df.department.unique()"
   ]
  },
  {
   "cell_type": "code",
   "execution_count": 1239,
   "metadata": {},
   "outputs": [
    {
     "data": {
      "text/html": [
       "<div>\n",
       "<style scoped>\n",
       "    .dataframe tbody tr th:only-of-type {\n",
       "        vertical-align: middle;\n",
       "    }\n",
       "\n",
       "    .dataframe tbody tr th {\n",
       "        vertical-align: top;\n",
       "    }\n",
       "\n",
       "    .dataframe thead th {\n",
       "        text-align: right;\n",
       "    }\n",
       "</style>\n",
       "<table border=\"1\" class=\"dataframe\">\n",
       "  <thead>\n",
       "    <tr style=\"text-align: right;\">\n",
       "      <th></th>\n",
       "      <th>employee_id</th>\n",
       "      <th>department</th>\n",
       "      <th>region</th>\n",
       "      <th>education</th>\n",
       "      <th>gender</th>\n",
       "      <th>recruitment_channel</th>\n",
       "      <th>no_of_trainings</th>\n",
       "      <th>age</th>\n",
       "      <th>previous_year_rating</th>\n",
       "      <th>length_of_service</th>\n",
       "      <th>...</th>\n",
       "      <th>is_promoted</th>\n",
       "      <th>department_Analytics</th>\n",
       "      <th>department_Finance</th>\n",
       "      <th>department_HR</th>\n",
       "      <th>department_Legal</th>\n",
       "      <th>department_Operations</th>\n",
       "      <th>department_Procurement</th>\n",
       "      <th>department_R&amp;D</th>\n",
       "      <th>department_Sales &amp; Marketing</th>\n",
       "      <th>department_Technology</th>\n",
       "    </tr>\n",
       "  </thead>\n",
       "  <tbody>\n",
       "    <tr>\n",
       "      <th>0</th>\n",
       "      <td>65438</td>\n",
       "      <td>Sales &amp; Marketing</td>\n",
       "      <td>region_7</td>\n",
       "      <td>Master's &amp; above</td>\n",
       "      <td>f</td>\n",
       "      <td>sourcing</td>\n",
       "      <td>1</td>\n",
       "      <td>35</td>\n",
       "      <td>5.0</td>\n",
       "      <td>8</td>\n",
       "      <td>...</td>\n",
       "      <td>0</td>\n",
       "      <td>0</td>\n",
       "      <td>0</td>\n",
       "      <td>0</td>\n",
       "      <td>0</td>\n",
       "      <td>0</td>\n",
       "      <td>0</td>\n",
       "      <td>0</td>\n",
       "      <td>1</td>\n",
       "      <td>0</td>\n",
       "    </tr>\n",
       "    <tr>\n",
       "      <th>1</th>\n",
       "      <td>65141</td>\n",
       "      <td>Operations</td>\n",
       "      <td>region_22</td>\n",
       "      <td>Bachelor's</td>\n",
       "      <td>m</td>\n",
       "      <td>other</td>\n",
       "      <td>1</td>\n",
       "      <td>30</td>\n",
       "      <td>5.0</td>\n",
       "      <td>4</td>\n",
       "      <td>...</td>\n",
       "      <td>0</td>\n",
       "      <td>0</td>\n",
       "      <td>0</td>\n",
       "      <td>0</td>\n",
       "      <td>0</td>\n",
       "      <td>1</td>\n",
       "      <td>0</td>\n",
       "      <td>0</td>\n",
       "      <td>0</td>\n",
       "      <td>0</td>\n",
       "    </tr>\n",
       "    <tr>\n",
       "      <th>2</th>\n",
       "      <td>7513</td>\n",
       "      <td>Sales &amp; Marketing</td>\n",
       "      <td>region_19</td>\n",
       "      <td>Bachelor's</td>\n",
       "      <td>m</td>\n",
       "      <td>sourcing</td>\n",
       "      <td>1</td>\n",
       "      <td>34</td>\n",
       "      <td>3.0</td>\n",
       "      <td>7</td>\n",
       "      <td>...</td>\n",
       "      <td>0</td>\n",
       "      <td>0</td>\n",
       "      <td>0</td>\n",
       "      <td>0</td>\n",
       "      <td>0</td>\n",
       "      <td>0</td>\n",
       "      <td>0</td>\n",
       "      <td>0</td>\n",
       "      <td>1</td>\n",
       "      <td>0</td>\n",
       "    </tr>\n",
       "    <tr>\n",
       "      <th>3</th>\n",
       "      <td>2542</td>\n",
       "      <td>Sales &amp; Marketing</td>\n",
       "      <td>region_23</td>\n",
       "      <td>Bachelor's</td>\n",
       "      <td>m</td>\n",
       "      <td>other</td>\n",
       "      <td>2</td>\n",
       "      <td>39</td>\n",
       "      <td>1.0</td>\n",
       "      <td>10</td>\n",
       "      <td>...</td>\n",
       "      <td>0</td>\n",
       "      <td>0</td>\n",
       "      <td>0</td>\n",
       "      <td>0</td>\n",
       "      <td>0</td>\n",
       "      <td>0</td>\n",
       "      <td>0</td>\n",
       "      <td>0</td>\n",
       "      <td>1</td>\n",
       "      <td>0</td>\n",
       "    </tr>\n",
       "    <tr>\n",
       "      <th>4</th>\n",
       "      <td>48945</td>\n",
       "      <td>Technology</td>\n",
       "      <td>region_26</td>\n",
       "      <td>Bachelor's</td>\n",
       "      <td>m</td>\n",
       "      <td>other</td>\n",
       "      <td>1</td>\n",
       "      <td>45</td>\n",
       "      <td>3.0</td>\n",
       "      <td>2</td>\n",
       "      <td>...</td>\n",
       "      <td>0</td>\n",
       "      <td>0</td>\n",
       "      <td>0</td>\n",
       "      <td>0</td>\n",
       "      <td>0</td>\n",
       "      <td>0</td>\n",
       "      <td>0</td>\n",
       "      <td>0</td>\n",
       "      <td>0</td>\n",
       "      <td>1</td>\n",
       "    </tr>\n",
       "  </tbody>\n",
       "</table>\n",
       "<p>5 rows × 23 columns</p>\n",
       "</div>"
      ],
      "text/plain": [
       "   employee_id         department     region         education gender  \\\n",
       "0        65438  Sales & Marketing   region_7  Master's & above      f   \n",
       "1        65141         Operations  region_22        Bachelor's      m   \n",
       "2         7513  Sales & Marketing  region_19        Bachelor's      m   \n",
       "3         2542  Sales & Marketing  region_23        Bachelor's      m   \n",
       "4        48945         Technology  region_26        Bachelor's      m   \n",
       "\n",
       "  recruitment_channel  no_of_trainings  age  previous_year_rating  \\\n",
       "0            sourcing                1   35                   5.0   \n",
       "1               other                1   30                   5.0   \n",
       "2            sourcing                1   34                   3.0   \n",
       "3               other                2   39                   1.0   \n",
       "4               other                1   45                   3.0   \n",
       "\n",
       "   length_of_service  ...  is_promoted  department_Analytics  \\\n",
       "0                  8  ...            0                     0   \n",
       "1                  4  ...            0                     0   \n",
       "2                  7  ...            0                     0   \n",
       "3                 10  ...            0                     0   \n",
       "4                  2  ...            0                     0   \n",
       "\n",
       "   department_Finance  department_HR  department_Legal  department_Operations  \\\n",
       "0                   0              0                 0                      0   \n",
       "1                   0              0                 0                      1   \n",
       "2                   0              0                 0                      0   \n",
       "3                   0              0                 0                      0   \n",
       "4                   0              0                 0                      0   \n",
       "\n",
       "   department_Procurement  department_R&D  department_Sales & Marketing  \\\n",
       "0                       0               0                             1   \n",
       "1                       0               0                             0   \n",
       "2                       0               0                             1   \n",
       "3                       0               0                             1   \n",
       "4                       0               0                             0   \n",
       "\n",
       "   department_Technology  \n",
       "0                      0  \n",
       "1                      0  \n",
       "2                      0  \n",
       "3                      0  \n",
       "4                      1  \n",
       "\n",
       "[5 rows x 23 columns]"
      ]
     },
     "execution_count": 1239,
     "metadata": {},
     "output_type": "execute_result"
    }
   ],
   "source": [
    "#department\n",
    "\n",
    "department=pd.get_dummies(df['department'],prefix='department')\n",
    "df=pd.concat([df,department],axis=1)\n",
    "df.head(5)"
   ]
  },
  {
   "cell_type": "code",
   "execution_count": 1240,
   "metadata": {},
   "outputs": [
    {
     "data": {
      "text/html": [
       "<div>\n",
       "<style scoped>\n",
       "    .dataframe tbody tr th:only-of-type {\n",
       "        vertical-align: middle;\n",
       "    }\n",
       "\n",
       "    .dataframe tbody tr th {\n",
       "        vertical-align: top;\n",
       "    }\n",
       "\n",
       "    .dataframe thead th {\n",
       "        text-align: right;\n",
       "    }\n",
       "</style>\n",
       "<table border=\"1\" class=\"dataframe\">\n",
       "  <thead>\n",
       "    <tr style=\"text-align: right;\">\n",
       "      <th></th>\n",
       "      <th>employee_id</th>\n",
       "      <th>department</th>\n",
       "      <th>region</th>\n",
       "      <th>education</th>\n",
       "      <th>gender</th>\n",
       "      <th>recruitment_channel</th>\n",
       "      <th>no_of_trainings</th>\n",
       "      <th>age</th>\n",
       "      <th>previous_year_rating</th>\n",
       "      <th>length_of_service</th>\n",
       "      <th>...</th>\n",
       "      <th>department_Finance</th>\n",
       "      <th>department_HR</th>\n",
       "      <th>department_Legal</th>\n",
       "      <th>department_Operations</th>\n",
       "      <th>department_Procurement</th>\n",
       "      <th>department_R&amp;D</th>\n",
       "      <th>department_Sales &amp; Marketing</th>\n",
       "      <th>department_Technology</th>\n",
       "      <th>gender_f</th>\n",
       "      <th>gender_m</th>\n",
       "    </tr>\n",
       "  </thead>\n",
       "  <tbody>\n",
       "    <tr>\n",
       "      <th>0</th>\n",
       "      <td>65438</td>\n",
       "      <td>Sales &amp; Marketing</td>\n",
       "      <td>region_7</td>\n",
       "      <td>Master's &amp; above</td>\n",
       "      <td>f</td>\n",
       "      <td>sourcing</td>\n",
       "      <td>1</td>\n",
       "      <td>35</td>\n",
       "      <td>5.0</td>\n",
       "      <td>8</td>\n",
       "      <td>...</td>\n",
       "      <td>0</td>\n",
       "      <td>0</td>\n",
       "      <td>0</td>\n",
       "      <td>0</td>\n",
       "      <td>0</td>\n",
       "      <td>0</td>\n",
       "      <td>1</td>\n",
       "      <td>0</td>\n",
       "      <td>1</td>\n",
       "      <td>0</td>\n",
       "    </tr>\n",
       "    <tr>\n",
       "      <th>1</th>\n",
       "      <td>65141</td>\n",
       "      <td>Operations</td>\n",
       "      <td>region_22</td>\n",
       "      <td>Bachelor's</td>\n",
       "      <td>m</td>\n",
       "      <td>other</td>\n",
       "      <td>1</td>\n",
       "      <td>30</td>\n",
       "      <td>5.0</td>\n",
       "      <td>4</td>\n",
       "      <td>...</td>\n",
       "      <td>0</td>\n",
       "      <td>0</td>\n",
       "      <td>0</td>\n",
       "      <td>1</td>\n",
       "      <td>0</td>\n",
       "      <td>0</td>\n",
       "      <td>0</td>\n",
       "      <td>0</td>\n",
       "      <td>0</td>\n",
       "      <td>1</td>\n",
       "    </tr>\n",
       "    <tr>\n",
       "      <th>2</th>\n",
       "      <td>7513</td>\n",
       "      <td>Sales &amp; Marketing</td>\n",
       "      <td>region_19</td>\n",
       "      <td>Bachelor's</td>\n",
       "      <td>m</td>\n",
       "      <td>sourcing</td>\n",
       "      <td>1</td>\n",
       "      <td>34</td>\n",
       "      <td>3.0</td>\n",
       "      <td>7</td>\n",
       "      <td>...</td>\n",
       "      <td>0</td>\n",
       "      <td>0</td>\n",
       "      <td>0</td>\n",
       "      <td>0</td>\n",
       "      <td>0</td>\n",
       "      <td>0</td>\n",
       "      <td>1</td>\n",
       "      <td>0</td>\n",
       "      <td>0</td>\n",
       "      <td>1</td>\n",
       "    </tr>\n",
       "    <tr>\n",
       "      <th>3</th>\n",
       "      <td>2542</td>\n",
       "      <td>Sales &amp; Marketing</td>\n",
       "      <td>region_23</td>\n",
       "      <td>Bachelor's</td>\n",
       "      <td>m</td>\n",
       "      <td>other</td>\n",
       "      <td>2</td>\n",
       "      <td>39</td>\n",
       "      <td>1.0</td>\n",
       "      <td>10</td>\n",
       "      <td>...</td>\n",
       "      <td>0</td>\n",
       "      <td>0</td>\n",
       "      <td>0</td>\n",
       "      <td>0</td>\n",
       "      <td>0</td>\n",
       "      <td>0</td>\n",
       "      <td>1</td>\n",
       "      <td>0</td>\n",
       "      <td>0</td>\n",
       "      <td>1</td>\n",
       "    </tr>\n",
       "    <tr>\n",
       "      <th>4</th>\n",
       "      <td>48945</td>\n",
       "      <td>Technology</td>\n",
       "      <td>region_26</td>\n",
       "      <td>Bachelor's</td>\n",
       "      <td>m</td>\n",
       "      <td>other</td>\n",
       "      <td>1</td>\n",
       "      <td>45</td>\n",
       "      <td>3.0</td>\n",
       "      <td>2</td>\n",
       "      <td>...</td>\n",
       "      <td>0</td>\n",
       "      <td>0</td>\n",
       "      <td>0</td>\n",
       "      <td>0</td>\n",
       "      <td>0</td>\n",
       "      <td>0</td>\n",
       "      <td>0</td>\n",
       "      <td>1</td>\n",
       "      <td>0</td>\n",
       "      <td>1</td>\n",
       "    </tr>\n",
       "  </tbody>\n",
       "</table>\n",
       "<p>5 rows × 25 columns</p>\n",
       "</div>"
      ],
      "text/plain": [
       "   employee_id         department     region         education gender  \\\n",
       "0        65438  Sales & Marketing   region_7  Master's & above      f   \n",
       "1        65141         Operations  region_22        Bachelor's      m   \n",
       "2         7513  Sales & Marketing  region_19        Bachelor's      m   \n",
       "3         2542  Sales & Marketing  region_23        Bachelor's      m   \n",
       "4        48945         Technology  region_26        Bachelor's      m   \n",
       "\n",
       "  recruitment_channel  no_of_trainings  age  previous_year_rating  \\\n",
       "0            sourcing                1   35                   5.0   \n",
       "1               other                1   30                   5.0   \n",
       "2            sourcing                1   34                   3.0   \n",
       "3               other                2   39                   1.0   \n",
       "4               other                1   45                   3.0   \n",
       "\n",
       "   length_of_service  ...  department_Finance  department_HR  \\\n",
       "0                  8  ...                   0              0   \n",
       "1                  4  ...                   0              0   \n",
       "2                  7  ...                   0              0   \n",
       "3                 10  ...                   0              0   \n",
       "4                  2  ...                   0              0   \n",
       "\n",
       "   department_Legal  department_Operations  department_Procurement  \\\n",
       "0                 0                      0                       0   \n",
       "1                 0                      1                       0   \n",
       "2                 0                      0                       0   \n",
       "3                 0                      0                       0   \n",
       "4                 0                      0                       0   \n",
       "\n",
       "   department_R&D  department_Sales & Marketing  department_Technology  \\\n",
       "0               0                             1                      0   \n",
       "1               0                             0                      0   \n",
       "2               0                             1                      0   \n",
       "3               0                             1                      0   \n",
       "4               0                             0                      1   \n",
       "\n",
       "   gender_f  gender_m  \n",
       "0         1         0  \n",
       "1         0         1  \n",
       "2         0         1  \n",
       "3         0         1  \n",
       "4         0         1  \n",
       "\n",
       "[5 rows x 25 columns]"
      ]
     },
     "execution_count": 1240,
     "metadata": {},
     "output_type": "execute_result"
    }
   ],
   "source": [
    "#gender\n",
    "\n",
    "gender=pd.get_dummies(df['gender'],prefix='gender')\n",
    "df=pd.concat([df,gender],axis=1)\n",
    "df.head(5)"
   ]
  },
  {
   "cell_type": "code",
   "execution_count": 1241,
   "metadata": {},
   "outputs": [
    {
     "data": {
      "text/html": [
       "<div>\n",
       "<style scoped>\n",
       "    .dataframe tbody tr th:only-of-type {\n",
       "        vertical-align: middle;\n",
       "    }\n",
       "\n",
       "    .dataframe tbody tr th {\n",
       "        vertical-align: top;\n",
       "    }\n",
       "\n",
       "    .dataframe thead th {\n",
       "        text-align: right;\n",
       "    }\n",
       "</style>\n",
       "<table border=\"1\" class=\"dataframe\">\n",
       "  <thead>\n",
       "    <tr style=\"text-align: right;\">\n",
       "      <th></th>\n",
       "      <th>employee_id</th>\n",
       "      <th>department</th>\n",
       "      <th>region</th>\n",
       "      <th>education</th>\n",
       "      <th>gender</th>\n",
       "      <th>recruitment_channel</th>\n",
       "      <th>no_of_trainings</th>\n",
       "      <th>age</th>\n",
       "      <th>previous_year_rating</th>\n",
       "      <th>length_of_service</th>\n",
       "      <th>...</th>\n",
       "      <th>department_Operations</th>\n",
       "      <th>department_Procurement</th>\n",
       "      <th>department_R&amp;D</th>\n",
       "      <th>department_Sales &amp; Marketing</th>\n",
       "      <th>department_Technology</th>\n",
       "      <th>gender_f</th>\n",
       "      <th>gender_m</th>\n",
       "      <th>education_Bachelor's</th>\n",
       "      <th>education_Below Secondary</th>\n",
       "      <th>education_Master's &amp; above</th>\n",
       "    </tr>\n",
       "  </thead>\n",
       "  <tbody>\n",
       "    <tr>\n",
       "      <th>0</th>\n",
       "      <td>65438</td>\n",
       "      <td>Sales &amp; Marketing</td>\n",
       "      <td>region_7</td>\n",
       "      <td>Master's &amp; above</td>\n",
       "      <td>f</td>\n",
       "      <td>sourcing</td>\n",
       "      <td>1</td>\n",
       "      <td>35</td>\n",
       "      <td>5.0</td>\n",
       "      <td>8</td>\n",
       "      <td>...</td>\n",
       "      <td>0</td>\n",
       "      <td>0</td>\n",
       "      <td>0</td>\n",
       "      <td>1</td>\n",
       "      <td>0</td>\n",
       "      <td>1</td>\n",
       "      <td>0</td>\n",
       "      <td>0</td>\n",
       "      <td>0</td>\n",
       "      <td>1</td>\n",
       "    </tr>\n",
       "    <tr>\n",
       "      <th>1</th>\n",
       "      <td>65141</td>\n",
       "      <td>Operations</td>\n",
       "      <td>region_22</td>\n",
       "      <td>Bachelor's</td>\n",
       "      <td>m</td>\n",
       "      <td>other</td>\n",
       "      <td>1</td>\n",
       "      <td>30</td>\n",
       "      <td>5.0</td>\n",
       "      <td>4</td>\n",
       "      <td>...</td>\n",
       "      <td>1</td>\n",
       "      <td>0</td>\n",
       "      <td>0</td>\n",
       "      <td>0</td>\n",
       "      <td>0</td>\n",
       "      <td>0</td>\n",
       "      <td>1</td>\n",
       "      <td>1</td>\n",
       "      <td>0</td>\n",
       "      <td>0</td>\n",
       "    </tr>\n",
       "    <tr>\n",
       "      <th>2</th>\n",
       "      <td>7513</td>\n",
       "      <td>Sales &amp; Marketing</td>\n",
       "      <td>region_19</td>\n",
       "      <td>Bachelor's</td>\n",
       "      <td>m</td>\n",
       "      <td>sourcing</td>\n",
       "      <td>1</td>\n",
       "      <td>34</td>\n",
       "      <td>3.0</td>\n",
       "      <td>7</td>\n",
       "      <td>...</td>\n",
       "      <td>0</td>\n",
       "      <td>0</td>\n",
       "      <td>0</td>\n",
       "      <td>1</td>\n",
       "      <td>0</td>\n",
       "      <td>0</td>\n",
       "      <td>1</td>\n",
       "      <td>1</td>\n",
       "      <td>0</td>\n",
       "      <td>0</td>\n",
       "    </tr>\n",
       "    <tr>\n",
       "      <th>3</th>\n",
       "      <td>2542</td>\n",
       "      <td>Sales &amp; Marketing</td>\n",
       "      <td>region_23</td>\n",
       "      <td>Bachelor's</td>\n",
       "      <td>m</td>\n",
       "      <td>other</td>\n",
       "      <td>2</td>\n",
       "      <td>39</td>\n",
       "      <td>1.0</td>\n",
       "      <td>10</td>\n",
       "      <td>...</td>\n",
       "      <td>0</td>\n",
       "      <td>0</td>\n",
       "      <td>0</td>\n",
       "      <td>1</td>\n",
       "      <td>0</td>\n",
       "      <td>0</td>\n",
       "      <td>1</td>\n",
       "      <td>1</td>\n",
       "      <td>0</td>\n",
       "      <td>0</td>\n",
       "    </tr>\n",
       "    <tr>\n",
       "      <th>4</th>\n",
       "      <td>48945</td>\n",
       "      <td>Technology</td>\n",
       "      <td>region_26</td>\n",
       "      <td>Bachelor's</td>\n",
       "      <td>m</td>\n",
       "      <td>other</td>\n",
       "      <td>1</td>\n",
       "      <td>45</td>\n",
       "      <td>3.0</td>\n",
       "      <td>2</td>\n",
       "      <td>...</td>\n",
       "      <td>0</td>\n",
       "      <td>0</td>\n",
       "      <td>0</td>\n",
       "      <td>0</td>\n",
       "      <td>1</td>\n",
       "      <td>0</td>\n",
       "      <td>1</td>\n",
       "      <td>1</td>\n",
       "      <td>0</td>\n",
       "      <td>0</td>\n",
       "    </tr>\n",
       "  </tbody>\n",
       "</table>\n",
       "<p>5 rows × 28 columns</p>\n",
       "</div>"
      ],
      "text/plain": [
       "   employee_id         department     region         education gender  \\\n",
       "0        65438  Sales & Marketing   region_7  Master's & above      f   \n",
       "1        65141         Operations  region_22        Bachelor's      m   \n",
       "2         7513  Sales & Marketing  region_19        Bachelor's      m   \n",
       "3         2542  Sales & Marketing  region_23        Bachelor's      m   \n",
       "4        48945         Technology  region_26        Bachelor's      m   \n",
       "\n",
       "  recruitment_channel  no_of_trainings  age  previous_year_rating  \\\n",
       "0            sourcing                1   35                   5.0   \n",
       "1               other                1   30                   5.0   \n",
       "2            sourcing                1   34                   3.0   \n",
       "3               other                2   39                   1.0   \n",
       "4               other                1   45                   3.0   \n",
       "\n",
       "   length_of_service  ...  department_Operations  department_Procurement  \\\n",
       "0                  8  ...                      0                       0   \n",
       "1                  4  ...                      1                       0   \n",
       "2                  7  ...                      0                       0   \n",
       "3                 10  ...                      0                       0   \n",
       "4                  2  ...                      0                       0   \n",
       "\n",
       "   department_R&D  department_Sales & Marketing  department_Technology  \\\n",
       "0               0                             1                      0   \n",
       "1               0                             0                      0   \n",
       "2               0                             1                      0   \n",
       "3               0                             1                      0   \n",
       "4               0                             0                      1   \n",
       "\n",
       "   gender_f  gender_m  education_Bachelor's  education_Below Secondary  \\\n",
       "0         1         0                     0                          0   \n",
       "1         0         1                     1                          0   \n",
       "2         0         1                     1                          0   \n",
       "3         0         1                     1                          0   \n",
       "4         0         1                     1                          0   \n",
       "\n",
       "   education_Master's & above  \n",
       "0                           1  \n",
       "1                           0  \n",
       "2                           0  \n",
       "3                           0  \n",
       "4                           0  \n",
       "\n",
       "[5 rows x 28 columns]"
      ]
     },
     "execution_count": 1241,
     "metadata": {},
     "output_type": "execute_result"
    }
   ],
   "source": [
    "#Education\n",
    "\n",
    "education=pd.get_dummies(df['education'],prefix='education')\n",
    "df=pd.concat([df,education],axis=1)\n",
    "df.head(5)"
   ]
  },
  {
   "cell_type": "code",
   "execution_count": 1242,
   "metadata": {},
   "outputs": [
    {
     "data": {
      "text/plain": [
       "0"
      ]
     },
     "execution_count": 1242,
     "metadata": {},
     "output_type": "execute_result"
    }
   ],
   "source": [
    "df[\"education\"].isnull().sum()"
   ]
  },
  {
   "cell_type": "code",
   "execution_count": 1243,
   "metadata": {},
   "outputs": [
    {
     "data": {
      "text/html": [
       "<div>\n",
       "<style scoped>\n",
       "    .dataframe tbody tr th:only-of-type {\n",
       "        vertical-align: middle;\n",
       "    }\n",
       "\n",
       "    .dataframe tbody tr th {\n",
       "        vertical-align: top;\n",
       "    }\n",
       "\n",
       "    .dataframe thead th {\n",
       "        text-align: right;\n",
       "    }\n",
       "</style>\n",
       "<table border=\"1\" class=\"dataframe\">\n",
       "  <thead>\n",
       "    <tr style=\"text-align: right;\">\n",
       "      <th></th>\n",
       "      <th>employee_id</th>\n",
       "      <th>department</th>\n",
       "      <th>region</th>\n",
       "      <th>education</th>\n",
       "      <th>gender</th>\n",
       "      <th>recruitment_channel</th>\n",
       "      <th>no_of_trainings</th>\n",
       "      <th>age</th>\n",
       "      <th>previous_year_rating</th>\n",
       "      <th>length_of_service</th>\n",
       "      <th>...</th>\n",
       "      <th>department_Sales &amp; Marketing</th>\n",
       "      <th>department_Technology</th>\n",
       "      <th>gender_f</th>\n",
       "      <th>gender_m</th>\n",
       "      <th>education_Bachelor's</th>\n",
       "      <th>education_Below Secondary</th>\n",
       "      <th>education_Master's &amp; above</th>\n",
       "      <th>recruitment_channel_other</th>\n",
       "      <th>recruitment_channel_referred</th>\n",
       "      <th>recruitment_channel_sourcing</th>\n",
       "    </tr>\n",
       "  </thead>\n",
       "  <tbody>\n",
       "    <tr>\n",
       "      <th>0</th>\n",
       "      <td>65438</td>\n",
       "      <td>Sales &amp; Marketing</td>\n",
       "      <td>region_7</td>\n",
       "      <td>Master's &amp; above</td>\n",
       "      <td>f</td>\n",
       "      <td>sourcing</td>\n",
       "      <td>1</td>\n",
       "      <td>35</td>\n",
       "      <td>5.0</td>\n",
       "      <td>8</td>\n",
       "      <td>...</td>\n",
       "      <td>1</td>\n",
       "      <td>0</td>\n",
       "      <td>1</td>\n",
       "      <td>0</td>\n",
       "      <td>0</td>\n",
       "      <td>0</td>\n",
       "      <td>1</td>\n",
       "      <td>0</td>\n",
       "      <td>0</td>\n",
       "      <td>1</td>\n",
       "    </tr>\n",
       "    <tr>\n",
       "      <th>1</th>\n",
       "      <td>65141</td>\n",
       "      <td>Operations</td>\n",
       "      <td>region_22</td>\n",
       "      <td>Bachelor's</td>\n",
       "      <td>m</td>\n",
       "      <td>other</td>\n",
       "      <td>1</td>\n",
       "      <td>30</td>\n",
       "      <td>5.0</td>\n",
       "      <td>4</td>\n",
       "      <td>...</td>\n",
       "      <td>0</td>\n",
       "      <td>0</td>\n",
       "      <td>0</td>\n",
       "      <td>1</td>\n",
       "      <td>1</td>\n",
       "      <td>0</td>\n",
       "      <td>0</td>\n",
       "      <td>1</td>\n",
       "      <td>0</td>\n",
       "      <td>0</td>\n",
       "    </tr>\n",
       "    <tr>\n",
       "      <th>2</th>\n",
       "      <td>7513</td>\n",
       "      <td>Sales &amp; Marketing</td>\n",
       "      <td>region_19</td>\n",
       "      <td>Bachelor's</td>\n",
       "      <td>m</td>\n",
       "      <td>sourcing</td>\n",
       "      <td>1</td>\n",
       "      <td>34</td>\n",
       "      <td>3.0</td>\n",
       "      <td>7</td>\n",
       "      <td>...</td>\n",
       "      <td>1</td>\n",
       "      <td>0</td>\n",
       "      <td>0</td>\n",
       "      <td>1</td>\n",
       "      <td>1</td>\n",
       "      <td>0</td>\n",
       "      <td>0</td>\n",
       "      <td>0</td>\n",
       "      <td>0</td>\n",
       "      <td>1</td>\n",
       "    </tr>\n",
       "    <tr>\n",
       "      <th>3</th>\n",
       "      <td>2542</td>\n",
       "      <td>Sales &amp; Marketing</td>\n",
       "      <td>region_23</td>\n",
       "      <td>Bachelor's</td>\n",
       "      <td>m</td>\n",
       "      <td>other</td>\n",
       "      <td>2</td>\n",
       "      <td>39</td>\n",
       "      <td>1.0</td>\n",
       "      <td>10</td>\n",
       "      <td>...</td>\n",
       "      <td>1</td>\n",
       "      <td>0</td>\n",
       "      <td>0</td>\n",
       "      <td>1</td>\n",
       "      <td>1</td>\n",
       "      <td>0</td>\n",
       "      <td>0</td>\n",
       "      <td>1</td>\n",
       "      <td>0</td>\n",
       "      <td>0</td>\n",
       "    </tr>\n",
       "    <tr>\n",
       "      <th>4</th>\n",
       "      <td>48945</td>\n",
       "      <td>Technology</td>\n",
       "      <td>region_26</td>\n",
       "      <td>Bachelor's</td>\n",
       "      <td>m</td>\n",
       "      <td>other</td>\n",
       "      <td>1</td>\n",
       "      <td>45</td>\n",
       "      <td>3.0</td>\n",
       "      <td>2</td>\n",
       "      <td>...</td>\n",
       "      <td>0</td>\n",
       "      <td>1</td>\n",
       "      <td>0</td>\n",
       "      <td>1</td>\n",
       "      <td>1</td>\n",
       "      <td>0</td>\n",
       "      <td>0</td>\n",
       "      <td>1</td>\n",
       "      <td>0</td>\n",
       "      <td>0</td>\n",
       "    </tr>\n",
       "  </tbody>\n",
       "</table>\n",
       "<p>5 rows × 31 columns</p>\n",
       "</div>"
      ],
      "text/plain": [
       "   employee_id         department     region         education gender  \\\n",
       "0        65438  Sales & Marketing   region_7  Master's & above      f   \n",
       "1        65141         Operations  region_22        Bachelor's      m   \n",
       "2         7513  Sales & Marketing  region_19        Bachelor's      m   \n",
       "3         2542  Sales & Marketing  region_23        Bachelor's      m   \n",
       "4        48945         Technology  region_26        Bachelor's      m   \n",
       "\n",
       "  recruitment_channel  no_of_trainings  age  previous_year_rating  \\\n",
       "0            sourcing                1   35                   5.0   \n",
       "1               other                1   30                   5.0   \n",
       "2            sourcing                1   34                   3.0   \n",
       "3               other                2   39                   1.0   \n",
       "4               other                1   45                   3.0   \n",
       "\n",
       "   length_of_service  ...  department_Sales & Marketing  \\\n",
       "0                  8  ...                             1   \n",
       "1                  4  ...                             0   \n",
       "2                  7  ...                             1   \n",
       "3                 10  ...                             1   \n",
       "4                  2  ...                             0   \n",
       "\n",
       "   department_Technology  gender_f  gender_m  education_Bachelor's  \\\n",
       "0                      0         1         0                     0   \n",
       "1                      0         0         1                     1   \n",
       "2                      0         0         1                     1   \n",
       "3                      0         0         1                     1   \n",
       "4                      1         0         1                     1   \n",
       "\n",
       "   education_Below Secondary  education_Master's & above  \\\n",
       "0                          0                           1   \n",
       "1                          0                           0   \n",
       "2                          0                           0   \n",
       "3                          0                           0   \n",
       "4                          0                           0   \n",
       "\n",
       "   recruitment_channel_other  recruitment_channel_referred  \\\n",
       "0                          0                             0   \n",
       "1                          1                             0   \n",
       "2                          0                             0   \n",
       "3                          1                             0   \n",
       "4                          1                             0   \n",
       "\n",
       "   recruitment_channel_sourcing  \n",
       "0                             1  \n",
       "1                             0  \n",
       "2                             1  \n",
       "3                             0  \n",
       "4                             0  \n",
       "\n",
       "[5 rows x 31 columns]"
      ]
     },
     "execution_count": 1243,
     "metadata": {},
     "output_type": "execute_result"
    }
   ],
   "source": [
    "#Recruitment_channel\n",
    "\n",
    "recruitment_channel=pd.get_dummies(df['recruitment_channel'],prefix='recruitment_channel')\n",
    "df=pd.concat([df,recruitment_channel],axis=1)\n",
    "df.head(5)"
   ]
  },
  {
   "cell_type": "code",
   "execution_count": 1244,
   "metadata": {},
   "outputs": [
    {
     "name": "stdout",
     "output_type": "stream",
     "text": [
      "<class 'pandas.core.frame.DataFrame'>\n",
      "RangeIndex: 54808 entries, 0 to 54807\n",
      "Data columns (total 31 columns):\n",
      " #   Column                        Non-Null Count  Dtype  \n",
      "---  ------                        --------------  -----  \n",
      " 0   employee_id                   54808 non-null  int64  \n",
      " 1   department                    54808 non-null  object \n",
      " 2   region                        54808 non-null  object \n",
      " 3   education                     54808 non-null  object \n",
      " 4   gender                        54808 non-null  object \n",
      " 5   recruitment_channel           54808 non-null  object \n",
      " 6   no_of_trainings               54808 non-null  int64  \n",
      " 7   age                           54808 non-null  int64  \n",
      " 8   previous_year_rating          54808 non-null  float64\n",
      " 9   length_of_service             54808 non-null  int64  \n",
      " 10  KPIs_met >80%                 54808 non-null  int64  \n",
      " 11  awards_won?                   54808 non-null  int64  \n",
      " 12  avg_training_score            54808 non-null  int64  \n",
      " 13  is_promoted                   54808 non-null  int64  \n",
      " 14  department_Analytics          54808 non-null  uint8  \n",
      " 15  department_Finance            54808 non-null  uint8  \n",
      " 16  department_HR                 54808 non-null  uint8  \n",
      " 17  department_Legal              54808 non-null  uint8  \n",
      " 18  department_Operations         54808 non-null  uint8  \n",
      " 19  department_Procurement        54808 non-null  uint8  \n",
      " 20  department_R&D                54808 non-null  uint8  \n",
      " 21  department_Sales & Marketing  54808 non-null  uint8  \n",
      " 22  department_Technology         54808 non-null  uint8  \n",
      " 23  gender_f                      54808 non-null  uint8  \n",
      " 24  gender_m                      54808 non-null  uint8  \n",
      " 25  education_Bachelor's          54808 non-null  uint8  \n",
      " 26  education_Below Secondary     54808 non-null  uint8  \n",
      " 27  education_Master's & above    54808 non-null  uint8  \n",
      " 28  recruitment_channel_other     54808 non-null  uint8  \n",
      " 29  recruitment_channel_referred  54808 non-null  uint8  \n",
      " 30  recruitment_channel_sourcing  54808 non-null  uint8  \n",
      "dtypes: float64(1), int64(8), object(5), uint8(17)\n",
      "memory usage: 6.7+ MB\n"
     ]
    }
   ],
   "source": [
    "# Looking in the updated and new columns\n",
    "\n",
    "df.info()"
   ]
  },
  {
   "cell_type": "code",
   "execution_count": 1245,
   "metadata": {},
   "outputs": [],
   "source": [
    "# Now removing the old categorical columns except \"region\" column on which we will be working later"
   ]
  },
  {
   "cell_type": "code",
   "execution_count": 1246,
   "metadata": {},
   "outputs": [
    {
     "data": {
      "text/html": [
       "<div>\n",
       "<style scoped>\n",
       "    .dataframe tbody tr th:only-of-type {\n",
       "        vertical-align: middle;\n",
       "    }\n",
       "\n",
       "    .dataframe tbody tr th {\n",
       "        vertical-align: top;\n",
       "    }\n",
       "\n",
       "    .dataframe thead th {\n",
       "        text-align: right;\n",
       "    }\n",
       "</style>\n",
       "<table border=\"1\" class=\"dataframe\">\n",
       "  <thead>\n",
       "    <tr style=\"text-align: right;\">\n",
       "      <th></th>\n",
       "      <th>employee_id</th>\n",
       "      <th>region</th>\n",
       "      <th>no_of_trainings</th>\n",
       "      <th>age</th>\n",
       "      <th>previous_year_rating</th>\n",
       "      <th>length_of_service</th>\n",
       "      <th>KPIs_met &gt;80%</th>\n",
       "      <th>awards_won?</th>\n",
       "      <th>avg_training_score</th>\n",
       "      <th>is_promoted</th>\n",
       "      <th>...</th>\n",
       "      <th>department_Sales &amp; Marketing</th>\n",
       "      <th>department_Technology</th>\n",
       "      <th>gender_f</th>\n",
       "      <th>gender_m</th>\n",
       "      <th>education_Bachelor's</th>\n",
       "      <th>education_Below Secondary</th>\n",
       "      <th>education_Master's &amp; above</th>\n",
       "      <th>recruitment_channel_other</th>\n",
       "      <th>recruitment_channel_referred</th>\n",
       "      <th>recruitment_channel_sourcing</th>\n",
       "    </tr>\n",
       "  </thead>\n",
       "  <tbody>\n",
       "    <tr>\n",
       "      <th>0</th>\n",
       "      <td>65438</td>\n",
       "      <td>region_7</td>\n",
       "      <td>1</td>\n",
       "      <td>35</td>\n",
       "      <td>5.0</td>\n",
       "      <td>8</td>\n",
       "      <td>1</td>\n",
       "      <td>0</td>\n",
       "      <td>49</td>\n",
       "      <td>0</td>\n",
       "      <td>...</td>\n",
       "      <td>1</td>\n",
       "      <td>0</td>\n",
       "      <td>1</td>\n",
       "      <td>0</td>\n",
       "      <td>0</td>\n",
       "      <td>0</td>\n",
       "      <td>1</td>\n",
       "      <td>0</td>\n",
       "      <td>0</td>\n",
       "      <td>1</td>\n",
       "    </tr>\n",
       "    <tr>\n",
       "      <th>1</th>\n",
       "      <td>65141</td>\n",
       "      <td>region_22</td>\n",
       "      <td>1</td>\n",
       "      <td>30</td>\n",
       "      <td>5.0</td>\n",
       "      <td>4</td>\n",
       "      <td>0</td>\n",
       "      <td>0</td>\n",
       "      <td>60</td>\n",
       "      <td>0</td>\n",
       "      <td>...</td>\n",
       "      <td>0</td>\n",
       "      <td>0</td>\n",
       "      <td>0</td>\n",
       "      <td>1</td>\n",
       "      <td>1</td>\n",
       "      <td>0</td>\n",
       "      <td>0</td>\n",
       "      <td>1</td>\n",
       "      <td>0</td>\n",
       "      <td>0</td>\n",
       "    </tr>\n",
       "    <tr>\n",
       "      <th>2</th>\n",
       "      <td>7513</td>\n",
       "      <td>region_19</td>\n",
       "      <td>1</td>\n",
       "      <td>34</td>\n",
       "      <td>3.0</td>\n",
       "      <td>7</td>\n",
       "      <td>0</td>\n",
       "      <td>0</td>\n",
       "      <td>50</td>\n",
       "      <td>0</td>\n",
       "      <td>...</td>\n",
       "      <td>1</td>\n",
       "      <td>0</td>\n",
       "      <td>0</td>\n",
       "      <td>1</td>\n",
       "      <td>1</td>\n",
       "      <td>0</td>\n",
       "      <td>0</td>\n",
       "      <td>0</td>\n",
       "      <td>0</td>\n",
       "      <td>1</td>\n",
       "    </tr>\n",
       "    <tr>\n",
       "      <th>3</th>\n",
       "      <td>2542</td>\n",
       "      <td>region_23</td>\n",
       "      <td>2</td>\n",
       "      <td>39</td>\n",
       "      <td>1.0</td>\n",
       "      <td>10</td>\n",
       "      <td>0</td>\n",
       "      <td>0</td>\n",
       "      <td>50</td>\n",
       "      <td>0</td>\n",
       "      <td>...</td>\n",
       "      <td>1</td>\n",
       "      <td>0</td>\n",
       "      <td>0</td>\n",
       "      <td>1</td>\n",
       "      <td>1</td>\n",
       "      <td>0</td>\n",
       "      <td>0</td>\n",
       "      <td>1</td>\n",
       "      <td>0</td>\n",
       "      <td>0</td>\n",
       "    </tr>\n",
       "    <tr>\n",
       "      <th>4</th>\n",
       "      <td>48945</td>\n",
       "      <td>region_26</td>\n",
       "      <td>1</td>\n",
       "      <td>45</td>\n",
       "      <td>3.0</td>\n",
       "      <td>2</td>\n",
       "      <td>0</td>\n",
       "      <td>0</td>\n",
       "      <td>73</td>\n",
       "      <td>0</td>\n",
       "      <td>...</td>\n",
       "      <td>0</td>\n",
       "      <td>1</td>\n",
       "      <td>0</td>\n",
       "      <td>1</td>\n",
       "      <td>1</td>\n",
       "      <td>0</td>\n",
       "      <td>0</td>\n",
       "      <td>1</td>\n",
       "      <td>0</td>\n",
       "      <td>0</td>\n",
       "    </tr>\n",
       "  </tbody>\n",
       "</table>\n",
       "<p>5 rows × 27 columns</p>\n",
       "</div>"
      ],
      "text/plain": [
       "   employee_id     region  no_of_trainings  age  previous_year_rating  \\\n",
       "0        65438   region_7                1   35                   5.0   \n",
       "1        65141  region_22                1   30                   5.0   \n",
       "2         7513  region_19                1   34                   3.0   \n",
       "3         2542  region_23                2   39                   1.0   \n",
       "4        48945  region_26                1   45                   3.0   \n",
       "\n",
       "   length_of_service  KPIs_met >80%  awards_won?  avg_training_score  \\\n",
       "0                  8              1            0                  49   \n",
       "1                  4              0            0                  60   \n",
       "2                  7              0            0                  50   \n",
       "3                 10              0            0                  50   \n",
       "4                  2              0            0                  73   \n",
       "\n",
       "   is_promoted  ...  department_Sales & Marketing  department_Technology  \\\n",
       "0            0  ...                             1                      0   \n",
       "1            0  ...                             0                      0   \n",
       "2            0  ...                             1                      0   \n",
       "3            0  ...                             1                      0   \n",
       "4            0  ...                             0                      1   \n",
       "\n",
       "   gender_f  gender_m  education_Bachelor's  education_Below Secondary  \\\n",
       "0         1         0                     0                          0   \n",
       "1         0         1                     1                          0   \n",
       "2         0         1                     1                          0   \n",
       "3         0         1                     1                          0   \n",
       "4         0         1                     1                          0   \n",
       "\n",
       "   education_Master's & above  recruitment_channel_other  \\\n",
       "0                           1                          0   \n",
       "1                           0                          1   \n",
       "2                           0                          0   \n",
       "3                           0                          1   \n",
       "4                           0                          1   \n",
       "\n",
       "   recruitment_channel_referred  recruitment_channel_sourcing  \n",
       "0                             0                             1  \n",
       "1                             0                             0  \n",
       "2                             0                             1  \n",
       "3                             0                             0  \n",
       "4                             0                             0  \n",
       "\n",
       "[5 rows x 27 columns]"
      ]
     },
     "execution_count": 1246,
     "metadata": {},
     "output_type": "execute_result"
    }
   ],
   "source": [
    "df.drop(['department','education','recruitment_channel','gender'],inplace=True,axis=1)\n",
    "df.head(5)"
   ]
  },
  {
   "cell_type": "code",
   "execution_count": 1247,
   "metadata": {},
   "outputs": [
    {
     "name": "stdout",
     "output_type": "stream",
     "text": [
      "<class 'pandas.core.frame.DataFrame'>\n",
      "RangeIndex: 54808 entries, 0 to 54807\n",
      "Data columns (total 27 columns):\n",
      " #   Column                        Non-Null Count  Dtype  \n",
      "---  ------                        --------------  -----  \n",
      " 0   employee_id                   54808 non-null  int64  \n",
      " 1   region                        54808 non-null  object \n",
      " 2   no_of_trainings               54808 non-null  int64  \n",
      " 3   age                           54808 non-null  int64  \n",
      " 4   previous_year_rating          54808 non-null  float64\n",
      " 5   length_of_service             54808 non-null  int64  \n",
      " 6   KPIs_met >80%                 54808 non-null  int64  \n",
      " 7   awards_won?                   54808 non-null  int64  \n",
      " 8   avg_training_score            54808 non-null  int64  \n",
      " 9   is_promoted                   54808 non-null  int64  \n",
      " 10  department_Analytics          54808 non-null  uint8  \n",
      " 11  department_Finance            54808 non-null  uint8  \n",
      " 12  department_HR                 54808 non-null  uint8  \n",
      " 13  department_Legal              54808 non-null  uint8  \n",
      " 14  department_Operations         54808 non-null  uint8  \n",
      " 15  department_Procurement        54808 non-null  uint8  \n",
      " 16  department_R&D                54808 non-null  uint8  \n",
      " 17  department_Sales & Marketing  54808 non-null  uint8  \n",
      " 18  department_Technology         54808 non-null  uint8  \n",
      " 19  gender_f                      54808 non-null  uint8  \n",
      " 20  gender_m                      54808 non-null  uint8  \n",
      " 21  education_Bachelor's          54808 non-null  uint8  \n",
      " 22  education_Below Secondary     54808 non-null  uint8  \n",
      " 23  education_Master's & above    54808 non-null  uint8  \n",
      " 24  recruitment_channel_other     54808 non-null  uint8  \n",
      " 25  recruitment_channel_referred  54808 non-null  uint8  \n",
      " 26  recruitment_channel_sourcing  54808 non-null  uint8  \n",
      "dtypes: float64(1), int64(8), object(1), uint8(17)\n",
      "memory usage: 5.1+ MB\n"
     ]
    }
   ],
   "source": [
    "# Rechecking if old columns (categorical) except \"region\" are removed\n",
    "\n",
    "df.info()"
   ]
  },
  {
   "cell_type": "markdown",
   "metadata": {},
   "source": [
    "#### working on \"region\" column"
   ]
  },
  {
   "cell_type": "code",
   "execution_count": 1248,
   "metadata": {},
   "outputs": [
    {
     "data": {
      "text/plain": [
       "array(['region_7', 'region_22', 'region_19', 'region_23', 'region_26',\n",
       "       'region_2', 'region_20', 'region_34', 'region_1', 'region_4',\n",
       "       'region_29', 'region_31', 'region_15', 'region_14', 'region_11',\n",
       "       'region_5', 'region_28', 'region_17', 'region_13', 'region_16',\n",
       "       'region_25', 'region_10', 'region_27', 'region_30', 'region_12',\n",
       "       'region_21', 'region_8', 'region_32', 'region_6', 'region_33',\n",
       "       'region_24', 'region_3', 'region_9', 'region_18'], dtype=object)"
      ]
     },
     "execution_count": 1248,
     "metadata": {},
     "output_type": "execute_result"
    }
   ],
   "source": [
    "df.region.unique()"
   ]
  },
  {
   "cell_type": "code",
   "execution_count": 1249,
   "metadata": {},
   "outputs": [
    {
     "data": {
      "text/plain": [
       "region\n",
       "region_1      58\n",
       "region_10     51\n",
       "region_11     74\n",
       "region_12     33\n",
       "region_13    230\n",
       "region_14     62\n",
       "region_15    222\n",
       "region_16    102\n",
       "region_17    109\n",
       "region_18      1\n",
       "region_19     53\n",
       "region_2     989\n",
       "region_20     49\n",
       "region_21     18\n",
       "region_22    734\n",
       "region_23    137\n",
       "region_24     18\n",
       "region_25    103\n",
       "region_26    143\n",
       "region_27    131\n",
       "region_28    154\n",
       "region_29     43\n",
       "region_3      37\n",
       "region_30     59\n",
       "region_31    110\n",
       "region_32     40\n",
       "region_33     10\n",
       "region_34      8\n",
       "region_4     246\n",
       "region_5      35\n",
       "region_6      32\n",
       "region_7     516\n",
       "region_8      53\n",
       "region_9       8\n",
       "Name: is_promoted, dtype: int64"
      ]
     },
     "execution_count": 1249,
     "metadata": {},
     "output_type": "execute_result"
    }
   ],
   "source": [
    "# Region wise checking Total Promotions\n",
    "# 0 is no promotion and 1 is promotion\n",
    "# group by to check the nos. of 1s in all the regions\n",
    "\n",
    "df.loc[df.is_promoted == 1 ].groupby('region')['is_promoted'].count()"
   ]
  },
  {
   "cell_type": "markdown",
   "metadata": {},
   "source": [
    "<b>region_2 has the highest nos. of promotions where as region_18 has the least number of promotions</b><br/>\n",
    "We did this groupby to check the same list after label encoding as we are not sure if in <br/>\n",
    "bar-plot we can match the encoded region with the previous non-encoded records.(i.e we are keeping a track of what changes we did), easier for mapping when ever needed."
   ]
  },
  {
   "cell_type": "code",
   "execution_count": 1250,
   "metadata": {},
   "outputs": [],
   "source": [
    "#Barplot with group-by for regions for is_promoted"
   ]
  },
  {
   "cell_type": "code",
   "execution_count": 1251,
   "metadata": {},
   "outputs": [
    {
     "data": {
      "text/plain": [
       "Text(0, 0.5, 'Total Promotions')"
      ]
     },
     "execution_count": 1251,
     "metadata": {},
     "output_type": "execute_result"
    },
    {
     "data": {
      "image/png": "[encoded data removed]",
      "text/plain": [
       "<Figure size 720x360 with 1 Axes>"
      ]
     },
     "metadata": {
      "needs_background": "light"
     },
     "output_type": "display_data"
    }
   ],
   "source": [
    "#checking region with is_promoted \n",
    "#total promotions for a given region will be sum of 1s, 0+1=1, so all the 1s adds upto total promotions\n",
    "\n",
    "df.groupby(['region']).agg({'is_promoted':'sum'}).plot.bar(cmap=\"ocean\",width = 0.5,figsize=(10,5))\n",
    "plt.ylabel(\"Total Promotions\")"
   ]
  },
  {
   "cell_type": "code",
   "execution_count": 1252,
   "metadata": {},
   "outputs": [
    {
     "data": {
      "text/plain": [
       "array(['region_7', 'region_22', 'region_19', 'region_23', 'region_26',\n",
       "       'region_2', 'region_20', 'region_34', 'region_1', 'region_4',\n",
       "       'region_29', 'region_31', 'region_15', 'region_14', 'region_11',\n",
       "       'region_5', 'region_28', 'region_17', 'region_13', 'region_16',\n",
       "       'region_25', 'region_10', 'region_27', 'region_30', 'region_12',\n",
       "       'region_21', 'region_8', 'region_32', 'region_6', 'region_33',\n",
       "       'region_24', 'region_3', 'region_9', 'region_18'], dtype=object)"
      ]
     },
     "execution_count": 1252,
     "metadata": {},
     "output_type": "execute_result"
    }
   ],
   "source": [
    "df.region.unique()"
   ]
  },
  {
   "cell_type": "markdown",
   "metadata": {},
   "source": [
    "From the above plot we can observe that region 2,region 22, region 7 includes<br/>\n",
    "most number of promoted employees.We can say that these regions will have influence on promotion \"yes\"<br/>\n",
    "but we cant even avoid the others as we can alternatively see that employees from theother region couldnt <br/>\n",
    "get as much promotion as from the mentioned regions.We would have liked to incorporate the dummies here<br/>\n",
    "but there might be a challenge with the increased number of features. So we will be doing a label encoding for these columns<br/>\n",
    "More over this column doesnt have any null values<br/>\n"
   ]
  },
  {
   "cell_type": "code",
   "execution_count": 1253,
   "metadata": {},
   "outputs": [
    {
     "data": {
      "text/html": [
       "<div>\n",
       "<style scoped>\n",
       "    .dataframe tbody tr th:only-of-type {\n",
       "        vertical-align: middle;\n",
       "    }\n",
       "\n",
       "    .dataframe tbody tr th {\n",
       "        vertical-align: top;\n",
       "    }\n",
       "\n",
       "    .dataframe thead th {\n",
       "        text-align: right;\n",
       "    }\n",
       "</style>\n",
       "<table border=\"1\" class=\"dataframe\">\n",
       "  <thead>\n",
       "    <tr style=\"text-align: right;\">\n",
       "      <th></th>\n",
       "      <th>employee_id</th>\n",
       "      <th>region</th>\n",
       "      <th>no_of_trainings</th>\n",
       "      <th>age</th>\n",
       "      <th>previous_year_rating</th>\n",
       "      <th>length_of_service</th>\n",
       "      <th>KPIs_met &gt;80%</th>\n",
       "      <th>awards_won?</th>\n",
       "      <th>avg_training_score</th>\n",
       "      <th>is_promoted</th>\n",
       "      <th>...</th>\n",
       "      <th>department_Sales &amp; Marketing</th>\n",
       "      <th>department_Technology</th>\n",
       "      <th>gender_f</th>\n",
       "      <th>gender_m</th>\n",
       "      <th>education_Bachelor's</th>\n",
       "      <th>education_Below Secondary</th>\n",
       "      <th>education_Master's &amp; above</th>\n",
       "      <th>recruitment_channel_other</th>\n",
       "      <th>recruitment_channel_referred</th>\n",
       "      <th>recruitment_channel_sourcing</th>\n",
       "    </tr>\n",
       "  </thead>\n",
       "  <tbody>\n",
       "    <tr>\n",
       "      <th>0</th>\n",
       "      <td>65438</td>\n",
       "      <td>31</td>\n",
       "      <td>1</td>\n",
       "      <td>35</td>\n",
       "      <td>5.0</td>\n",
       "      <td>8</td>\n",
       "      <td>1</td>\n",
       "      <td>0</td>\n",
       "      <td>49</td>\n",
       "      <td>0</td>\n",
       "      <td>...</td>\n",
       "      <td>1</td>\n",
       "      <td>0</td>\n",
       "      <td>1</td>\n",
       "      <td>0</td>\n",
       "      <td>0</td>\n",
       "      <td>0</td>\n",
       "      <td>1</td>\n",
       "      <td>0</td>\n",
       "      <td>0</td>\n",
       "      <td>1</td>\n",
       "    </tr>\n",
       "    <tr>\n",
       "      <th>1</th>\n",
       "      <td>65141</td>\n",
       "      <td>14</td>\n",
       "      <td>1</td>\n",
       "      <td>30</td>\n",
       "      <td>5.0</td>\n",
       "      <td>4</td>\n",
       "      <td>0</td>\n",
       "      <td>0</td>\n",
       "      <td>60</td>\n",
       "      <td>0</td>\n",
       "      <td>...</td>\n",
       "      <td>0</td>\n",
       "      <td>0</td>\n",
       "      <td>0</td>\n",
       "      <td>1</td>\n",
       "      <td>1</td>\n",
       "      <td>0</td>\n",
       "      <td>0</td>\n",
       "      <td>1</td>\n",
       "      <td>0</td>\n",
       "      <td>0</td>\n",
       "    </tr>\n",
       "    <tr>\n",
       "      <th>2</th>\n",
       "      <td>7513</td>\n",
       "      <td>10</td>\n",
       "      <td>1</td>\n",
       "      <td>34</td>\n",
       "      <td>3.0</td>\n",
       "      <td>7</td>\n",
       "      <td>0</td>\n",
       "      <td>0</td>\n",
       "      <td>50</td>\n",
       "      <td>0</td>\n",
       "      <td>...</td>\n",
       "      <td>1</td>\n",
       "      <td>0</td>\n",
       "      <td>0</td>\n",
       "      <td>1</td>\n",
       "      <td>1</td>\n",
       "      <td>0</td>\n",
       "      <td>0</td>\n",
       "      <td>0</td>\n",
       "      <td>0</td>\n",
       "      <td>1</td>\n",
       "    </tr>\n",
       "    <tr>\n",
       "      <th>3</th>\n",
       "      <td>2542</td>\n",
       "      <td>15</td>\n",
       "      <td>2</td>\n",
       "      <td>39</td>\n",
       "      <td>1.0</td>\n",
       "      <td>10</td>\n",
       "      <td>0</td>\n",
       "      <td>0</td>\n",
       "      <td>50</td>\n",
       "      <td>0</td>\n",
       "      <td>...</td>\n",
       "      <td>1</td>\n",
       "      <td>0</td>\n",
       "      <td>0</td>\n",
       "      <td>1</td>\n",
       "      <td>1</td>\n",
       "      <td>0</td>\n",
       "      <td>0</td>\n",
       "      <td>1</td>\n",
       "      <td>0</td>\n",
       "      <td>0</td>\n",
       "    </tr>\n",
       "    <tr>\n",
       "      <th>4</th>\n",
       "      <td>48945</td>\n",
       "      <td>18</td>\n",
       "      <td>1</td>\n",
       "      <td>45</td>\n",
       "      <td>3.0</td>\n",
       "      <td>2</td>\n",
       "      <td>0</td>\n",
       "      <td>0</td>\n",
       "      <td>73</td>\n",
       "      <td>0</td>\n",
       "      <td>...</td>\n",
       "      <td>0</td>\n",
       "      <td>1</td>\n",
       "      <td>0</td>\n",
       "      <td>1</td>\n",
       "      <td>1</td>\n",
       "      <td>0</td>\n",
       "      <td>0</td>\n",
       "      <td>1</td>\n",
       "      <td>0</td>\n",
       "      <td>0</td>\n",
       "    </tr>\n",
       "  </tbody>\n",
       "</table>\n",
       "<p>5 rows × 27 columns</p>\n",
       "</div>"
      ],
      "text/plain": [
       "   employee_id  region  no_of_trainings  age  previous_year_rating  \\\n",
       "0        65438      31                1   35                   5.0   \n",
       "1        65141      14                1   30                   5.0   \n",
       "2         7513      10                1   34                   3.0   \n",
       "3         2542      15                2   39                   1.0   \n",
       "4        48945      18                1   45                   3.0   \n",
       "\n",
       "   length_of_service  KPIs_met >80%  awards_won?  avg_training_score  \\\n",
       "0                  8              1            0                  49   \n",
       "1                  4              0            0                  60   \n",
       "2                  7              0            0                  50   \n",
       "3                 10              0            0                  50   \n",
       "4                  2              0            0                  73   \n",
       "\n",
       "   is_promoted  ...  department_Sales & Marketing  department_Technology  \\\n",
       "0            0  ...                             1                      0   \n",
       "1            0  ...                             0                      0   \n",
       "2            0  ...                             1                      0   \n",
       "3            0  ...                             1                      0   \n",
       "4            0  ...                             0                      1   \n",
       "\n",
       "   gender_f  gender_m  education_Bachelor's  education_Below Secondary  \\\n",
       "0         1         0                     0                          0   \n",
       "1         0         1                     1                          0   \n",
       "2         0         1                     1                          0   \n",
       "3         0         1                     1                          0   \n",
       "4         0         1                     1                          0   \n",
       "\n",
       "   education_Master's & above  recruitment_channel_other  \\\n",
       "0                           1                          0   \n",
       "1                           0                          1   \n",
       "2                           0                          0   \n",
       "3                           0                          1   \n",
       "4                           0                          1   \n",
       "\n",
       "   recruitment_channel_referred  recruitment_channel_sourcing  \n",
       "0                             0                             1  \n",
       "1                             0                             0  \n",
       "2                             0                             1  \n",
       "3                             0                             0  \n",
       "4                             0                             0  \n",
       "\n",
       "[5 rows x 27 columns]"
      ]
     },
     "execution_count": 1253,
     "metadata": {},
     "output_type": "execute_result"
    }
   ],
   "source": [
    "#Using Label Encoding for region to convert them into Numerical\n",
    "from sklearn.preprocessing import LabelEncoder\n",
    "\n",
    "le = LabelEncoder()\n",
    "df['region'] = le.fit_transform(df['region'])\n",
    "df.head(5)"
   ]
  },
  {
   "cell_type": "code",
   "execution_count": 1254,
   "metadata": {},
   "outputs": [
    {
     "data": {
      "text/plain": [
       "Text(0, 0.5, 'Total Promotions')"
      ]
     },
     "execution_count": 1254,
     "metadata": {},
     "output_type": "execute_result"
    },
    {
     "data": {
      "image/png": "[encoded data removed]",
      "text/plain": [
       "<Figure size 720x360 with 1 Axes>"
      ]
     },
     "metadata": {
      "needs_background": "light"
     },
     "output_type": "display_data"
    }
   ],
   "source": [
    "#checking new region column with is_promoted \n",
    "#total promotions for a given region will be sum of 1s, 0+1=1, so all the 1s adds upto total promotions\n",
    "\n",
    "\n",
    "df.groupby(['region']).agg({'is_promoted':'sum'}).plot.bar(cmap=\"ocean\",width = 0.5,figsize=(10,5))\n",
    "plt.ylabel(\"Total Promotions\")"
   ]
  },
  {
   "cell_type": "markdown",
   "metadata": {},
   "source": [
    "<b>Noting</b><br/> the label encoded values for important regions:<br/>\n",
    "region 2,region 22, region 7 has been encoded as  11,14 and 31 respectively.\n"
   ]
  },
  {
   "cell_type": "code",
   "execution_count": 1255,
   "metadata": {},
   "outputs": [
    {
     "data": {
      "text/plain": [
       "region\n",
       "0      58\n",
       "1      51\n",
       "2      74\n",
       "3      33\n",
       "4     230\n",
       "5      62\n",
       "6     222\n",
       "7     102\n",
       "8     109\n",
       "9       1\n",
       "10     53\n",
       "11    989\n",
       "12     49\n",
       "13     18\n",
       "14    734\n",
       "15    137\n",
       "16     18\n",
       "17    103\n",
       "18    143\n",
       "19    131\n",
       "20    154\n",
       "21     43\n",
       "22     37\n",
       "23     59\n",
       "24    110\n",
       "25     40\n",
       "26     10\n",
       "27      8\n",
       "28    246\n",
       "29     35\n",
       "30     32\n",
       "31    516\n",
       "32     53\n",
       "33      8\n",
       "Name: is_promoted, dtype: int64"
      ]
     },
     "execution_count": 1255,
     "metadata": {},
     "output_type": "execute_result"
    }
   ],
   "source": [
    "#After encoding region vs is_promoted\n",
    "\n",
    "df.loc[df.is_promoted == 1 ].groupby('region')['is_promoted'].count()"
   ]
  },
  {
   "cell_type": "code",
   "execution_count": 1256,
   "metadata": {},
   "outputs": [
    {
     "data": {
      "text/plain": [
       "array([31, 14, 10, 15, 18, 11, 12, 27,  0, 28, 21, 24,  6,  5,  2, 29, 20,\n",
       "        8,  4,  7, 17,  1, 19, 23,  3, 13, 32, 25, 30, 26, 16, 22, 33,  9])"
      ]
     },
     "execution_count": 1256,
     "metadata": {},
     "output_type": "execute_result"
    }
   ],
   "source": [
    "#checking the new labels for region (total 33 labels)\n",
    "\n",
    "df.region.unique()"
   ]
  },
  {
   "cell_type": "code",
   "execution_count": 1257,
   "metadata": {},
   "outputs": [
    {
     "name": "stdout",
     "output_type": "stream",
     "text": [
      "<class 'pandas.core.frame.DataFrame'>\n",
      "RangeIndex: 54808 entries, 0 to 54807\n",
      "Data columns (total 27 columns):\n",
      " #   Column                        Non-Null Count  Dtype  \n",
      "---  ------                        --------------  -----  \n",
      " 0   employee_id                   54808 non-null  int64  \n",
      " 1   region                        54808 non-null  int32  \n",
      " 2   no_of_trainings               54808 non-null  int64  \n",
      " 3   age                           54808 non-null  int64  \n",
      " 4   previous_year_rating          54808 non-null  float64\n",
      " 5   length_of_service             54808 non-null  int64  \n",
      " 6   KPIs_met >80%                 54808 non-null  int64  \n",
      " 7   awards_won?                   54808 non-null  int64  \n",
      " 8   avg_training_score            54808 non-null  int64  \n",
      " 9   is_promoted                   54808 non-null  int64  \n",
      " 10  department_Analytics          54808 non-null  uint8  \n",
      " 11  department_Finance            54808 non-null  uint8  \n",
      " 12  department_HR                 54808 non-null  uint8  \n",
      " 13  department_Legal              54808 non-null  uint8  \n",
      " 14  department_Operations         54808 non-null  uint8  \n",
      " 15  department_Procurement        54808 non-null  uint8  \n",
      " 16  department_R&D                54808 non-null  uint8  \n",
      " 17  department_Sales & Marketing  54808 non-null  uint8  \n",
      " 18  department_Technology         54808 non-null  uint8  \n",
      " 19  gender_f                      54808 non-null  uint8  \n",
      " 20  gender_m                      54808 non-null  uint8  \n",
      " 21  education_Bachelor's          54808 non-null  uint8  \n",
      " 22  education_Below Secondary     54808 non-null  uint8  \n",
      " 23  education_Master's & above    54808 non-null  uint8  \n",
      " 24  recruitment_channel_other     54808 non-null  uint8  \n",
      " 25  recruitment_channel_referred  54808 non-null  uint8  \n",
      " 26  recruitment_channel_sourcing  54808 non-null  uint8  \n",
      "dtypes: float64(1), int32(1), int64(8), uint8(17)\n",
      "memory usage: 4.9 MB\n"
     ]
    }
   ],
   "source": [
    "df.info()"
   ]
  },
  {
   "cell_type": "markdown",
   "metadata": {},
   "source": [
    "<b>So all the caregorical columns having numerical value</b>"
   ]
  },
  {
   "cell_type": "markdown",
   "metadata": {},
   "source": [
    "<b>Now we will avoid dummy trap for the</b> <br>recruitment_channel<br/>education<br/>gender<br/>department,"
   ]
  },
  {
   "cell_type": "markdown",
   "metadata": {},
   "source": [
    "We will be dropping \"recruitment_channel_sourcing\" ,\"gender_f\" , \"department_Technology\" and \"education_Master's & above\""
   ]
  },
  {
   "cell_type": "code",
   "execution_count": 1258,
   "metadata": {},
   "outputs": [
    {
     "data": {
      "text/html": [
       "<div>\n",
       "<style scoped>\n",
       "    .dataframe tbody tr th:only-of-type {\n",
       "        vertical-align: middle;\n",
       "    }\n",
       "\n",
       "    .dataframe tbody tr th {\n",
       "        vertical-align: top;\n",
       "    }\n",
       "\n",
       "    .dataframe thead th {\n",
       "        text-align: right;\n",
       "    }\n",
       "</style>\n",
       "<table border=\"1\" class=\"dataframe\">\n",
       "  <thead>\n",
       "    <tr style=\"text-align: right;\">\n",
       "      <th></th>\n",
       "      <th>employee_id</th>\n",
       "      <th>region</th>\n",
       "      <th>no_of_trainings</th>\n",
       "      <th>age</th>\n",
       "      <th>previous_year_rating</th>\n",
       "      <th>length_of_service</th>\n",
       "      <th>KPIs_met &gt;80%</th>\n",
       "      <th>awards_won?</th>\n",
       "      <th>avg_training_score</th>\n",
       "      <th>is_promoted</th>\n",
       "      <th>...</th>\n",
       "      <th>department_Legal</th>\n",
       "      <th>department_Operations</th>\n",
       "      <th>department_Procurement</th>\n",
       "      <th>department_R&amp;D</th>\n",
       "      <th>department_Sales &amp; Marketing</th>\n",
       "      <th>gender_m</th>\n",
       "      <th>education_Bachelor's</th>\n",
       "      <th>education_Below Secondary</th>\n",
       "      <th>recruitment_channel_other</th>\n",
       "      <th>recruitment_channel_referred</th>\n",
       "    </tr>\n",
       "  </thead>\n",
       "  <tbody>\n",
       "    <tr>\n",
       "      <th>0</th>\n",
       "      <td>65438</td>\n",
       "      <td>31</td>\n",
       "      <td>1</td>\n",
       "      <td>35</td>\n",
       "      <td>5.0</td>\n",
       "      <td>8</td>\n",
       "      <td>1</td>\n",
       "      <td>0</td>\n",
       "      <td>49</td>\n",
       "      <td>0</td>\n",
       "      <td>...</td>\n",
       "      <td>0</td>\n",
       "      <td>0</td>\n",
       "      <td>0</td>\n",
       "      <td>0</td>\n",
       "      <td>1</td>\n",
       "      <td>0</td>\n",
       "      <td>0</td>\n",
       "      <td>0</td>\n",
       "      <td>0</td>\n",
       "      <td>0</td>\n",
       "    </tr>\n",
       "    <tr>\n",
       "      <th>1</th>\n",
       "      <td>65141</td>\n",
       "      <td>14</td>\n",
       "      <td>1</td>\n",
       "      <td>30</td>\n",
       "      <td>5.0</td>\n",
       "      <td>4</td>\n",
       "      <td>0</td>\n",
       "      <td>0</td>\n",
       "      <td>60</td>\n",
       "      <td>0</td>\n",
       "      <td>...</td>\n",
       "      <td>0</td>\n",
       "      <td>1</td>\n",
       "      <td>0</td>\n",
       "      <td>0</td>\n",
       "      <td>0</td>\n",
       "      <td>1</td>\n",
       "      <td>1</td>\n",
       "      <td>0</td>\n",
       "      <td>1</td>\n",
       "      <td>0</td>\n",
       "    </tr>\n",
       "    <tr>\n",
       "      <th>2</th>\n",
       "      <td>7513</td>\n",
       "      <td>10</td>\n",
       "      <td>1</td>\n",
       "      <td>34</td>\n",
       "      <td>3.0</td>\n",
       "      <td>7</td>\n",
       "      <td>0</td>\n",
       "      <td>0</td>\n",
       "      <td>50</td>\n",
       "      <td>0</td>\n",
       "      <td>...</td>\n",
       "      <td>0</td>\n",
       "      <td>0</td>\n",
       "      <td>0</td>\n",
       "      <td>0</td>\n",
       "      <td>1</td>\n",
       "      <td>1</td>\n",
       "      <td>1</td>\n",
       "      <td>0</td>\n",
       "      <td>0</td>\n",
       "      <td>0</td>\n",
       "    </tr>\n",
       "    <tr>\n",
       "      <th>3</th>\n",
       "      <td>2542</td>\n",
       "      <td>15</td>\n",
       "      <td>2</td>\n",
       "      <td>39</td>\n",
       "      <td>1.0</td>\n",
       "      <td>10</td>\n",
       "      <td>0</td>\n",
       "      <td>0</td>\n",
       "      <td>50</td>\n",
       "      <td>0</td>\n",
       "      <td>...</td>\n",
       "      <td>0</td>\n",
       "      <td>0</td>\n",
       "      <td>0</td>\n",
       "      <td>0</td>\n",
       "      <td>1</td>\n",
       "      <td>1</td>\n",
       "      <td>1</td>\n",
       "      <td>0</td>\n",
       "      <td>1</td>\n",
       "      <td>0</td>\n",
       "    </tr>\n",
       "    <tr>\n",
       "      <th>4</th>\n",
       "      <td>48945</td>\n",
       "      <td>18</td>\n",
       "      <td>1</td>\n",
       "      <td>45</td>\n",
       "      <td>3.0</td>\n",
       "      <td>2</td>\n",
       "      <td>0</td>\n",
       "      <td>0</td>\n",
       "      <td>73</td>\n",
       "      <td>0</td>\n",
       "      <td>...</td>\n",
       "      <td>0</td>\n",
       "      <td>0</td>\n",
       "      <td>0</td>\n",
       "      <td>0</td>\n",
       "      <td>0</td>\n",
       "      <td>1</td>\n",
       "      <td>1</td>\n",
       "      <td>0</td>\n",
       "      <td>1</td>\n",
       "      <td>0</td>\n",
       "    </tr>\n",
       "  </tbody>\n",
       "</table>\n",
       "<p>5 rows × 23 columns</p>\n",
       "</div>"
      ],
      "text/plain": [
       "   employee_id  region  no_of_trainings  age  previous_year_rating  \\\n",
       "0        65438      31                1   35                   5.0   \n",
       "1        65141      14                1   30                   5.0   \n",
       "2         7513      10                1   34                   3.0   \n",
       "3         2542      15                2   39                   1.0   \n",
       "4        48945      18                1   45                   3.0   \n",
       "\n",
       "   length_of_service  KPIs_met >80%  awards_won?  avg_training_score  \\\n",
       "0                  8              1            0                  49   \n",
       "1                  4              0            0                  60   \n",
       "2                  7              0            0                  50   \n",
       "3                 10              0            0                  50   \n",
       "4                  2              0            0                  73   \n",
       "\n",
       "   is_promoted  ...  department_Legal  department_Operations  \\\n",
       "0            0  ...                 0                      0   \n",
       "1            0  ...                 0                      1   \n",
       "2            0  ...                 0                      0   \n",
       "3            0  ...                 0                      0   \n",
       "4            0  ...                 0                      0   \n",
       "\n",
       "   department_Procurement  department_R&D  department_Sales & Marketing  \\\n",
       "0                       0               0                             1   \n",
       "1                       0               0                             0   \n",
       "2                       0               0                             1   \n",
       "3                       0               0                             1   \n",
       "4                       0               0                             0   \n",
       "\n",
       "   gender_m  education_Bachelor's  education_Below Secondary  \\\n",
       "0         0                     0                          0   \n",
       "1         1                     1                          0   \n",
       "2         1                     1                          0   \n",
       "3         1                     1                          0   \n",
       "4         1                     1                          0   \n",
       "\n",
       "   recruitment_channel_other  recruitment_channel_referred  \n",
       "0                          0                             0  \n",
       "1                          1                             0  \n",
       "2                          0                             0  \n",
       "3                          1                             0  \n",
       "4                          1                             0  \n",
       "\n",
       "[5 rows x 23 columns]"
      ]
     },
     "execution_count": 1258,
     "metadata": {},
     "output_type": "execute_result"
    }
   ],
   "source": [
    "df.drop(['recruitment_channel_sourcing','gender_f','department_Technology',\"education_Master's & above\"],inplace=True,axis=1)\n",
    "df.head(5)"
   ]
  },
  {
   "cell_type": "markdown",
   "metadata": {},
   "source": [
    "#### We will also drop \"employee_id\" as it is unique to all the records and we dont need this index"
   ]
  },
  {
   "cell_type": "code",
   "execution_count": 1259,
   "metadata": {},
   "outputs": [
    {
     "data": {
      "text/html": [
       "<div>\n",
       "<style scoped>\n",
       "    .dataframe tbody tr th:only-of-type {\n",
       "        vertical-align: middle;\n",
       "    }\n",
       "\n",
       "    .dataframe tbody tr th {\n",
       "        vertical-align: top;\n",
       "    }\n",
       "\n",
       "    .dataframe thead th {\n",
       "        text-align: right;\n",
       "    }\n",
       "</style>\n",
       "<table border=\"1\" class=\"dataframe\">\n",
       "  <thead>\n",
       "    <tr style=\"text-align: right;\">\n",
       "      <th></th>\n",
       "      <th>region</th>\n",
       "      <th>no_of_trainings</th>\n",
       "      <th>age</th>\n",
       "      <th>previous_year_rating</th>\n",
       "      <th>length_of_service</th>\n",
       "      <th>KPIs_met &gt;80%</th>\n",
       "      <th>awards_won?</th>\n",
       "      <th>avg_training_score</th>\n",
       "      <th>is_promoted</th>\n",
       "      <th>department_Analytics</th>\n",
       "      <th>...</th>\n",
       "      <th>department_Legal</th>\n",
       "      <th>department_Operations</th>\n",
       "      <th>department_Procurement</th>\n",
       "      <th>department_R&amp;D</th>\n",
       "      <th>department_Sales &amp; Marketing</th>\n",
       "      <th>gender_m</th>\n",
       "      <th>education_Bachelor's</th>\n",
       "      <th>education_Below Secondary</th>\n",
       "      <th>recruitment_channel_other</th>\n",
       "      <th>recruitment_channel_referred</th>\n",
       "    </tr>\n",
       "  </thead>\n",
       "  <tbody>\n",
       "    <tr>\n",
       "      <th>0</th>\n",
       "      <td>31</td>\n",
       "      <td>1</td>\n",
       "      <td>35</td>\n",
       "      <td>5.0</td>\n",
       "      <td>8</td>\n",
       "      <td>1</td>\n",
       "      <td>0</td>\n",
       "      <td>49</td>\n",
       "      <td>0</td>\n",
       "      <td>0</td>\n",
       "      <td>...</td>\n",
       "      <td>0</td>\n",
       "      <td>0</td>\n",
       "      <td>0</td>\n",
       "      <td>0</td>\n",
       "      <td>1</td>\n",
       "      <td>0</td>\n",
       "      <td>0</td>\n",
       "      <td>0</td>\n",
       "      <td>0</td>\n",
       "      <td>0</td>\n",
       "    </tr>\n",
       "    <tr>\n",
       "      <th>1</th>\n",
       "      <td>14</td>\n",
       "      <td>1</td>\n",
       "      <td>30</td>\n",
       "      <td>5.0</td>\n",
       "      <td>4</td>\n",
       "      <td>0</td>\n",
       "      <td>0</td>\n",
       "      <td>60</td>\n",
       "      <td>0</td>\n",
       "      <td>0</td>\n",
       "      <td>...</td>\n",
       "      <td>0</td>\n",
       "      <td>1</td>\n",
       "      <td>0</td>\n",
       "      <td>0</td>\n",
       "      <td>0</td>\n",
       "      <td>1</td>\n",
       "      <td>1</td>\n",
       "      <td>0</td>\n",
       "      <td>1</td>\n",
       "      <td>0</td>\n",
       "    </tr>\n",
       "    <tr>\n",
       "      <th>2</th>\n",
       "      <td>10</td>\n",
       "      <td>1</td>\n",
       "      <td>34</td>\n",
       "      <td>3.0</td>\n",
       "      <td>7</td>\n",
       "      <td>0</td>\n",
       "      <td>0</td>\n",
       "      <td>50</td>\n",
       "      <td>0</td>\n",
       "      <td>0</td>\n",
       "      <td>...</td>\n",
       "      <td>0</td>\n",
       "      <td>0</td>\n",
       "      <td>0</td>\n",
       "      <td>0</td>\n",
       "      <td>1</td>\n",
       "      <td>1</td>\n",
       "      <td>1</td>\n",
       "      <td>0</td>\n",
       "      <td>0</td>\n",
       "      <td>0</td>\n",
       "    </tr>\n",
       "    <tr>\n",
       "      <th>3</th>\n",
       "      <td>15</td>\n",
       "      <td>2</td>\n",
       "      <td>39</td>\n",
       "      <td>1.0</td>\n",
       "      <td>10</td>\n",
       "      <td>0</td>\n",
       "      <td>0</td>\n",
       "      <td>50</td>\n",
       "      <td>0</td>\n",
       "      <td>0</td>\n",
       "      <td>...</td>\n",
       "      <td>0</td>\n",
       "      <td>0</td>\n",
       "      <td>0</td>\n",
       "      <td>0</td>\n",
       "      <td>1</td>\n",
       "      <td>1</td>\n",
       "      <td>1</td>\n",
       "      <td>0</td>\n",
       "      <td>1</td>\n",
       "      <td>0</td>\n",
       "    </tr>\n",
       "    <tr>\n",
       "      <th>4</th>\n",
       "      <td>18</td>\n",
       "      <td>1</td>\n",
       "      <td>45</td>\n",
       "      <td>3.0</td>\n",
       "      <td>2</td>\n",
       "      <td>0</td>\n",
       "      <td>0</td>\n",
       "      <td>73</td>\n",
       "      <td>0</td>\n",
       "      <td>0</td>\n",
       "      <td>...</td>\n",
       "      <td>0</td>\n",
       "      <td>0</td>\n",
       "      <td>0</td>\n",
       "      <td>0</td>\n",
       "      <td>0</td>\n",
       "      <td>1</td>\n",
       "      <td>1</td>\n",
       "      <td>0</td>\n",
       "      <td>1</td>\n",
       "      <td>0</td>\n",
       "    </tr>\n",
       "  </tbody>\n",
       "</table>\n",
       "<p>5 rows × 22 columns</p>\n",
       "</div>"
      ],
      "text/plain": [
       "   region  no_of_trainings  age  previous_year_rating  length_of_service  \\\n",
       "0      31                1   35                   5.0                  8   \n",
       "1      14                1   30                   5.0                  4   \n",
       "2      10                1   34                   3.0                  7   \n",
       "3      15                2   39                   1.0                 10   \n",
       "4      18                1   45                   3.0                  2   \n",
       "\n",
       "   KPIs_met >80%  awards_won?  avg_training_score  is_promoted  \\\n",
       "0              1            0                  49            0   \n",
       "1              0            0                  60            0   \n",
       "2              0            0                  50            0   \n",
       "3              0            0                  50            0   \n",
       "4              0            0                  73            0   \n",
       "\n",
       "   department_Analytics  ...  department_Legal  department_Operations  \\\n",
       "0                     0  ...                 0                      0   \n",
       "1                     0  ...                 0                      1   \n",
       "2                     0  ...                 0                      0   \n",
       "3                     0  ...                 0                      0   \n",
       "4                     0  ...                 0                      0   \n",
       "\n",
       "   department_Procurement  department_R&D  department_Sales & Marketing  \\\n",
       "0                       0               0                             1   \n",
       "1                       0               0                             0   \n",
       "2                       0               0                             1   \n",
       "3                       0               0                             1   \n",
       "4                       0               0                             0   \n",
       "\n",
       "   gender_m  education_Bachelor's  education_Below Secondary  \\\n",
       "0         0                     0                          0   \n",
       "1         1                     1                          0   \n",
       "2         1                     1                          0   \n",
       "3         1                     1                          0   \n",
       "4         1                     1                          0   \n",
       "\n",
       "   recruitment_channel_other  recruitment_channel_referred  \n",
       "0                          0                             0  \n",
       "1                          1                             0  \n",
       "2                          0                             0  \n",
       "3                          1                             0  \n",
       "4                          1                             0  \n",
       "\n",
       "[5 rows x 22 columns]"
      ]
     },
     "execution_count": 1259,
     "metadata": {},
     "output_type": "execute_result"
    }
   ],
   "source": [
    "df.drop([\"employee_id\"],inplace=True,axis=1)\n",
    "df.head(5)"
   ]
  },
  {
   "cell_type": "code",
   "execution_count": 1260,
   "metadata": {},
   "outputs": [
    {
     "data": {
      "text/plain": [
       "(54808, 22)"
      ]
     },
     "execution_count": 1260,
     "metadata": {},
     "output_type": "execute_result"
    }
   ],
   "source": [
    "df.shape"
   ]
  },
  {
   "cell_type": "code",
   "execution_count": 1261,
   "metadata": {},
   "outputs": [
    {
     "data": {
      "text/plain": [
       "Index(['region', 'no_of_trainings', 'age', 'previous_year_rating',\n",
       "       'length_of_service', 'KPIs_met >80%', 'awards_won?',\n",
       "       'avg_training_score', 'is_promoted', 'department_Analytics',\n",
       "       'department_Finance', 'department_HR', 'department_Legal',\n",
       "       'department_Operations', 'department_Procurement', 'department_R&D',\n",
       "       'department_Sales & Marketing', 'gender_m', 'education_Bachelor's',\n",
       "       'education_Below Secondary', 'recruitment_channel_other',\n",
       "       'recruitment_channel_referred'],\n",
       "      dtype='object')"
      ]
     },
     "execution_count": 1261,
     "metadata": {},
     "output_type": "execute_result"
    }
   ],
   "source": [
    "df.columns.unique()"
   ]
  },
  {
   "cell_type": "code",
   "execution_count": 1262,
   "metadata": {},
   "outputs": [
    {
     "name": "stdout",
     "output_type": "stream",
     "text": [
      "<class 'pandas.core.frame.DataFrame'>\n",
      "RangeIndex: 54808 entries, 0 to 54807\n",
      "Data columns (total 22 columns):\n",
      " #   Column                        Non-Null Count  Dtype  \n",
      "---  ------                        --------------  -----  \n",
      " 0   region                        54808 non-null  int32  \n",
      " 1   no_of_trainings               54808 non-null  int64  \n",
      " 2   age                           54808 non-null  int64  \n",
      " 3   previous_year_rating          54808 non-null  float64\n",
      " 4   length_of_service             54808 non-null  int64  \n",
      " 5   KPIs_met >80%                 54808 non-null  int64  \n",
      " 6   awards_won?                   54808 non-null  int64  \n",
      " 7   avg_training_score            54808 non-null  int64  \n",
      " 8   is_promoted                   54808 non-null  int64  \n",
      " 9   department_Analytics          54808 non-null  uint8  \n",
      " 10  department_Finance            54808 non-null  uint8  \n",
      " 11  department_HR                 54808 non-null  uint8  \n",
      " 12  department_Legal              54808 non-null  uint8  \n",
      " 13  department_Operations         54808 non-null  uint8  \n",
      " 14  department_Procurement        54808 non-null  uint8  \n",
      " 15  department_R&D                54808 non-null  uint8  \n",
      " 16  department_Sales & Marketing  54808 non-null  uint8  \n",
      " 17  gender_m                      54808 non-null  uint8  \n",
      " 18  education_Bachelor's          54808 non-null  uint8  \n",
      " 19  education_Below Secondary     54808 non-null  uint8  \n",
      " 20  recruitment_channel_other     54808 non-null  uint8  \n",
      " 21  recruitment_channel_referred  54808 non-null  uint8  \n",
      "dtypes: float64(1), int32(1), int64(7), uint8(13)\n",
      "memory usage: 4.2 MB\n"
     ]
    }
   ],
   "source": [
    "df.info()"
   ]
  },
  {
   "cell_type": "markdown",
   "metadata": {},
   "source": [
    "#### Shifting Target column (\"is_promoted\") to last in df:"
   ]
  },
  {
   "cell_type": "code",
   "execution_count": 1263,
   "metadata": {},
   "outputs": [],
   "source": [
    "##changing position of in \"is_promoted\" column to last for better visual in following heat map and ease of operation with\n",
    "##Target variable(\"is_promoted\"):"
   ]
  },
  {
   "cell_type": "code",
   "execution_count": 1264,
   "metadata": {},
   "outputs": [],
   "source": [
    "df_new=df.copy()\n"
   ]
  },
  {
   "cell_type": "code",
   "execution_count": 1265,
   "metadata": {},
   "outputs": [],
   "source": [
    "df_new.drop([\"is_promoted\"],inplace =True,axis=1)"
   ]
  },
  {
   "cell_type": "code",
   "execution_count": 1266,
   "metadata": {},
   "outputs": [],
   "source": [
    "df_combined = pd.concat([df_new, df.iloc[:,8]],axis=1,sort=False)"
   ]
  },
  {
   "cell_type": "code",
   "execution_count": 1267,
   "metadata": {},
   "outputs": [
    {
     "data": {
      "text/html": [
       "<div>\n",
       "<style scoped>\n",
       "    .dataframe tbody tr th:only-of-type {\n",
       "        vertical-align: middle;\n",
       "    }\n",
       "\n",
       "    .dataframe tbody tr th {\n",
       "        vertical-align: top;\n",
       "    }\n",
       "\n",
       "    .dataframe thead th {\n",
       "        text-align: right;\n",
       "    }\n",
       "</style>\n",
       "<table border=\"1\" class=\"dataframe\">\n",
       "  <thead>\n",
       "    <tr style=\"text-align: right;\">\n",
       "      <th></th>\n",
       "      <th>region</th>\n",
       "      <th>no_of_trainings</th>\n",
       "      <th>age</th>\n",
       "      <th>previous_year_rating</th>\n",
       "      <th>length_of_service</th>\n",
       "      <th>KPIs_met &gt;80%</th>\n",
       "      <th>awards_won?</th>\n",
       "      <th>avg_training_score</th>\n",
       "      <th>department_Analytics</th>\n",
       "      <th>department_Finance</th>\n",
       "      <th>...</th>\n",
       "      <th>department_Operations</th>\n",
       "      <th>department_Procurement</th>\n",
       "      <th>department_R&amp;D</th>\n",
       "      <th>department_Sales &amp; Marketing</th>\n",
       "      <th>gender_m</th>\n",
       "      <th>education_Bachelor's</th>\n",
       "      <th>education_Below Secondary</th>\n",
       "      <th>recruitment_channel_other</th>\n",
       "      <th>recruitment_channel_referred</th>\n",
       "      <th>is_promoted</th>\n",
       "    </tr>\n",
       "  </thead>\n",
       "  <tbody>\n",
       "    <tr>\n",
       "      <th>0</th>\n",
       "      <td>31</td>\n",
       "      <td>1</td>\n",
       "      <td>35</td>\n",
       "      <td>5.0</td>\n",
       "      <td>8</td>\n",
       "      <td>1</td>\n",
       "      <td>0</td>\n",
       "      <td>49</td>\n",
       "      <td>0</td>\n",
       "      <td>0</td>\n",
       "      <td>...</td>\n",
       "      <td>0</td>\n",
       "      <td>0</td>\n",
       "      <td>0</td>\n",
       "      <td>1</td>\n",
       "      <td>0</td>\n",
       "      <td>0</td>\n",
       "      <td>0</td>\n",
       "      <td>0</td>\n",
       "      <td>0</td>\n",
       "      <td>0</td>\n",
       "    </tr>\n",
       "    <tr>\n",
       "      <th>1</th>\n",
       "      <td>14</td>\n",
       "      <td>1</td>\n",
       "      <td>30</td>\n",
       "      <td>5.0</td>\n",
       "      <td>4</td>\n",
       "      <td>0</td>\n",
       "      <td>0</td>\n",
       "      <td>60</td>\n",
       "      <td>0</td>\n",
       "      <td>0</td>\n",
       "      <td>...</td>\n",
       "      <td>1</td>\n",
       "      <td>0</td>\n",
       "      <td>0</td>\n",
       "      <td>0</td>\n",
       "      <td>1</td>\n",
       "      <td>1</td>\n",
       "      <td>0</td>\n",
       "      <td>1</td>\n",
       "      <td>0</td>\n",
       "      <td>0</td>\n",
       "    </tr>\n",
       "    <tr>\n",
       "      <th>2</th>\n",
       "      <td>10</td>\n",
       "      <td>1</td>\n",
       "      <td>34</td>\n",
       "      <td>3.0</td>\n",
       "      <td>7</td>\n",
       "      <td>0</td>\n",
       "      <td>0</td>\n",
       "      <td>50</td>\n",
       "      <td>0</td>\n",
       "      <td>0</td>\n",
       "      <td>...</td>\n",
       "      <td>0</td>\n",
       "      <td>0</td>\n",
       "      <td>0</td>\n",
       "      <td>1</td>\n",
       "      <td>1</td>\n",
       "      <td>1</td>\n",
       "      <td>0</td>\n",
       "      <td>0</td>\n",
       "      <td>0</td>\n",
       "      <td>0</td>\n",
       "    </tr>\n",
       "    <tr>\n",
       "      <th>3</th>\n",
       "      <td>15</td>\n",
       "      <td>2</td>\n",
       "      <td>39</td>\n",
       "      <td>1.0</td>\n",
       "      <td>10</td>\n",
       "      <td>0</td>\n",
       "      <td>0</td>\n",
       "      <td>50</td>\n",
       "      <td>0</td>\n",
       "      <td>0</td>\n",
       "      <td>...</td>\n",
       "      <td>0</td>\n",
       "      <td>0</td>\n",
       "      <td>0</td>\n",
       "      <td>1</td>\n",
       "      <td>1</td>\n",
       "      <td>1</td>\n",
       "      <td>0</td>\n",
       "      <td>1</td>\n",
       "      <td>0</td>\n",
       "      <td>0</td>\n",
       "    </tr>\n",
       "    <tr>\n",
       "      <th>4</th>\n",
       "      <td>18</td>\n",
       "      <td>1</td>\n",
       "      <td>45</td>\n",
       "      <td>3.0</td>\n",
       "      <td>2</td>\n",
       "      <td>0</td>\n",
       "      <td>0</td>\n",
       "      <td>73</td>\n",
       "      <td>0</td>\n",
       "      <td>0</td>\n",
       "      <td>...</td>\n",
       "      <td>0</td>\n",
       "      <td>0</td>\n",
       "      <td>0</td>\n",
       "      <td>0</td>\n",
       "      <td>1</td>\n",
       "      <td>1</td>\n",
       "      <td>0</td>\n",
       "      <td>1</td>\n",
       "      <td>0</td>\n",
       "      <td>0</td>\n",
       "    </tr>\n",
       "  </tbody>\n",
       "</table>\n",
       "<p>5 rows × 22 columns</p>\n",
       "</div>"
      ],
      "text/plain": [
       "   region  no_of_trainings  age  previous_year_rating  length_of_service  \\\n",
       "0      31                1   35                   5.0                  8   \n",
       "1      14                1   30                   5.0                  4   \n",
       "2      10                1   34                   3.0                  7   \n",
       "3      15                2   39                   1.0                 10   \n",
       "4      18                1   45                   3.0                  2   \n",
       "\n",
       "   KPIs_met >80%  awards_won?  avg_training_score  department_Analytics  \\\n",
       "0              1            0                  49                     0   \n",
       "1              0            0                  60                     0   \n",
       "2              0            0                  50                     0   \n",
       "3              0            0                  50                     0   \n",
       "4              0            0                  73                     0   \n",
       "\n",
       "   department_Finance  ...  department_Operations  department_Procurement  \\\n",
       "0                   0  ...                      0                       0   \n",
       "1                   0  ...                      1                       0   \n",
       "2                   0  ...                      0                       0   \n",
       "3                   0  ...                      0                       0   \n",
       "4                   0  ...                      0                       0   \n",
       "\n",
       "   department_R&D  department_Sales & Marketing  gender_m  \\\n",
       "0               0                             1         0   \n",
       "1               0                             0         1   \n",
       "2               0                             1         1   \n",
       "3               0                             1         1   \n",
       "4               0                             0         1   \n",
       "\n",
       "   education_Bachelor's  education_Below Secondary  recruitment_channel_other  \\\n",
       "0                     0                          0                          0   \n",
       "1                     1                          0                          1   \n",
       "2                     1                          0                          0   \n",
       "3                     1                          0                          1   \n",
       "4                     1                          0                          1   \n",
       "\n",
       "   recruitment_channel_referred  is_promoted  \n",
       "0                             0            0  \n",
       "1                             0            0  \n",
       "2                             0            0  \n",
       "3                             0            0  \n",
       "4                             0            0  \n",
       "\n",
       "[5 rows x 22 columns]"
      ]
     },
     "execution_count": 1267,
     "metadata": {},
     "output_type": "execute_result"
    }
   ],
   "source": [
    "df=df_combined\n",
    "df.head(5)"
   ]
  },
  {
   "cell_type": "code",
   "execution_count": 1268,
   "metadata": {},
   "outputs": [],
   "source": [
    "# Now we have 21 columns and one Target column i.e(\"is_promoted\")"
   ]
  },
  {
   "cell_type": "markdown",
   "metadata": {},
   "source": [
    "###### Recheck the dataframe"
   ]
  },
  {
   "cell_type": "code",
   "execution_count": 1269,
   "metadata": {},
   "outputs": [
    {
     "data": {
      "text/plain": [
       "(54808, 22)"
      ]
     },
     "execution_count": 1269,
     "metadata": {},
     "output_type": "execute_result"
    }
   ],
   "source": [
    "df.shape"
   ]
  },
  {
   "cell_type": "code",
   "execution_count": 1270,
   "metadata": {},
   "outputs": [
    {
     "data": {
      "text/plain": [
       "Index(['region', 'no_of_trainings', 'age', 'previous_year_rating',\n",
       "       'length_of_service', 'KPIs_met >80%', 'awards_won?',\n",
       "       'avg_training_score', 'department_Analytics', 'department_Finance',\n",
       "       'department_HR', 'department_Legal', 'department_Operations',\n",
       "       'department_Procurement', 'department_R&D',\n",
       "       'department_Sales & Marketing', 'gender_m', 'education_Bachelor's',\n",
       "       'education_Below Secondary', 'recruitment_channel_other',\n",
       "       'recruitment_channel_referred', 'is_promoted'],\n",
       "      dtype='object')"
      ]
     },
     "execution_count": 1270,
     "metadata": {},
     "output_type": "execute_result"
    }
   ],
   "source": [
    "df.columns.unique()"
   ]
  },
  {
   "cell_type": "code",
   "execution_count": 1271,
   "metadata": {},
   "outputs": [
    {
     "data": {
      "text/plain": [
       "region                          0\n",
       "no_of_trainings                 0\n",
       "age                             0\n",
       "previous_year_rating            0\n",
       "length_of_service               0\n",
       "KPIs_met >80%                   0\n",
       "awards_won?                     0\n",
       "avg_training_score              0\n",
       "department_Analytics            0\n",
       "department_Finance              0\n",
       "department_HR                   0\n",
       "department_Legal                0\n",
       "department_Operations           0\n",
       "department_Procurement          0\n",
       "department_R&D                  0\n",
       "department_Sales & Marketing    0\n",
       "gender_m                        0\n",
       "education_Bachelor's            0\n",
       "education_Below Secondary       0\n",
       "recruitment_channel_other       0\n",
       "recruitment_channel_referred    0\n",
       "is_promoted                     0\n",
       "dtype: int64"
      ]
     },
     "execution_count": 1271,
     "metadata": {},
     "output_type": "execute_result"
    }
   ],
   "source": [
    "df.isnull().sum()"
   ]
  },
  {
   "cell_type": "markdown",
   "metadata": {},
   "source": [
    "##### So our Data Cleaning and Preparation part is over ###########"
   ]
  },
  {
   "cell_type": "markdown",
   "metadata": {},
   "source": [
    "#### Bivariate"
   ]
  },
  {
   "cell_type": "code",
   "execution_count": 1272,
   "metadata": {},
   "outputs": [
    {
     "data": {
      "text/html": [
       "<div>\n",
       "<style scoped>\n",
       "    .dataframe tbody tr th:only-of-type {\n",
       "        vertical-align: middle;\n",
       "    }\n",
       "\n",
       "    .dataframe tbody tr th {\n",
       "        vertical-align: top;\n",
       "    }\n",
       "\n",
       "    .dataframe thead th {\n",
       "        text-align: right;\n",
       "    }\n",
       "</style>\n",
       "<table border=\"1\" class=\"dataframe\">\n",
       "  <thead>\n",
       "    <tr style=\"text-align: right;\">\n",
       "      <th></th>\n",
       "      <th>region</th>\n",
       "      <th>no_of_trainings</th>\n",
       "      <th>age</th>\n",
       "      <th>previous_year_rating</th>\n",
       "      <th>length_of_service</th>\n",
       "      <th>KPIs_met &gt;80%</th>\n",
       "      <th>awards_won?</th>\n",
       "      <th>avg_training_score</th>\n",
       "      <th>department_Analytics</th>\n",
       "      <th>department_Finance</th>\n",
       "      <th>...</th>\n",
       "      <th>department_Operations</th>\n",
       "      <th>department_Procurement</th>\n",
       "      <th>department_R&amp;D</th>\n",
       "      <th>department_Sales &amp; Marketing</th>\n",
       "      <th>gender_m</th>\n",
       "      <th>education_Bachelor's</th>\n",
       "      <th>education_Below Secondary</th>\n",
       "      <th>recruitment_channel_other</th>\n",
       "      <th>recruitment_channel_referred</th>\n",
       "      <th>is_promoted</th>\n",
       "    </tr>\n",
       "  </thead>\n",
       "  <tbody>\n",
       "    <tr>\n",
       "      <th>region</th>\n",
       "      <td>1.000000</td>\n",
       "      <td>-0.004590</td>\n",
       "      <td>-0.088918</td>\n",
       "      <td>-0.005977</td>\n",
       "      <td>-0.058939</td>\n",
       "      <td>-0.007664</td>\n",
       "      <td>0.000307</td>\n",
       "      <td>0.023572</td>\n",
       "      <td>0.043964</td>\n",
       "      <td>0.013746</td>\n",
       "      <td>...</td>\n",
       "      <td>-0.011657</td>\n",
       "      <td>-0.045151</td>\n",
       "      <td>0.013934</td>\n",
       "      <td>-0.000275</td>\n",
       "      <td>0.019730</td>\n",
       "      <td>0.005369</td>\n",
       "      <td>-0.012170</td>\n",
       "      <td>0.007543</td>\n",
       "      <td>-0.046168</td>\n",
       "      <td>0.008841</td>\n",
       "    </tr>\n",
       "    <tr>\n",
       "      <th>no_of_trainings</th>\n",
       "      <td>-0.004590</td>\n",
       "      <td>1.000000</td>\n",
       "      <td>-0.081278</td>\n",
       "      <td>-0.061564</td>\n",
       "      <td>-0.057275</td>\n",
       "      <td>-0.045576</td>\n",
       "      <td>-0.007628</td>\n",
       "      <td>0.042517</td>\n",
       "      <td>0.045791</td>\n",
       "      <td>0.018442</td>\n",
       "      <td>...</td>\n",
       "      <td>-0.077320</td>\n",
       "      <td>0.044313</td>\n",
       "      <td>0.033410</td>\n",
       "      <td>0.026698</td>\n",
       "      <td>0.084501</td>\n",
       "      <td>0.032297</td>\n",
       "      <td>0.004562</td>\n",
       "      <td>0.012225</td>\n",
       "      <td>-0.013615</td>\n",
       "      <td>-0.024896</td>\n",
       "    </tr>\n",
       "    <tr>\n",
       "      <th>age</th>\n",
       "      <td>-0.088918</td>\n",
       "      <td>-0.081278</td>\n",
       "      <td>1.000000</td>\n",
       "      <td>0.026810</td>\n",
       "      <td>0.657111</td>\n",
       "      <td>-0.025592</td>\n",
       "      <td>-0.008169</td>\n",
       "      <td>-0.048380</td>\n",
       "      <td>-0.101895</td>\n",
       "      <td>-0.078936</td>\n",
       "      <td>...</td>\n",
       "      <td>0.084703</td>\n",
       "      <td>0.055369</td>\n",
       "      <td>-0.034883</td>\n",
       "      <td>0.004931</td>\n",
       "      <td>-0.016293</td>\n",
       "      <td>-0.310979</td>\n",
       "      <td>-0.174815</td>\n",
       "      <td>0.017304</td>\n",
       "      <td>-0.042124</td>\n",
       "      <td>-0.017166</td>\n",
       "    </tr>\n",
       "    <tr>\n",
       "      <th>previous_year_rating</th>\n",
       "      <td>-0.005977</td>\n",
       "      <td>-0.061564</td>\n",
       "      <td>0.026810</td>\n",
       "      <td>1.000000</td>\n",
       "      <td>0.023504</td>\n",
       "      <td>0.337367</td>\n",
       "      <td>0.026587</td>\n",
       "      <td>0.071926</td>\n",
       "      <td>0.055326</td>\n",
       "      <td>0.026371</td>\n",
       "      <td>...</td>\n",
       "      <td>0.124059</td>\n",
       "      <td>-0.007515</td>\n",
       "      <td>0.023559</td>\n",
       "      <td>-0.132583</td>\n",
       "      <td>-0.024024</td>\n",
       "      <td>-0.026613</td>\n",
       "      <td>-0.002386</td>\n",
       "      <td>-0.015120</td>\n",
       "      <td>0.065856</td>\n",
       "      <td>0.153230</td>\n",
       "    </tr>\n",
       "    <tr>\n",
       "      <th>length_of_service</th>\n",
       "      <td>-0.058939</td>\n",
       "      <td>-0.057275</td>\n",
       "      <td>0.657111</td>\n",
       "      <td>0.023504</td>\n",
       "      <td>1.000000</td>\n",
       "      <td>-0.077693</td>\n",
       "      <td>-0.039927</td>\n",
       "      <td>-0.038122</td>\n",
       "      <td>-0.071945</td>\n",
       "      <td>-0.054025</td>\n",
       "      <td>...</td>\n",
       "      <td>0.065956</td>\n",
       "      <td>0.042237</td>\n",
       "      <td>-0.041881</td>\n",
       "      <td>0.007305</td>\n",
       "      <td>-0.019675</td>\n",
       "      <td>-0.213880</td>\n",
       "      <td>-0.119119</td>\n",
       "      <td>0.007202</td>\n",
       "      <td>-0.030292</td>\n",
       "      <td>-0.010670</td>\n",
       "    </tr>\n",
       "    <tr>\n",
       "      <th>KPIs_met &gt;80%</th>\n",
       "      <td>-0.007664</td>\n",
       "      <td>-0.045576</td>\n",
       "      <td>-0.025592</td>\n",
       "      <td>0.337367</td>\n",
       "      <td>-0.077693</td>\n",
       "      <td>1.000000</td>\n",
       "      <td>0.097000</td>\n",
       "      <td>0.078391</td>\n",
       "      <td>0.035938</td>\n",
       "      <td>0.028987</td>\n",
       "      <td>...</td>\n",
       "      <td>0.084272</td>\n",
       "      <td>0.020728</td>\n",
       "      <td>0.018385</td>\n",
       "      <td>-0.121167</td>\n",
       "      <td>-0.037400</td>\n",
       "      <td>-0.013550</td>\n",
       "      <td>0.012278</td>\n",
       "      <td>-0.006551</td>\n",
       "      <td>0.047621</td>\n",
       "      <td>0.221582</td>\n",
       "    </tr>\n",
       "    <tr>\n",
       "      <th>awards_won?</th>\n",
       "      <td>0.000307</td>\n",
       "      <td>-0.007628</td>\n",
       "      <td>-0.008169</td>\n",
       "      <td>0.026587</td>\n",
       "      <td>-0.039927</td>\n",
       "      <td>0.097000</td>\n",
       "      <td>1.000000</td>\n",
       "      <td>0.072138</td>\n",
       "      <td>0.002445</td>\n",
       "      <td>0.006487</td>\n",
       "      <td>...</td>\n",
       "      <td>-0.000285</td>\n",
       "      <td>0.002018</td>\n",
       "      <td>-0.001948</td>\n",
       "      <td>-0.007679</td>\n",
       "      <td>0.002381</td>\n",
       "      <td>0.002009</td>\n",
       "      <td>-0.004691</td>\n",
       "      <td>0.005006</td>\n",
       "      <td>0.003004</td>\n",
       "      <td>0.195871</td>\n",
       "    </tr>\n",
       "    <tr>\n",
       "      <th>avg_training_score</th>\n",
       "      <td>0.023572</td>\n",
       "      <td>0.042517</td>\n",
       "      <td>-0.048380</td>\n",
       "      <td>0.071926</td>\n",
       "      <td>-0.038122</td>\n",
       "      <td>0.078391</td>\n",
       "      <td>0.072138</td>\n",
       "      <td>1.000000</td>\n",
       "      <td>0.521961</td>\n",
       "      <td>-0.052132</td>\n",
       "      <td>...</td>\n",
       "      <td>-0.120764</td>\n",
       "      <td>0.194926</td>\n",
       "      <td>0.216130</td>\n",
       "      <td>-0.653710</td>\n",
       "      <td>-0.024494</td>\n",
       "      <td>-0.034102</td>\n",
       "      <td>0.014050</td>\n",
       "      <td>-0.001999</td>\n",
       "      <td>0.030496</td>\n",
       "      <td>0.181147</td>\n",
       "    </tr>\n",
       "    <tr>\n",
       "      <th>department_Analytics</th>\n",
       "      <td>0.043964</td>\n",
       "      <td>0.045791</td>\n",
       "      <td>-0.101895</td>\n",
       "      <td>0.055326</td>\n",
       "      <td>-0.071945</td>\n",
       "      <td>0.035938</td>\n",
       "      <td>0.002445</td>\n",
       "      <td>0.521961</td>\n",
       "      <td>1.000000</td>\n",
       "      <td>-0.072458</td>\n",
       "      <td>...</td>\n",
       "      <td>-0.168098</td>\n",
       "      <td>-0.127296</td>\n",
       "      <td>-0.044823</td>\n",
       "      <td>-0.219084</td>\n",
       "      <td>0.145173</td>\n",
       "      <td>0.067807</td>\n",
       "      <td>-0.040164</td>\n",
       "      <td>-0.000006</td>\n",
       "      <td>-0.012271</td>\n",
       "      <td>0.012369</td>\n",
       "    </tr>\n",
       "    <tr>\n",
       "      <th>department_Finance</th>\n",
       "      <td>0.013746</td>\n",
       "      <td>0.018442</td>\n",
       "      <td>-0.078936</td>\n",
       "      <td>0.026371</td>\n",
       "      <td>-0.054025</td>\n",
       "      <td>0.028987</td>\n",
       "      <td>0.006487</td>\n",
       "      <td>-0.052132</td>\n",
       "      <td>-0.072458</td>\n",
       "      <td>1.000000</td>\n",
       "      <td>...</td>\n",
       "      <td>-0.112552</td>\n",
       "      <td>-0.085233</td>\n",
       "      <td>-0.030012</td>\n",
       "      <td>-0.146691</td>\n",
       "      <td>0.014013</td>\n",
       "      <td>0.023585</td>\n",
       "      <td>0.049638</td>\n",
       "      <td>0.009481</td>\n",
       "      <td>-0.029091</td>\n",
       "      <td>-0.003109</td>\n",
       "    </tr>\n",
       "    <tr>\n",
       "      <th>department_HR</th>\n",
       "      <td>-0.008487</td>\n",
       "      <td>-0.070258</td>\n",
       "      <td>-0.011725</td>\n",
       "      <td>0.022876</td>\n",
       "      <td>-0.009162</td>\n",
       "      <td>-0.008013</td>\n",
       "      <td>-0.006513</td>\n",
       "      <td>-0.214788</td>\n",
       "      <td>-0.070673</td>\n",
       "      <td>-0.047320</td>\n",
       "      <td>...</td>\n",
       "      <td>-0.109779</td>\n",
       "      <td>-0.083132</td>\n",
       "      <td>-0.029272</td>\n",
       "      <td>-0.143076</td>\n",
       "      <td>-0.055646</td>\n",
       "      <td>-0.032806</td>\n",
       "      <td>0.068306</td>\n",
       "      <td>0.006579</td>\n",
       "      <td>0.032730</td>\n",
       "      <td>-0.022262</td>\n",
       "    </tr>\n",
       "    <tr>\n",
       "      <th>department_Legal</th>\n",
       "      <td>-0.002453</td>\n",
       "      <td>-0.037305</td>\n",
       "      <td>-0.017628</td>\n",
       "      <td>0.004036</td>\n",
       "      <td>-0.041259</td>\n",
       "      <td>-0.005239</td>\n",
       "      <td>0.000822</td>\n",
       "      <td>-0.036579</td>\n",
       "      <td>-0.045729</td>\n",
       "      <td>-0.030618</td>\n",
       "      <td>...</td>\n",
       "      <td>-0.071032</td>\n",
       "      <td>-0.053791</td>\n",
       "      <td>-0.018941</td>\n",
       "      <td>-0.092577</td>\n",
       "      <td>0.046886</td>\n",
       "      <td>0.022831</td>\n",
       "      <td>0.055318</td>\n",
       "      <td>0.003455</td>\n",
       "      <td>-0.007165</td>\n",
       "      <td>-0.017011</td>\n",
       "    </tr>\n",
       "    <tr>\n",
       "      <th>department_Operations</th>\n",
       "      <td>-0.011657</td>\n",
       "      <td>-0.077320</td>\n",
       "      <td>0.084703</td>\n",
       "      <td>0.124059</td>\n",
       "      <td>0.065956</td>\n",
       "      <td>0.084272</td>\n",
       "      <td>-0.000285</td>\n",
       "      <td>-0.120764</td>\n",
       "      <td>-0.168098</td>\n",
       "      <td>-0.112552</td>\n",
       "      <td>...</td>\n",
       "      <td>1.000000</td>\n",
       "      <td>-0.197734</td>\n",
       "      <td>-0.069626</td>\n",
       "      <td>-0.340312</td>\n",
       "      <td>-0.127993</td>\n",
       "      <td>-0.008372</td>\n",
       "      <td>0.003490</td>\n",
       "      <td>-0.002252</td>\n",
       "      <td>0.000488</td>\n",
       "      <td>0.009113</td>\n",
       "    </tr>\n",
       "    <tr>\n",
       "      <th>department_Procurement</th>\n",
       "      <td>-0.045151</td>\n",
       "      <td>0.044313</td>\n",
       "      <td>0.055369</td>\n",
       "      <td>-0.007515</td>\n",
       "      <td>0.042237</td>\n",
       "      <td>0.020728</td>\n",
       "      <td>0.002018</td>\n",
       "      <td>0.194926</td>\n",
       "      <td>-0.127296</td>\n",
       "      <td>-0.085233</td>\n",
       "      <td>...</td>\n",
       "      <td>-0.197734</td>\n",
       "      <td>1.000000</td>\n",
       "      <td>-0.052726</td>\n",
       "      <td>-0.257708</td>\n",
       "      <td>-0.137846</td>\n",
       "      <td>-0.074826</td>\n",
       "      <td>0.010887</td>\n",
       "      <td>0.004017</td>\n",
       "      <td>-0.026465</td>\n",
       "      <td>0.015548</td>\n",
       "    </tr>\n",
       "    <tr>\n",
       "      <th>department_R&amp;D</th>\n",
       "      <td>0.013934</td>\n",
       "      <td>0.033410</td>\n",
       "      <td>-0.034883</td>\n",
       "      <td>0.023559</td>\n",
       "      <td>-0.041881</td>\n",
       "      <td>0.018385</td>\n",
       "      <td>-0.001948</td>\n",
       "      <td>0.216130</td>\n",
       "      <td>-0.044823</td>\n",
       "      <td>-0.030012</td>\n",
       "      <td>...</td>\n",
       "      <td>-0.069626</td>\n",
       "      <td>-0.052726</td>\n",
       "      <td>1.000000</td>\n",
       "      <td>-0.090744</td>\n",
       "      <td>0.071692</td>\n",
       "      <td>-0.042901</td>\n",
       "      <td>-0.016636</td>\n",
       "      <td>0.000014</td>\n",
       "      <td>-0.001734</td>\n",
       "      <td>-0.007859</td>\n",
       "    </tr>\n",
       "    <tr>\n",
       "      <th>department_Sales &amp; Marketing</th>\n",
       "      <td>-0.000275</td>\n",
       "      <td>0.026698</td>\n",
       "      <td>0.004931</td>\n",
       "      <td>-0.132583</td>\n",
       "      <td>0.007305</td>\n",
       "      <td>-0.121167</td>\n",
       "      <td>-0.007679</td>\n",
       "      <td>-0.653710</td>\n",
       "      <td>-0.219084</td>\n",
       "      <td>-0.146691</td>\n",
       "      <td>...</td>\n",
       "      <td>-0.340312</td>\n",
       "      <td>-0.257708</td>\n",
       "      <td>-0.090744</td>\n",
       "      <td>1.000000</td>\n",
       "      <td>0.160706</td>\n",
       "      <td>0.058322</td>\n",
       "      <td>-0.081311</td>\n",
       "      <td>-0.005147</td>\n",
       "      <td>-0.025440</td>\n",
       "      <td>-0.031348</td>\n",
       "    </tr>\n",
       "    <tr>\n",
       "      <th>gender_m</th>\n",
       "      <td>0.019730</td>\n",
       "      <td>0.084501</td>\n",
       "      <td>-0.016293</td>\n",
       "      <td>-0.024024</td>\n",
       "      <td>-0.019675</td>\n",
       "      <td>-0.037400</td>\n",
       "      <td>0.002381</td>\n",
       "      <td>-0.024494</td>\n",
       "      <td>0.145173</td>\n",
       "      <td>0.014013</td>\n",
       "      <td>...</td>\n",
       "      <td>-0.127993</td>\n",
       "      <td>-0.137846</td>\n",
       "      <td>0.071692</td>\n",
       "      <td>0.160706</td>\n",
       "      <td>1.000000</td>\n",
       "      <td>0.034001</td>\n",
       "      <td>-0.016392</td>\n",
       "      <td>-0.007520</td>\n",
       "      <td>0.007231</td>\n",
       "      <td>-0.011109</td>\n",
       "    </tr>\n",
       "    <tr>\n",
       "      <th>education_Bachelor's</th>\n",
       "      <td>0.005369</td>\n",
       "      <td>0.032297</td>\n",
       "      <td>-0.310979</td>\n",
       "      <td>-0.026613</td>\n",
       "      <td>-0.213880</td>\n",
       "      <td>-0.013550</td>\n",
       "      <td>0.002009</td>\n",
       "      <td>-0.034102</td>\n",
       "      <td>0.067807</td>\n",
       "      <td>0.023585</td>\n",
       "      <td>...</td>\n",
       "      <td>-0.008372</td>\n",
       "      <td>-0.074826</td>\n",
       "      <td>-0.042901</td>\n",
       "      <td>0.058322</td>\n",
       "      <td>0.034001</td>\n",
       "      <td>1.000000</td>\n",
       "      <td>-0.192438</td>\n",
       "      <td>-0.005839</td>\n",
       "      <td>0.021674</td>\n",
       "      <td>-0.028650</td>\n",
       "    </tr>\n",
       "    <tr>\n",
       "      <th>education_Below Secondary</th>\n",
       "      <td>-0.012170</td>\n",
       "      <td>0.004562</td>\n",
       "      <td>-0.174815</td>\n",
       "      <td>-0.002386</td>\n",
       "      <td>-0.119119</td>\n",
       "      <td>0.012278</td>\n",
       "      <td>-0.004691</td>\n",
       "      <td>0.014050</td>\n",
       "      <td>-0.040164</td>\n",
       "      <td>0.049638</td>\n",
       "      <td>...</td>\n",
       "      <td>0.003490</td>\n",
       "      <td>0.010887</td>\n",
       "      <td>-0.016636</td>\n",
       "      <td>-0.081311</td>\n",
       "      <td>-0.016392</td>\n",
       "      <td>-0.192438</td>\n",
       "      <td>1.000000</td>\n",
       "      <td>-0.008906</td>\n",
       "      <td>0.023601</td>\n",
       "      <td>-0.000849</td>\n",
       "    </tr>\n",
       "    <tr>\n",
       "      <th>recruitment_channel_other</th>\n",
       "      <td>0.007543</td>\n",
       "      <td>0.012225</td>\n",
       "      <td>0.017304</td>\n",
       "      <td>-0.015120</td>\n",
       "      <td>0.007202</td>\n",
       "      <td>-0.006551</td>\n",
       "      <td>0.005006</td>\n",
       "      <td>-0.001999</td>\n",
       "      <td>-0.000006</td>\n",
       "      <td>0.009481</td>\n",
       "      <td>...</td>\n",
       "      <td>-0.002252</td>\n",
       "      <td>0.004017</td>\n",
       "      <td>0.000014</td>\n",
       "      <td>-0.005147</td>\n",
       "      <td>-0.007520</td>\n",
       "      <td>-0.005839</td>\n",
       "      <td>-0.008906</td>\n",
       "      <td>1.000000</td>\n",
       "      <td>-0.163077</td>\n",
       "      <td>-0.004879</td>\n",
       "    </tr>\n",
       "    <tr>\n",
       "      <th>recruitment_channel_referred</th>\n",
       "      <td>-0.046168</td>\n",
       "      <td>-0.013615</td>\n",
       "      <td>-0.042124</td>\n",
       "      <td>0.065856</td>\n",
       "      <td>-0.030292</td>\n",
       "      <td>0.047621</td>\n",
       "      <td>0.003004</td>\n",
       "      <td>0.030496</td>\n",
       "      <td>-0.012271</td>\n",
       "      <td>-0.029091</td>\n",
       "      <td>...</td>\n",
       "      <td>0.000488</td>\n",
       "      <td>-0.026465</td>\n",
       "      <td>-0.001734</td>\n",
       "      <td>-0.025440</td>\n",
       "      <td>0.007231</td>\n",
       "      <td>0.021674</td>\n",
       "      <td>0.023601</td>\n",
       "      <td>-0.163077</td>\n",
       "      <td>1.000000</td>\n",
       "      <td>0.018641</td>\n",
       "    </tr>\n",
       "    <tr>\n",
       "      <th>is_promoted</th>\n",
       "      <td>0.008841</td>\n",
       "      <td>-0.024896</td>\n",
       "      <td>-0.017166</td>\n",
       "      <td>0.153230</td>\n",
       "      <td>-0.010670</td>\n",
       "      <td>0.221582</td>\n",
       "      <td>0.195871</td>\n",
       "      <td>0.181147</td>\n",
       "      <td>0.012369</td>\n",
       "      <td>-0.003109</td>\n",
       "      <td>...</td>\n",
       "      <td>0.009113</td>\n",
       "      <td>0.015548</td>\n",
       "      <td>-0.007859</td>\n",
       "      <td>-0.031348</td>\n",
       "      <td>-0.011109</td>\n",
       "      <td>-0.028650</td>\n",
       "      <td>-0.000849</td>\n",
       "      <td>-0.004879</td>\n",
       "      <td>0.018641</td>\n",
       "      <td>1.000000</td>\n",
       "    </tr>\n",
       "  </tbody>\n",
       "</table>\n",
       "<p>22 rows × 22 columns</p>\n",
       "</div>"
      ],
      "text/plain": [
       "                                region  no_of_trainings       age  \\\n",
       "region                        1.000000        -0.004590 -0.088918   \n",
       "no_of_trainings              -0.004590         1.000000 -0.081278   \n",
       "age                          -0.088918        -0.081278  1.000000   \n",
       "previous_year_rating         -0.005977        -0.061564  0.026810   \n",
       "length_of_service            -0.058939        -0.057275  0.657111   \n",
       "KPIs_met >80%                -0.007664        -0.045576 -0.025592   \n",
       "awards_won?                   0.000307        -0.007628 -0.008169   \n",
       "avg_training_score            0.023572         0.042517 -0.048380   \n",
       "department_Analytics          0.043964         0.045791 -0.101895   \n",
       "department_Finance            0.013746         0.018442 -0.078936   \n",
       "department_HR                -0.008487        -0.070258 -0.011725   \n",
       "department_Legal             -0.002453        -0.037305 -0.017628   \n",
       "department_Operations        -0.011657        -0.077320  0.084703   \n",
       "department_Procurement       -0.045151         0.044313  0.055369   \n",
       "department_R&D                0.013934         0.033410 -0.034883   \n",
       "department_Sales & Marketing -0.000275         0.026698  0.004931   \n",
       "gender_m                      0.019730         0.084501 -0.016293   \n",
       "education_Bachelor's          0.005369         0.032297 -0.310979   \n",
       "education_Below Secondary    -0.012170         0.004562 -0.174815   \n",
       "recruitment_channel_other     0.007543         0.012225  0.017304   \n",
       "recruitment_channel_referred -0.046168        -0.013615 -0.042124   \n",
       "is_promoted                   0.008841        -0.024896 -0.017166   \n",
       "\n",
       "                              previous_year_rating  length_of_service  \\\n",
       "region                                   -0.005977          -0.058939   \n",
       "no_of_trainings                          -0.061564          -0.057275   \n",
       "age                                       0.026810           0.657111   \n",
       "previous_year_rating                      1.000000           0.023504   \n",
       "length_of_service                         0.023504           1.000000   \n",
       "KPIs_met >80%                             0.337367          -0.077693   \n",
       "awards_won?                               0.026587          -0.039927   \n",
       "avg_training_score                        0.071926          -0.038122   \n",
       "department_Analytics                      0.055326          -0.071945   \n",
       "department_Finance                        0.026371          -0.054025   \n",
       "department_HR                             0.022876          -0.009162   \n",
       "department_Legal                          0.004036          -0.041259   \n",
       "department_Operations                     0.124059           0.065956   \n",
       "department_Procurement                   -0.007515           0.042237   \n",
       "department_R&D                            0.023559          -0.041881   \n",
       "department_Sales & Marketing             -0.132583           0.007305   \n",
       "gender_m                                 -0.024024          -0.019675   \n",
       "education_Bachelor's                     -0.026613          -0.213880   \n",
       "education_Below Secondary                -0.002386          -0.119119   \n",
       "recruitment_channel_other                -0.015120           0.007202   \n",
       "recruitment_channel_referred              0.065856          -0.030292   \n",
       "is_promoted                               0.153230          -0.010670   \n",
       "\n",
       "                              KPIs_met >80%  awards_won?  avg_training_score  \\\n",
       "region                            -0.007664     0.000307            0.023572   \n",
       "no_of_trainings                   -0.045576    -0.007628            0.042517   \n",
       "age                               -0.025592    -0.008169           -0.048380   \n",
       "previous_year_rating               0.337367     0.026587            0.071926   \n",
       "length_of_service                 -0.077693    -0.039927           -0.038122   \n",
       "KPIs_met >80%                      1.000000     0.097000            0.078391   \n",
       "awards_won?                        0.097000     1.000000            0.072138   \n",
       "avg_training_score                 0.078391     0.072138            1.000000   \n",
       "department_Analytics               0.035938     0.002445            0.521961   \n",
       "department_Finance                 0.028987     0.006487           -0.052132   \n",
       "department_HR                     -0.008013    -0.006513           -0.214788   \n",
       "department_Legal                  -0.005239     0.000822           -0.036579   \n",
       "department_Operations              0.084272    -0.000285           -0.120764   \n",
       "department_Procurement             0.020728     0.002018            0.194926   \n",
       "department_R&D                     0.018385    -0.001948            0.216130   \n",
       "department_Sales & Marketing      -0.121167    -0.007679           -0.653710   \n",
       "gender_m                          -0.037400     0.002381           -0.024494   \n",
       "education_Bachelor's              -0.013550     0.002009           -0.034102   \n",
       "education_Below Secondary          0.012278    -0.004691            0.014050   \n",
       "recruitment_channel_other         -0.006551     0.005006           -0.001999   \n",
       "recruitment_channel_referred       0.047621     0.003004            0.030496   \n",
       "is_promoted                        0.221582     0.195871            0.181147   \n",
       "\n",
       "                              department_Analytics  department_Finance  ...  \\\n",
       "region                                    0.043964            0.013746  ...   \n",
       "no_of_trainings                           0.045791            0.018442  ...   \n",
       "age                                      -0.101895           -0.078936  ...   \n",
       "previous_year_rating                      0.055326            0.026371  ...   \n",
       "length_of_service                        -0.071945           -0.054025  ...   \n",
       "KPIs_met >80%                             0.035938            0.028987  ...   \n",
       "awards_won?                               0.002445            0.006487  ...   \n",
       "avg_training_score                        0.521961           -0.052132  ...   \n",
       "department_Analytics                      1.000000           -0.072458  ...   \n",
       "department_Finance                       -0.072458            1.000000  ...   \n",
       "department_HR                            -0.070673           -0.047320  ...   \n",
       "department_Legal                         -0.045729           -0.030618  ...   \n",
       "department_Operations                    -0.168098           -0.112552  ...   \n",
       "department_Procurement                   -0.127296           -0.085233  ...   \n",
       "department_R&D                           -0.044823           -0.030012  ...   \n",
       "department_Sales & Marketing             -0.219084           -0.146691  ...   \n",
       "gender_m                                  0.145173            0.014013  ...   \n",
       "education_Bachelor's                      0.067807            0.023585  ...   \n",
       "education_Below Secondary                -0.040164            0.049638  ...   \n",
       "recruitment_channel_other                -0.000006            0.009481  ...   \n",
       "recruitment_channel_referred             -0.012271           -0.029091  ...   \n",
       "is_promoted                               0.012369           -0.003109  ...   \n",
       "\n",
       "                              department_Operations  department_Procurement  \\\n",
       "region                                    -0.011657               -0.045151   \n",
       "no_of_trainings                           -0.077320                0.044313   \n",
       "age                                        0.084703                0.055369   \n",
       "previous_year_rating                       0.124059               -0.007515   \n",
       "length_of_service                          0.065956                0.042237   \n",
       "KPIs_met >80%                              0.084272                0.020728   \n",
       "awards_won?                               -0.000285                0.002018   \n",
       "avg_training_score                        -0.120764                0.194926   \n",
       "department_Analytics                      -0.168098               -0.127296   \n",
       "department_Finance                        -0.112552               -0.085233   \n",
       "department_HR                             -0.109779               -0.083132   \n",
       "department_Legal                          -0.071032               -0.053791   \n",
       "department_Operations                      1.000000               -0.197734   \n",
       "department_Procurement                    -0.197734                1.000000   \n",
       "department_R&D                            -0.069626               -0.052726   \n",
       "department_Sales & Marketing              -0.340312               -0.257708   \n",
       "gender_m                                  -0.127993               -0.137846   \n",
       "education_Bachelor's                      -0.008372               -0.074826   \n",
       "education_Below Secondary                  0.003490                0.010887   \n",
       "recruitment_channel_other                 -0.002252                0.004017   \n",
       "recruitment_channel_referred               0.000488               -0.026465   \n",
       "is_promoted                                0.009113                0.015548   \n",
       "\n",
       "                              department_R&D  department_Sales & Marketing  \\\n",
       "region                              0.013934                     -0.000275   \n",
       "no_of_trainings                     0.033410                      0.026698   \n",
       "age                                -0.034883                      0.004931   \n",
       "previous_year_rating                0.023559                     -0.132583   \n",
       "length_of_service                  -0.041881                      0.007305   \n",
       "KPIs_met >80%                       0.018385                     -0.121167   \n",
       "awards_won?                        -0.001948                     -0.007679   \n",
       "avg_training_score                  0.216130                     -0.653710   \n",
       "department_Analytics               -0.044823                     -0.219084   \n",
       "department_Finance                 -0.030012                     -0.146691   \n",
       "department_HR                      -0.029272                     -0.143076   \n",
       "department_Legal                   -0.018941                     -0.092577   \n",
       "department_Operations              -0.069626                     -0.340312   \n",
       "department_Procurement             -0.052726                     -0.257708   \n",
       "department_R&D                      1.000000                     -0.090744   \n",
       "department_Sales & Marketing       -0.090744                      1.000000   \n",
       "gender_m                            0.071692                      0.160706   \n",
       "education_Bachelor's               -0.042901                      0.058322   \n",
       "education_Below Secondary          -0.016636                     -0.081311   \n",
       "recruitment_channel_other           0.000014                     -0.005147   \n",
       "recruitment_channel_referred       -0.001734                     -0.025440   \n",
       "is_promoted                        -0.007859                     -0.031348   \n",
       "\n",
       "                              gender_m  education_Bachelor's  \\\n",
       "region                        0.019730              0.005369   \n",
       "no_of_trainings               0.084501              0.032297   \n",
       "age                          -0.016293             -0.310979   \n",
       "previous_year_rating         -0.024024             -0.026613   \n",
       "length_of_service            -0.019675             -0.213880   \n",
       "KPIs_met >80%                -0.037400             -0.013550   \n",
       "awards_won?                   0.002381              0.002009   \n",
       "avg_training_score           -0.024494             -0.034102   \n",
       "department_Analytics          0.145173              0.067807   \n",
       "department_Finance            0.014013              0.023585   \n",
       "department_HR                -0.055646             -0.032806   \n",
       "department_Legal              0.046886              0.022831   \n",
       "department_Operations        -0.127993             -0.008372   \n",
       "department_Procurement       -0.137846             -0.074826   \n",
       "department_R&D                0.071692             -0.042901   \n",
       "department_Sales & Marketing  0.160706              0.058322   \n",
       "gender_m                      1.000000              0.034001   \n",
       "education_Bachelor's          0.034001              1.000000   \n",
       "education_Below Secondary    -0.016392             -0.192438   \n",
       "recruitment_channel_other    -0.007520             -0.005839   \n",
       "recruitment_channel_referred  0.007231              0.021674   \n",
       "is_promoted                  -0.011109             -0.028650   \n",
       "\n",
       "                              education_Below Secondary  \\\n",
       "region                                        -0.012170   \n",
       "no_of_trainings                                0.004562   \n",
       "age                                           -0.174815   \n",
       "previous_year_rating                          -0.002386   \n",
       "length_of_service                             -0.119119   \n",
       "KPIs_met >80%                                  0.012278   \n",
       "awards_won?                                   -0.004691   \n",
       "avg_training_score                             0.014050   \n",
       "department_Analytics                          -0.040164   \n",
       "department_Finance                             0.049638   \n",
       "department_HR                                  0.068306   \n",
       "department_Legal                               0.055318   \n",
       "department_Operations                          0.003490   \n",
       "department_Procurement                         0.010887   \n",
       "department_R&D                                -0.016636   \n",
       "department_Sales & Marketing                  -0.081311   \n",
       "gender_m                                      -0.016392   \n",
       "education_Bachelor's                          -0.192438   \n",
       "education_Below Secondary                      1.000000   \n",
       "recruitment_channel_other                     -0.008906   \n",
       "recruitment_channel_referred                   0.023601   \n",
       "is_promoted                                   -0.000849   \n",
       "\n",
       "                              recruitment_channel_other  \\\n",
       "region                                         0.007543   \n",
       "no_of_trainings                                0.012225   \n",
       "age                                            0.017304   \n",
       "previous_year_rating                          -0.015120   \n",
       "length_of_service                              0.007202   \n",
       "KPIs_met >80%                                 -0.006551   \n",
       "awards_won?                                    0.005006   \n",
       "avg_training_score                            -0.001999   \n",
       "department_Analytics                          -0.000006   \n",
       "department_Finance                             0.009481   \n",
       "department_HR                                  0.006579   \n",
       "department_Legal                               0.003455   \n",
       "department_Operations                         -0.002252   \n",
       "department_Procurement                         0.004017   \n",
       "department_R&D                                 0.000014   \n",
       "department_Sales & Marketing                  -0.005147   \n",
       "gender_m                                      -0.007520   \n",
       "education_Bachelor's                          -0.005839   \n",
       "education_Below Secondary                     -0.008906   \n",
       "recruitment_channel_other                      1.000000   \n",
       "recruitment_channel_referred                  -0.163077   \n",
       "is_promoted                                   -0.004879   \n",
       "\n",
       "                              recruitment_channel_referred  is_promoted  \n",
       "region                                           -0.046168     0.008841  \n",
       "no_of_trainings                                  -0.013615    -0.024896  \n",
       "age                                              -0.042124    -0.017166  \n",
       "previous_year_rating                              0.065856     0.153230  \n",
       "length_of_service                                -0.030292    -0.010670  \n",
       "KPIs_met >80%                                     0.047621     0.221582  \n",
       "awards_won?                                       0.003004     0.195871  \n",
       "avg_training_score                                0.030496     0.181147  \n",
       "department_Analytics                             -0.012271     0.012369  \n",
       "department_Finance                               -0.029091    -0.003109  \n",
       "department_HR                                     0.032730    -0.022262  \n",
       "department_Legal                                 -0.007165    -0.017011  \n",
       "department_Operations                             0.000488     0.009113  \n",
       "department_Procurement                           -0.026465     0.015548  \n",
       "department_R&D                                   -0.001734    -0.007859  \n",
       "department_Sales & Marketing                     -0.025440    -0.031348  \n",
       "gender_m                                          0.007231    -0.011109  \n",
       "education_Bachelor's                              0.021674    -0.028650  \n",
       "education_Below Secondary                         0.023601    -0.000849  \n",
       "recruitment_channel_other                        -0.163077    -0.004879  \n",
       "recruitment_channel_referred                      1.000000     0.018641  \n",
       "is_promoted                                       0.018641     1.000000  \n",
       "\n",
       "[22 rows x 22 columns]"
      ]
     },
     "execution_count": 1272,
     "metadata": {},
     "output_type": "execute_result"
    }
   ],
   "source": [
    "# plotting correlations on a heatmap for the prepared data\n",
    "cor = df.corr()\n",
    "cor"
   ]
  },
  {
   "cell_type": "markdown",
   "metadata": {},
   "source": [
    "##### Heat Map for clean data"
   ]
  },
  {
   "cell_type": "code",
   "execution_count": 1273,
   "metadata": {},
   "outputs": [
    {
     "data": {
      "image/png": "[encoded data removed]",
      "text/plain": [
       "<Figure size 1080x720 with 2 Axes>"
      ]
     },
     "metadata": {
      "needs_background": "light"
     },
     "output_type": "display_data"
    }
   ],
   "source": [
    "# figure size\n",
    "plt.figure(figsize=(15,10))\n",
    "\n",
    "# heatmap\n",
    "sns.heatmap(cor, cmap=\"YlGnBu\", annot=True)\n",
    "plt.show()"
   ]
  },
  {
   "cell_type": "code",
   "execution_count": 1274,
   "metadata": {},
   "outputs": [],
   "source": [
    "#inference from heatmap (Some key observations)\n",
    "\n",
    "# Age and Length of service   positively related\n",
    "\n",
    "# KPI met and previous year rating positively related \n",
    "\n",
    "# sales and marketing department is negatively related to average training score\n",
    "\n",
    "# department of Analytics is positively related to average training score\n",
    "\n",
    "# Bachelor's education is negatively related to age\n",
    "\n",
    "#etc."
   ]
  },
  {
   "cell_type": "markdown",
   "metadata": {},
   "source": [
    "## MODELING PHASE"
   ]
  },
  {
   "cell_type": "code",
   "execution_count": 1275,
   "metadata": {},
   "outputs": [
    {
     "data": {
      "text/plain": [
       "Index(['region', 'no_of_trainings', 'age', 'previous_year_rating',\n",
       "       'length_of_service', 'KPIs_met >80%', 'awards_won?',\n",
       "       'avg_training_score', 'department_Analytics', 'department_Finance',\n",
       "       'department_HR', 'department_Legal', 'department_Operations',\n",
       "       'department_Procurement', 'department_R&D',\n",
       "       'department_Sales & Marketing', 'gender_m', 'education_Bachelor's',\n",
       "       'education_Below Secondary', 'recruitment_channel_other',\n",
       "       'recruitment_channel_referred', 'is_promoted'],\n",
       "      dtype='object')"
      ]
     },
     "execution_count": 1275,
     "metadata": {},
     "output_type": "execute_result"
    }
   ],
   "source": [
    "df.columns.unique()"
   ]
  },
  {
   "cell_type": "code",
   "execution_count": 1276,
   "metadata": {},
   "outputs": [
    {
     "data": {
      "text/html": [
       "<div>\n",
       "<style scoped>\n",
       "    .dataframe tbody tr th:only-of-type {\n",
       "        vertical-align: middle;\n",
       "    }\n",
       "\n",
       "    .dataframe tbody tr th {\n",
       "        vertical-align: top;\n",
       "    }\n",
       "\n",
       "    .dataframe thead th {\n",
       "        text-align: right;\n",
       "    }\n",
       "</style>\n",
       "<table border=\"1\" class=\"dataframe\">\n",
       "  <thead>\n",
       "    <tr style=\"text-align: right;\">\n",
       "      <th></th>\n",
       "      <th>region</th>\n",
       "      <th>no_of_trainings</th>\n",
       "      <th>age</th>\n",
       "      <th>previous_year_rating</th>\n",
       "      <th>length_of_service</th>\n",
       "      <th>KPIs_met &gt;80%</th>\n",
       "      <th>awards_won?</th>\n",
       "      <th>avg_training_score</th>\n",
       "      <th>department_Analytics</th>\n",
       "      <th>department_Finance</th>\n",
       "      <th>...</th>\n",
       "      <th>department_Legal</th>\n",
       "      <th>department_Operations</th>\n",
       "      <th>department_Procurement</th>\n",
       "      <th>department_R&amp;D</th>\n",
       "      <th>department_Sales &amp; Marketing</th>\n",
       "      <th>gender_m</th>\n",
       "      <th>education_Bachelor's</th>\n",
       "      <th>education_Below Secondary</th>\n",
       "      <th>recruitment_channel_other</th>\n",
       "      <th>recruitment_channel_referred</th>\n",
       "    </tr>\n",
       "  </thead>\n",
       "  <tbody>\n",
       "    <tr>\n",
       "      <th>0</th>\n",
       "      <td>31</td>\n",
       "      <td>1</td>\n",
       "      <td>35</td>\n",
       "      <td>5.0</td>\n",
       "      <td>8</td>\n",
       "      <td>1</td>\n",
       "      <td>0</td>\n",
       "      <td>49</td>\n",
       "      <td>0</td>\n",
       "      <td>0</td>\n",
       "      <td>...</td>\n",
       "      <td>0</td>\n",
       "      <td>0</td>\n",
       "      <td>0</td>\n",
       "      <td>0</td>\n",
       "      <td>1</td>\n",
       "      <td>0</td>\n",
       "      <td>0</td>\n",
       "      <td>0</td>\n",
       "      <td>0</td>\n",
       "      <td>0</td>\n",
       "    </tr>\n",
       "    <tr>\n",
       "      <th>1</th>\n",
       "      <td>14</td>\n",
       "      <td>1</td>\n",
       "      <td>30</td>\n",
       "      <td>5.0</td>\n",
       "      <td>4</td>\n",
       "      <td>0</td>\n",
       "      <td>0</td>\n",
       "      <td>60</td>\n",
       "      <td>0</td>\n",
       "      <td>0</td>\n",
       "      <td>...</td>\n",
       "      <td>0</td>\n",
       "      <td>1</td>\n",
       "      <td>0</td>\n",
       "      <td>0</td>\n",
       "      <td>0</td>\n",
       "      <td>1</td>\n",
       "      <td>1</td>\n",
       "      <td>0</td>\n",
       "      <td>1</td>\n",
       "      <td>0</td>\n",
       "    </tr>\n",
       "    <tr>\n",
       "      <th>2</th>\n",
       "      <td>10</td>\n",
       "      <td>1</td>\n",
       "      <td>34</td>\n",
       "      <td>3.0</td>\n",
       "      <td>7</td>\n",
       "      <td>0</td>\n",
       "      <td>0</td>\n",
       "      <td>50</td>\n",
       "      <td>0</td>\n",
       "      <td>0</td>\n",
       "      <td>...</td>\n",
       "      <td>0</td>\n",
       "      <td>0</td>\n",
       "      <td>0</td>\n",
       "      <td>0</td>\n",
       "      <td>1</td>\n",
       "      <td>1</td>\n",
       "      <td>1</td>\n",
       "      <td>0</td>\n",
       "      <td>0</td>\n",
       "      <td>0</td>\n",
       "    </tr>\n",
       "    <tr>\n",
       "      <th>3</th>\n",
       "      <td>15</td>\n",
       "      <td>2</td>\n",
       "      <td>39</td>\n",
       "      <td>1.0</td>\n",
       "      <td>10</td>\n",
       "      <td>0</td>\n",
       "      <td>0</td>\n",
       "      <td>50</td>\n",
       "      <td>0</td>\n",
       "      <td>0</td>\n",
       "      <td>...</td>\n",
       "      <td>0</td>\n",
       "      <td>0</td>\n",
       "      <td>0</td>\n",
       "      <td>0</td>\n",
       "      <td>1</td>\n",
       "      <td>1</td>\n",
       "      <td>1</td>\n",
       "      <td>0</td>\n",
       "      <td>1</td>\n",
       "      <td>0</td>\n",
       "    </tr>\n",
       "    <tr>\n",
       "      <th>4</th>\n",
       "      <td>18</td>\n",
       "      <td>1</td>\n",
       "      <td>45</td>\n",
       "      <td>3.0</td>\n",
       "      <td>2</td>\n",
       "      <td>0</td>\n",
       "      <td>0</td>\n",
       "      <td>73</td>\n",
       "      <td>0</td>\n",
       "      <td>0</td>\n",
       "      <td>...</td>\n",
       "      <td>0</td>\n",
       "      <td>0</td>\n",
       "      <td>0</td>\n",
       "      <td>0</td>\n",
       "      <td>0</td>\n",
       "      <td>1</td>\n",
       "      <td>1</td>\n",
       "      <td>0</td>\n",
       "      <td>1</td>\n",
       "      <td>0</td>\n",
       "    </tr>\n",
       "  </tbody>\n",
       "</table>\n",
       "<p>5 rows × 21 columns</p>\n",
       "</div>"
      ],
      "text/plain": [
       "   region  no_of_trainings  age  previous_year_rating  length_of_service  \\\n",
       "0      31                1   35                   5.0                  8   \n",
       "1      14                1   30                   5.0                  4   \n",
       "2      10                1   34                   3.0                  7   \n",
       "3      15                2   39                   1.0                 10   \n",
       "4      18                1   45                   3.0                  2   \n",
       "\n",
       "   KPIs_met >80%  awards_won?  avg_training_score  department_Analytics  \\\n",
       "0              1            0                  49                     0   \n",
       "1              0            0                  60                     0   \n",
       "2              0            0                  50                     0   \n",
       "3              0            0                  50                     0   \n",
       "4              0            0                  73                     0   \n",
       "\n",
       "   department_Finance  ...  department_Legal  department_Operations  \\\n",
       "0                   0  ...                 0                      0   \n",
       "1                   0  ...                 0                      1   \n",
       "2                   0  ...                 0                      0   \n",
       "3                   0  ...                 0                      0   \n",
       "4                   0  ...                 0                      0   \n",
       "\n",
       "   department_Procurement  department_R&D  department_Sales & Marketing  \\\n",
       "0                       0               0                             1   \n",
       "1                       0               0                             0   \n",
       "2                       0               0                             1   \n",
       "3                       0               0                             1   \n",
       "4                       0               0                             0   \n",
       "\n",
       "   gender_m  education_Bachelor's  education_Below Secondary  \\\n",
       "0         0                     0                          0   \n",
       "1         1                     1                          0   \n",
       "2         1                     1                          0   \n",
       "3         1                     1                          0   \n",
       "4         1                     1                          0   \n",
       "\n",
       "   recruitment_channel_other  recruitment_channel_referred  \n",
       "0                          0                             0  \n",
       "1                          1                             0  \n",
       "2                          0                             0  \n",
       "3                          1                             0  \n",
       "4                          1                             0  \n",
       "\n",
       "[5 rows x 21 columns]"
      ]
     },
     "execution_count": 1276,
     "metadata": {},
     "output_type": "execute_result"
    }
   ],
   "source": [
    "X=df[['region', 'no_of_trainings', 'age', 'previous_year_rating',\n",
    "       'length_of_service', 'KPIs_met >80%', 'awards_won?',\n",
    "       'avg_training_score', 'department_Analytics', 'department_Finance',\n",
    "       'department_HR', 'department_Legal', 'department_Operations',\n",
    "       'department_Procurement', 'department_R&D',\n",
    "       'department_Sales & Marketing', 'gender_m', \"education_Bachelor's\",\n",
    "       'education_Below Secondary', 'recruitment_channel_other',\n",
    "       'recruitment_channel_referred']]\n",
    "X.head(5)"
   ]
  },
  {
   "cell_type": "code",
   "execution_count": 1277,
   "metadata": {},
   "outputs": [],
   "source": [
    "y=df[\"is_promoted\"]"
   ]
  },
  {
   "cell_type": "markdown",
   "metadata": {},
   "source": [
    "#### Cross-Validation\n",
    "\n",
    "1. Train Test Split : To have unknown datapoints to test the data rather than testing with the same points with \n",
    "   which the model was trained. This helps capture the model performance much better.\n",
    "<br><br/>\n",
    "2. When model is split into training and testing it can be possible that specific \n",
    "   type of data point may go entirely into either training or testing portion.\n",
    "<br><br/>    \n",
    "    \n",
    "3. Stratify parameter makes a split so that the proportion of values in the sample produced will \n",
    "   be the same as the proportion of values provided to parameter stratify.\n",
    "   For example, if variable y is a binary categorical variable with values 0 and 1 and \n",
    "   there are 25% of zeros and 75% of ones,\n",
    "   stratify=y will make sure that random split has 25% of 0's and 75% of 1's."
   ]
  },
  {
   "cell_type": "code",
   "execution_count": 1278,
   "metadata": {},
   "outputs": [],
   "source": [
    "# split into train and test (random_state is a pseudo number which fixes the outcome in every run or\n",
    "# else the distribution in traintest split every time will be different)\n",
    "\n",
    "#importing train_test_split\n",
    "from sklearn.model_selection import train_test_split\n",
    "X_train,X_test,y_train,y_test = train_test_split(X,y,test_size=0.3,random_state=100, stratify=y)\n"
   ]
  },
  {
   "cell_type": "markdown",
   "metadata": {},
   "source": [
    "#### KNN"
   ]
  },
  {
   "cell_type": "code",
   "execution_count": 1279,
   "metadata": {},
   "outputs": [],
   "source": [
    "#Import knearest neighbors Classifier model\n",
    "from sklearn.neighbors import KNeighborsClassifier\n",
    "\n",
    "#Create KNN Classifier\n",
    "knn = KNeighborsClassifier(n_neighbors=5)\n",
    "\n",
    "#Train the model using the training sets\n",
    "knn.fit(X_train, y_train)\n",
    "\n",
    "#Predict the response for test dataset\n",
    "y_pred = knn.predict(X_test)"
   ]
  },
  {
   "cell_type": "code",
   "execution_count": 1280,
   "metadata": {},
   "outputs": [
    {
     "name": "stdout",
     "output_type": "stream",
     "text": [
      "Accuracy: 0.919722678343368\n"
     ]
    }
   ],
   "source": [
    "#Import scikit-learn metrics module for accuracy calculation\n",
    "\n",
    "from sklearn import metrics\n",
    "\n",
    "# Model Accuracy, how often is the classifier correct?\n",
    "\n",
    "print(\"Accuracy:\",metrics.accuracy_score(y_test, y_pred))"
   ]
  },
  {
   "cell_type": "code",
   "execution_count": 1281,
   "metadata": {},
   "outputs": [
    {
     "name": "stdout",
     "output_type": "stream",
     "text": [
      "accuracy_scores for k= 1 is:  0.8804354436538344\n",
      "accuracy_scores for k= 2 is:  0.9196618621905979\n",
      "accuracy_scores for k= 3 is:  0.911390865413854\n",
      "accuracy_scores for k= 4 is:  0.9203916560238399\n",
      "accuracy_scores for k= 5 is:  0.919722678343368\n",
      "accuracy_scores for k= 6 is:  0.9224594052180259\n",
      "accuracy_scores for k= 7 is:  0.9219120598430943\n",
      "accuracy_scores for k= 8 is:  0.9223377729124855\n",
      "accuracy_scores for k= 9 is:  0.9222161406069452\n",
      "accuracy_scores for k= 10 is:  0.9222769567597153\n",
      "accuracy_scores for k= 11 is:  0.9225810375235662\n",
      "accuracy_scores for k= 12 is:  0.9222769567597153\n",
      "accuracy_scores for k= 13 is:  0.9222161406069452\n",
      "accuracy_scores for k= 14 is:  0.9218512436903241\n",
      "accuracy_scores for k= 15 is:  0.922520221370796\n",
      "accuracy_scores for k= 16 is:  0.9223377729124855\n",
      "accuracy_scores for k= 17 is:  0.9225810375235662\n",
      "accuracy_scores for k= 18 is:  0.9222161406069452\n",
      "accuracy_scores for k= 19 is:  0.9224594052180259\n",
      "accuracy_scores for k= 20 is:  0.9224594052180259\n"
     ]
    }
   ],
   "source": [
    "#Identifying the best k value:-\n",
    "\n",
    "Accuracy_score = []\n",
    "for k in range (20) :\n",
    "    k=k+1\n",
    "    knn=KNeighborsClassifier(n_neighbors=k)\n",
    "    knn.fit(X_train,y_train)\n",
    "    y_pred=knn.predict(X_test)\n",
    "    scores=metrics.accuracy_score(y_test,y_pred)\n",
    "    Accuracy_score.append(scores)\n",
    "    print('accuracy_scores for k=',k,'is: ',scores)"
   ]
  },
  {
   "cell_type": "markdown",
   "metadata": {},
   "source": [
    "#### At k=6 we are getting maximum accuracy"
   ]
  },
  {
   "cell_type": "code",
   "execution_count": 1282,
   "metadata": {},
   "outputs": [
    {
     "data": {
      "text/plain": [
       "Text(0, 0.5, 'Accuracy_score')"
      ]
     },
     "execution_count": 1282,
     "metadata": {},
     "output_type": "execute_result"
    },
    {
     "data": {
      "image/png": "[encoded data removed]",
      "text/plain": [
       "<Figure size 720x360 with 1 Axes>"
      ]
     },
     "metadata": {
      "needs_background": "light"
     },
     "output_type": "display_data"
    }
   ],
   "source": [
    "#plotting the accuracy_scores against k values\n",
    "\n",
    "curve = pd.DataFrame(Accuracy_score) #elbow curve \n",
    "curve.plot(figsize=(10,5))\n",
    "plt.xlabel(\"K-value\")\n",
    "plt.ylabel(\"Accuracy_score\")"
   ]
  },
  {
   "cell_type": "code",
   "execution_count": 1283,
   "metadata": {},
   "outputs": [],
   "source": [
    "# KNN with k = 6\n",
    "\n",
    "knn = KNeighborsClassifier(n_neighbors=6)\n",
    "\n",
    "knn.fit(X_train, y_train)\n",
    "\n",
    "y_pred = knn.predict(X_test)"
   ]
  },
  {
   "cell_type": "markdown",
   "metadata": {},
   "source": [
    "#### MODEL Evaluation of KNN"
   ]
  },
  {
   "cell_type": "code",
   "execution_count": 1284,
   "metadata": {},
   "outputs": [],
   "source": [
    "# Confusion Matrix"
   ]
  },
  {
   "cell_type": "code",
   "execution_count": 1285,
   "metadata": {},
   "outputs": [
    {
     "data": {
      "text/plain": [
       "<matplotlib.axes._subplots.AxesSubplot at 0x1c138e79ca0>"
      ]
     },
     "execution_count": 1285,
     "metadata": {},
     "output_type": "execute_result"
    },
    {
     "data": {
      "image/png": "[encoded data removed]",
      "text/plain": [
       "<Figure size 432x288 with 2 Axes>"
      ]
     },
     "metadata": {
      "needs_background": "light"
     },
     "output_type": "display_data"
    }
   ],
   "source": [
    "cm = metrics.confusion_matrix(y_test,y_pred)\n",
    "sns.heatmap(cm,annot=True,cmap='Blues',fmt='g')"
   ]
  },
  {
   "cell_type": "markdown",
   "metadata": {},
   "source": [
    "###### horizontal is model vertical is actual in conf.matrix"
   ]
  },
  {
   "cell_type": "code",
   "execution_count": 1286,
   "metadata": {},
   "outputs": [],
   "source": [
    "# Classification Report"
   ]
  },
  {
   "cell_type": "code",
   "execution_count": 1287,
   "metadata": {},
   "outputs": [
    {
     "name": "stdout",
     "output_type": "stream",
     "text": [
      "              precision    recall  f1-score   support\n",
      "\n",
      "           0       0.92      1.00      0.96     15043\n",
      "           1       0.87      0.10      0.19      1400\n",
      "\n",
      "    accuracy                           0.92     16443\n",
      "   macro avg       0.90      0.55      0.57     16443\n",
      "weighted avg       0.92      0.92      0.89     16443\n",
      "\n"
     ]
    }
   ],
   "source": [
    "print(classification_report(y_test, y_pred))"
   ]
  },
  {
   "cell_type": "markdown",
   "metadata": {},
   "source": [
    "##### Observations\n",
    "\n",
    "From the avove classification report our senitivity or recall is very low i.e TPR\n",
    "Correspondingly our FPR(1-recall) or (1-snisitivity) will be very high\n",
    "That means quite a few number of employee who are eligble for promotions(1) are classified into\n",
    "non promoted (0). This may lead to business problem and Attrition rate may increase due to dissatisfaction"
   ]
  },
  {
   "cell_type": "markdown",
   "metadata": {},
   "source": [
    "##### AUC - ROC Curve"
   ]
  },
  {
   "cell_type": "code",
   "execution_count": 1288,
   "metadata": {},
   "outputs": [],
   "source": [
    "# Defining a function to plot the ROC curves. \n",
    "from sklearn.metrics import roc_curve\n",
    "from sklearn.metrics import roc_auc_score\n",
    "\n",
    "def plot_roc_curve(fpr, tpr):\n",
    "    plt.plot(fpr, tpr, color='orange', label='ROC')\n",
    "    plt.plot([0, 1], [0, 1], color='darkblue', linestyle='--')\n",
    "    plt.xlabel('False Positive Rate')\n",
    "    plt.ylabel('True Positive Rate')\n",
    "    plt.title('Receiver Operating Characteristic (ROC) Curve')\n",
    "    plt.legend()\n",
    "    plt.show()"
   ]
  },
  {
   "cell_type": "code",
   "execution_count": 1289,
   "metadata": {},
   "outputs": [],
   "source": [
    "#predicting the probability for test data for 1s and 0s\n",
    "probs = knn.predict_proba(X_test)"
   ]
  },
  {
   "cell_type": "code",
   "execution_count": 1290,
   "metadata": {},
   "outputs": [],
   "source": [
    "# Keep Probabilities of the positive class only i.e 2nd column.\n",
    "probs = probs[:, 1]"
   ]
  },
  {
   "cell_type": "code",
   "execution_count": 1291,
   "metadata": {},
   "outputs": [
    {
     "name": "stdout",
     "output_type": "stream",
     "text": [
      "AUC: 0.66\n"
     ]
    }
   ],
   "source": [
    "#Compute the AUC Score.\n",
    "auc = roc_auc_score(y_test, probs)\n",
    "print('AUC: %.2f'% auc)  #entirely printed as a string using '%'"
   ]
  },
  {
   "cell_type": "code",
   "execution_count": 1292,
   "metadata": {},
   "outputs": [],
   "source": [
    "# Getting the ROC Curve.\n",
    "fpr, tpr, thresholds = roc_curve(y_test, probs)"
   ]
  },
  {
   "cell_type": "code",
   "execution_count": 1293,
   "metadata": {},
   "outputs": [
    {
     "data": {
      "image/png": "[encoded data removed]",
      "text/plain": [
       "<Figure size 432x288 with 1 Axes>"
      ]
     },
     "metadata": {
      "needs_background": "light"
     },
     "output_type": "display_data"
    }
   ],
   "source": [
    "# Plot ROC Curve using defined function\n",
    "plot_roc_curve(fpr, tpr)"
   ]
  },
  {
   "cell_type": "markdown",
   "metadata": {},
   "source": [
    "###### AUC is more than 50%"
   ]
  },
  {
   "cell_type": "markdown",
   "metadata": {},
   "source": [
    "#### Decision Tree"
   ]
  },
  {
   "cell_type": "code",
   "execution_count": 1294,
   "metadata": {},
   "outputs": [],
   "source": [
    "from sklearn.tree import DecisionTreeClassifier\n",
    "from sklearn import metrics\n",
    "from sklearn.metrics import classification_report"
   ]
  },
  {
   "cell_type": "code",
   "execution_count": 1295,
   "metadata": {},
   "outputs": [],
   "source": [
    "DT=DecisionTreeClassifier()\n",
    "DT.fit(X_train,y_train)\n",
    "y_pred= DT.predict(X_test)"
   ]
  },
  {
   "cell_type": "code",
   "execution_count": 1296,
   "metadata": {},
   "outputs": [
    {
     "data": {
      "text/plain": [
       "'gini'"
      ]
     },
     "execution_count": 1296,
     "metadata": {},
     "output_type": "execute_result"
    }
   ],
   "source": [
    "# splitting criteria\n",
    "DT.criterion"
   ]
  },
  {
   "cell_type": "markdown",
   "metadata": {},
   "source": [
    "#### Model Evaluation for Decision Tree"
   ]
  },
  {
   "cell_type": "code",
   "execution_count": 1297,
   "metadata": {},
   "outputs": [
    {
     "data": {
      "text/plain": [
       "0.8938149972632731"
      ]
     },
     "execution_count": 1297,
     "metadata": {},
     "output_type": "execute_result"
    }
   ],
   "source": [
    "# Accuracy Score\n",
    "metrics.accuracy_score(y_test,y_pred)"
   ]
  },
  {
   "cell_type": "code",
   "execution_count": 1298,
   "metadata": {},
   "outputs": [],
   "source": [
    "# Confusion Matrix"
   ]
  },
  {
   "cell_type": "code",
   "execution_count": 1299,
   "metadata": {},
   "outputs": [
    {
     "data": {
      "text/plain": [
       "<matplotlib.axes._subplots.AxesSubplot at 0x1c138f60fa0>"
      ]
     },
     "execution_count": 1299,
     "metadata": {},
     "output_type": "execute_result"
    },
    {
     "data": {
      "image/png": "[encoded data removed]",
      "text/plain": [
       "<Figure size 432x288 with 2 Axes>"
      ]
     },
     "metadata": {
      "needs_background": "light"
     },
     "output_type": "display_data"
    }
   ],
   "source": [
    "cm = metrics.confusion_matrix(y_test,y_pred)\n",
    "sns.heatmap(cm,annot=True,cmap='Blues',fmt='g')"
   ]
  },
  {
   "cell_type": "markdown",
   "metadata": {},
   "source": [
    "###### horizontal is model vertical is actual in conf.matrix"
   ]
  },
  {
   "cell_type": "code",
   "execution_count": 1300,
   "metadata": {},
   "outputs": [],
   "source": [
    "# Classification Report"
   ]
  },
  {
   "cell_type": "code",
   "execution_count": 1301,
   "metadata": {},
   "outputs": [
    {
     "name": "stdout",
     "output_type": "stream",
     "text": [
      "              precision    recall  f1-score   support\n",
      "\n",
      "           0       0.95      0.93      0.94     15043\n",
      "           1       0.39      0.46      0.43      1400\n",
      "\n",
      "    accuracy                           0.89     16443\n",
      "   macro avg       0.67      0.70      0.68     16443\n",
      "weighted avg       0.90      0.89      0.90     16443\n",
      "\n"
     ]
    }
   ],
   "source": [
    "print(classification_report(y_test,y_pred))"
   ]
  },
  {
   "cell_type": "markdown",
   "metadata": {},
   "source": [
    "#### AUC-ROC for Decision Tree"
   ]
  },
  {
   "cell_type": "code",
   "execution_count": 1302,
   "metadata": {},
   "outputs": [],
   "source": [
    "#predicting the probability for test data for 1s and 0s\n",
    "probs = DT.predict_proba(X_test)"
   ]
  },
  {
   "cell_type": "code",
   "execution_count": 1303,
   "metadata": {},
   "outputs": [],
   "source": [
    "# Keep Probabilities of the positive class only i.e 2nd column.\n",
    "probs = probs[:, 1]"
   ]
  },
  {
   "cell_type": "code",
   "execution_count": 1304,
   "metadata": {},
   "outputs": [
    {
     "name": "stdout",
     "output_type": "stream",
     "text": [
      "AUC: 0.70\n"
     ]
    }
   ],
   "source": [
    "#Compute the AUC Score.\n",
    "auc = roc_auc_score(y_test, probs)\n",
    "print('AUC: %.2f'% auc)  #entirely printed as a string using '%'"
   ]
  },
  {
   "cell_type": "code",
   "execution_count": 1305,
   "metadata": {},
   "outputs": [],
   "source": [
    "# Getting the ROC Curve.\n",
    "fpr, tpr, thresholds = roc_curve(y_test, probs)"
   ]
  },
  {
   "cell_type": "code",
   "execution_count": 1306,
   "metadata": {},
   "outputs": [
    {
     "data": {
      "image/png": "[encoded data removed]",
      "text/plain": [
       "<Figure size 432x288 with 1 Axes>"
      ]
     },
     "metadata": {
      "needs_background": "light"
     },
     "output_type": "display_data"
    }
   ],
   "source": [
    "# Plot ROC Curve using defined function\n",
    "plot_roc_curve(fpr, tpr)"
   ]
  },
  {
   "cell_type": "markdown",
   "metadata": {},
   "source": [
    "##### AUC for Decision Tree is more than KNN"
   ]
  },
  {
   "cell_type": "markdown",
   "metadata": {},
   "source": [
    "#### Random Forest"
   ]
  },
  {
   "cell_type": "code",
   "execution_count": 1307,
   "metadata": {},
   "outputs": [],
   "source": [
    "from sklearn.ensemble import RandomForestClassifier"
   ]
  },
  {
   "cell_type": "code",
   "execution_count": 1308,
   "metadata": {},
   "outputs": [],
   "source": [
    "RF=RandomForestClassifier()\n",
    "RF.fit(X_train,y_train)\n",
    "y_pred=RF.predict(X_test)"
   ]
  },
  {
   "cell_type": "markdown",
   "metadata": {},
   "source": [
    "###### Model Evaluation for Random Forest"
   ]
  },
  {
   "cell_type": "code",
   "execution_count": 1312,
   "metadata": {},
   "outputs": [
    {
     "data": {
      "text/plain": [
       "0.9354132457580734"
      ]
     },
     "execution_count": 1312,
     "metadata": {},
     "output_type": "execute_result"
    }
   ],
   "source": [
    "# Accuracy Score\n",
    "\n",
    "metrics.accuracy_score(y_test,y_pred)"
   ]
  },
  {
   "cell_type": "code",
   "execution_count": 1317,
   "metadata": {},
   "outputs": [
    {
     "data": {
      "text/plain": [
       "<matplotlib.axes._subplots.AxesSubplot at 0x1c1344bca90>"
      ]
     },
     "execution_count": 1317,
     "metadata": {},
     "output_type": "execute_result"
    },
    {
     "data": {
      "image/png": "[encoded data removed]",
      "text/plain": [
       "<Figure size 432x288 with 2 Axes>"
      ]
     },
     "metadata": {
      "needs_background": "light"
     },
     "output_type": "display_data"
    }
   ],
   "source": [
    "# Confusion Matrix\n",
    "\n",
    "cm = metrics.confusion_matrix(y_test,y_pred)\n",
    "sns.heatmap(cm,annot=True,cmap='Blues',fmt='g')"
   ]
  },
  {
   "cell_type": "markdown",
   "metadata": {},
   "source": [
    "###### horizontal is model vertical is actual in conf.matrix"
   ]
  },
  {
   "cell_type": "code",
   "execution_count": 1318,
   "metadata": {},
   "outputs": [
    {
     "name": "stdout",
     "output_type": "stream",
     "text": [
      "              precision    recall  f1-score   support\n",
      "\n",
      "           0       0.94      1.00      0.97     15043\n",
      "           1       0.85      0.29      0.44      1400\n",
      "\n",
      "    accuracy                           0.94     16443\n",
      "   macro avg       0.89      0.64      0.70     16443\n",
      "weighted avg       0.93      0.94      0.92     16443\n",
      "\n"
     ]
    }
   ],
   "source": [
    "# Classification Report\n",
    "\n",
    "print(classification_report(y_test,y_pred))"
   ]
  },
  {
   "cell_type": "markdown",
   "metadata": {},
   "source": [
    "##### Feature importances in Random Forest Model"
   ]
  },
  {
   "cell_type": "code",
   "execution_count": 1319,
   "metadata": {},
   "outputs": [
    {
     "data": {
      "text/html": [
       "<div>\n",
       "<style scoped>\n",
       "    .dataframe tbody tr th:only-of-type {\n",
       "        vertical-align: middle;\n",
       "    }\n",
       "\n",
       "    .dataframe tbody tr th {\n",
       "        vertical-align: top;\n",
       "    }\n",
       "\n",
       "    .dataframe thead th {\n",
       "        text-align: right;\n",
       "    }\n",
       "</style>\n",
       "<table border=\"1\" class=\"dataframe\">\n",
       "  <thead>\n",
       "    <tr style=\"text-align: right;\">\n",
       "      <th></th>\n",
       "      <th>feature importance</th>\n",
       "    </tr>\n",
       "  </thead>\n",
       "  <tbody>\n",
       "    <tr>\n",
       "      <th>avg_training_score</th>\n",
       "      <td>0.311596</td>\n",
       "    </tr>\n",
       "    <tr>\n",
       "      <th>age</th>\n",
       "      <td>0.137961</td>\n",
       "    </tr>\n",
       "    <tr>\n",
       "      <th>region</th>\n",
       "      <td>0.119396</td>\n",
       "    </tr>\n",
       "    <tr>\n",
       "      <th>length_of_service</th>\n",
       "      <td>0.108325</td>\n",
       "    </tr>\n",
       "    <tr>\n",
       "      <th>previous_year_rating</th>\n",
       "      <td>0.056275</td>\n",
       "    </tr>\n",
       "    <tr>\n",
       "      <th>KPIs_met &gt;80%</th>\n",
       "      <td>0.049159</td>\n",
       "    </tr>\n",
       "    <tr>\n",
       "      <th>awards_won?</th>\n",
       "      <td>0.028655</td>\n",
       "    </tr>\n",
       "    <tr>\n",
       "      <th>department_Sales &amp; Marketing</th>\n",
       "      <td>0.027685</td>\n",
       "    </tr>\n",
       "    <tr>\n",
       "      <th>recruitment_channel_other</th>\n",
       "      <td>0.025851</td>\n",
       "    </tr>\n",
       "    <tr>\n",
       "      <th>no_of_trainings</th>\n",
       "      <td>0.022688</td>\n",
       "    </tr>\n",
       "    <tr>\n",
       "      <th>gender_m</th>\n",
       "      <td>0.021634</td>\n",
       "    </tr>\n",
       "    <tr>\n",
       "      <th>department_Operations</th>\n",
       "      <td>0.020650</td>\n",
       "    </tr>\n",
       "    <tr>\n",
       "      <th>education_Bachelor's</th>\n",
       "      <td>0.016245</td>\n",
       "    </tr>\n",
       "    <tr>\n",
       "      <th>department_Analytics</th>\n",
       "      <td>0.013819</td>\n",
       "    </tr>\n",
       "    <tr>\n",
       "      <th>department_Procurement</th>\n",
       "      <td>0.013085</td>\n",
       "    </tr>\n",
       "    <tr>\n",
       "      <th>department_Finance</th>\n",
       "      <td>0.006873</td>\n",
       "    </tr>\n",
       "    <tr>\n",
       "      <th>department_R&amp;D</th>\n",
       "      <td>0.005976</td>\n",
       "    </tr>\n",
       "    <tr>\n",
       "      <th>recruitment_channel_referred</th>\n",
       "      <td>0.005719</td>\n",
       "    </tr>\n",
       "    <tr>\n",
       "      <th>department_HR</th>\n",
       "      <td>0.004690</td>\n",
       "    </tr>\n",
       "    <tr>\n",
       "      <th>department_Legal</th>\n",
       "      <td>0.002257</td>\n",
       "    </tr>\n",
       "    <tr>\n",
       "      <th>education_Below Secondary</th>\n",
       "      <td>0.001461</td>\n",
       "    </tr>\n",
       "  </tbody>\n",
       "</table>\n",
       "</div>"
      ],
      "text/plain": [
       "                              feature importance\n",
       "avg_training_score                      0.311596\n",
       "age                                     0.137961\n",
       "region                                  0.119396\n",
       "length_of_service                       0.108325\n",
       "previous_year_rating                    0.056275\n",
       "KPIs_met >80%                           0.049159\n",
       "awards_won?                             0.028655\n",
       "department_Sales & Marketing            0.027685\n",
       "recruitment_channel_other               0.025851\n",
       "no_of_trainings                         0.022688\n",
       "gender_m                                0.021634\n",
       "department_Operations                   0.020650\n",
       "education_Bachelor's                    0.016245\n",
       "department_Analytics                    0.013819\n",
       "department_Procurement                  0.013085\n",
       "department_Finance                      0.006873\n",
       "department_R&D                          0.005976\n",
       "recruitment_channel_referred            0.005719\n",
       "department_HR                           0.004690\n",
       "department_Legal                        0.002257\n",
       "education_Below Secondary               0.001461"
      ]
     },
     "execution_count": 1319,
     "metadata": {},
     "output_type": "execute_result"
    }
   ],
   "source": [
    "df_feature_importance = pd.DataFrame(RF.feature_importances_, index=X_train.columns, columns=['feature importance']).sort_values('feature importance', ascending=False)\n",
    "df_feature_importance"
   ]
  },
  {
   "cell_type": "code",
   "execution_count": 1320,
   "metadata": {},
   "outputs": [
    {
     "data": {
      "text/plain": [
       "<matplotlib.axes._subplots.AxesSubplot at 0x1c12ef1a6d0>"
      ]
     },
     "execution_count": 1320,
     "metadata": {},
     "output_type": "execute_result"
    },
    {
     "data": {
      "image/png": "[encoded data removed]",
      "text/plain": [
       "<Figure size 576x288 with 1 Axes>"
      ]
     },
     "metadata": {
      "needs_background": "light"
     },
     "output_type": "display_data"
    }
   ],
   "source": [
    "df_feature_importance.plot.bar(figsize=(8,4))"
   ]
  },
  {
   "cell_type": "markdown",
   "metadata": {},
   "source": [
    "#### AUC_ROC for Random Forest"
   ]
  },
  {
   "cell_type": "code",
   "execution_count": 1321,
   "metadata": {},
   "outputs": [],
   "source": [
    "#predicting the probability for test data for 1s and 0s\n",
    "probs = RF.predict_proba(X_test)"
   ]
  },
  {
   "cell_type": "code",
   "execution_count": 1322,
   "metadata": {},
   "outputs": [],
   "source": [
    "# Keep Probabilities of the positive class only i.e 2nd column.\n",
    "probs = probs[:, 1]"
   ]
  },
  {
   "cell_type": "code",
   "execution_count": 1323,
   "metadata": {},
   "outputs": [
    {
     "name": "stdout",
     "output_type": "stream",
     "text": [
      "AUC: 0.88\n"
     ]
    }
   ],
   "source": [
    "#Compute the AUC Score.\n",
    "auc = roc_auc_score(y_test, probs)\n",
    "print('AUC: %.2f'% auc)  #entirely printed as a string using '%'"
   ]
  },
  {
   "cell_type": "code",
   "execution_count": 1324,
   "metadata": {},
   "outputs": [],
   "source": [
    "# Getting the ROC Curve.\n",
    "fpr, tpr, thresholds = roc_curve(y_test, probs)"
   ]
  },
  {
   "cell_type": "code",
   "execution_count": 1325,
   "metadata": {},
   "outputs": [
    {
     "data": {
      "image/png": "[encoded data removed]",
      "text/plain": [
       "<Figure size 432x288 with 1 Axes>"
      ]
     },
     "metadata": {
      "needs_background": "light"
     },
     "output_type": "display_data"
    }
   ],
   "source": [
    "# Plot ROC Curve using defined function\n",
    "plot_roc_curve(fpr, tpr)"
   ]
  },
  {
   "cell_type": "markdown",
   "metadata": {},
   "source": [
    "##### AUC for Random Forest is more than Decision Tree and KNN"
   ]
  },
  {
   "cell_type": "markdown",
   "metadata": {},
   "source": [
    "### Logist Regression"
   ]
  },
  {
   "cell_type": "code",
   "execution_count": 1326,
   "metadata": {},
   "outputs": [],
   "source": [
    "#Min Max Scaling ensuring column names are not lost after scaling the features"
   ]
  },
  {
   "cell_type": "markdown",
   "metadata": {},
   "source": [
    "##### MIN MAX Scaling"
   ]
  },
  {
   "cell_type": "code",
   "execution_count": 1327,
   "metadata": {},
   "outputs": [],
   "source": [
    "from sklearn.preprocessing import MinMaxScaler\n",
    "\n",
    "scaler=MinMaxScaler()\n"
   ]
  },
  {
   "cell_type": "code",
   "execution_count": 1328,
   "metadata": {},
   "outputs": [
    {
     "data": {
      "text/plain": [
       "Index(['region', 'no_of_trainings', 'age', 'previous_year_rating',\n",
       "       'length_of_service', 'KPIs_met >80%', 'awards_won?',\n",
       "       'avg_training_score', 'department_Analytics', 'department_Finance',\n",
       "       'department_HR', 'department_Legal', 'department_Operations',\n",
       "       'department_Procurement', 'department_R&D',\n",
       "       'department_Sales & Marketing', 'gender_m', 'education_Bachelor's',\n",
       "       'education_Below Secondary', 'recruitment_channel_other',\n",
       "       'recruitment_channel_referred'],\n",
       "      dtype='object')"
      ]
     },
     "execution_count": 1328,
     "metadata": {},
     "output_type": "execute_result"
    }
   ],
   "source": [
    "X_train.columns.unique()"
   ]
  },
  {
   "cell_type": "code",
   "execution_count": 1329,
   "metadata": {},
   "outputs": [],
   "source": [
    "names_train = X_train.columns\n",
    "names_test=X_test.columns\n",
    "scaled_df_train = scaler.fit_transform(X_train)\n",
    "scaled_df_test=scaler.fit_transform(X_test)\n",
    "scaled_df_train = pd.DataFrame(scaled_df_train, columns=names_train)\n",
    "scaled_df_test = pd.DataFrame(scaled_df_test, columns=names_test)"
   ]
  },
  {
   "cell_type": "code",
   "execution_count": 1330,
   "metadata": {},
   "outputs": [
    {
     "data": {
      "text/html": [
       "<div>\n",
       "<style scoped>\n",
       "    .dataframe tbody tr th:only-of-type {\n",
       "        vertical-align: middle;\n",
       "    }\n",
       "\n",
       "    .dataframe tbody tr th {\n",
       "        vertical-align: top;\n",
       "    }\n",
       "\n",
       "    .dataframe thead th {\n",
       "        text-align: right;\n",
       "    }\n",
       "</style>\n",
       "<table border=\"1\" class=\"dataframe\">\n",
       "  <thead>\n",
       "    <tr style=\"text-align: right;\">\n",
       "      <th></th>\n",
       "      <th>region</th>\n",
       "      <th>no_of_trainings</th>\n",
       "      <th>age</th>\n",
       "      <th>previous_year_rating</th>\n",
       "      <th>length_of_service</th>\n",
       "      <th>KPIs_met &gt;80%</th>\n",
       "      <th>awards_won?</th>\n",
       "      <th>avg_training_score</th>\n",
       "      <th>department_Analytics</th>\n",
       "      <th>department_Finance</th>\n",
       "      <th>...</th>\n",
       "      <th>department_Legal</th>\n",
       "      <th>department_Operations</th>\n",
       "      <th>department_Procurement</th>\n",
       "      <th>department_R&amp;D</th>\n",
       "      <th>department_Sales &amp; Marketing</th>\n",
       "      <th>gender_m</th>\n",
       "      <th>education_Bachelor's</th>\n",
       "      <th>education_Below Secondary</th>\n",
       "      <th>recruitment_channel_other</th>\n",
       "      <th>recruitment_channel_referred</th>\n",
       "    </tr>\n",
       "  </thead>\n",
       "  <tbody>\n",
       "    <tr>\n",
       "      <th>0</th>\n",
       "      <td>0.606061</td>\n",
       "      <td>0.0</td>\n",
       "      <td>0.325</td>\n",
       "      <td>0.75</td>\n",
       "      <td>0.166667</td>\n",
       "      <td>1.0</td>\n",
       "      <td>0.0</td>\n",
       "      <td>0.733333</td>\n",
       "      <td>0.0</td>\n",
       "      <td>0.0</td>\n",
       "      <td>...</td>\n",
       "      <td>0.0</td>\n",
       "      <td>0.0</td>\n",
       "      <td>0.0</td>\n",
       "      <td>0.0</td>\n",
       "      <td>0.0</td>\n",
       "      <td>1.0</td>\n",
       "      <td>0.0</td>\n",
       "      <td>0.0</td>\n",
       "      <td>1.0</td>\n",
       "      <td>0.0</td>\n",
       "    </tr>\n",
       "    <tr>\n",
       "      <th>1</th>\n",
       "      <td>0.333333</td>\n",
       "      <td>0.0</td>\n",
       "      <td>0.250</td>\n",
       "      <td>0.25</td>\n",
       "      <td>0.083333</td>\n",
       "      <td>0.0</td>\n",
       "      <td>0.0</td>\n",
       "      <td>0.050000</td>\n",
       "      <td>0.0</td>\n",
       "      <td>0.0</td>\n",
       "      <td>...</td>\n",
       "      <td>0.0</td>\n",
       "      <td>0.0</td>\n",
       "      <td>0.0</td>\n",
       "      <td>0.0</td>\n",
       "      <td>0.0</td>\n",
       "      <td>1.0</td>\n",
       "      <td>0.0</td>\n",
       "      <td>0.0</td>\n",
       "      <td>1.0</td>\n",
       "      <td>0.0</td>\n",
       "    </tr>\n",
       "    <tr>\n",
       "      <th>2</th>\n",
       "      <td>0.030303</td>\n",
       "      <td>0.0</td>\n",
       "      <td>0.350</td>\n",
       "      <td>0.00</td>\n",
       "      <td>0.138889</td>\n",
       "      <td>0.0</td>\n",
       "      <td>0.0</td>\n",
       "      <td>0.616667</td>\n",
       "      <td>0.0</td>\n",
       "      <td>0.0</td>\n",
       "      <td>...</td>\n",
       "      <td>0.0</td>\n",
       "      <td>0.0</td>\n",
       "      <td>1.0</td>\n",
       "      <td>0.0</td>\n",
       "      <td>0.0</td>\n",
       "      <td>1.0</td>\n",
       "      <td>0.0</td>\n",
       "      <td>0.0</td>\n",
       "      <td>1.0</td>\n",
       "      <td>0.0</td>\n",
       "    </tr>\n",
       "    <tr>\n",
       "      <th>3</th>\n",
       "      <td>0.969697</td>\n",
       "      <td>0.0</td>\n",
       "      <td>0.500</td>\n",
       "      <td>0.00</td>\n",
       "      <td>0.277778</td>\n",
       "      <td>0.0</td>\n",
       "      <td>0.0</td>\n",
       "      <td>0.116667</td>\n",
       "      <td>0.0</td>\n",
       "      <td>0.0</td>\n",
       "      <td>...</td>\n",
       "      <td>0.0</td>\n",
       "      <td>0.0</td>\n",
       "      <td>0.0</td>\n",
       "      <td>0.0</td>\n",
       "      <td>1.0</td>\n",
       "      <td>1.0</td>\n",
       "      <td>1.0</td>\n",
       "      <td>0.0</td>\n",
       "      <td>0.0</td>\n",
       "      <td>0.0</td>\n",
       "    </tr>\n",
       "    <tr>\n",
       "      <th>4</th>\n",
       "      <td>0.333333</td>\n",
       "      <td>0.0</td>\n",
       "      <td>0.775</td>\n",
       "      <td>0.50</td>\n",
       "      <td>0.388889</td>\n",
       "      <td>0.0</td>\n",
       "      <td>0.0</td>\n",
       "      <td>0.533333</td>\n",
       "      <td>0.0</td>\n",
       "      <td>0.0</td>\n",
       "      <td>...</td>\n",
       "      <td>0.0</td>\n",
       "      <td>0.0</td>\n",
       "      <td>1.0</td>\n",
       "      <td>0.0</td>\n",
       "      <td>0.0</td>\n",
       "      <td>0.0</td>\n",
       "      <td>0.0</td>\n",
       "      <td>0.0</td>\n",
       "      <td>1.0</td>\n",
       "      <td>0.0</td>\n",
       "    </tr>\n",
       "  </tbody>\n",
       "</table>\n",
       "<p>5 rows × 21 columns</p>\n",
       "</div>"
      ],
      "text/plain": [
       "     region  no_of_trainings    age  previous_year_rating  length_of_service  \\\n",
       "0  0.606061              0.0  0.325                  0.75           0.166667   \n",
       "1  0.333333              0.0  0.250                  0.25           0.083333   \n",
       "2  0.030303              0.0  0.350                  0.00           0.138889   \n",
       "3  0.969697              0.0  0.500                  0.00           0.277778   \n",
       "4  0.333333              0.0  0.775                  0.50           0.388889   \n",
       "\n",
       "   KPIs_met >80%  awards_won?  avg_training_score  department_Analytics  \\\n",
       "0            1.0          0.0            0.733333                   0.0   \n",
       "1            0.0          0.0            0.050000                   0.0   \n",
       "2            0.0          0.0            0.616667                   0.0   \n",
       "3            0.0          0.0            0.116667                   0.0   \n",
       "4            0.0          0.0            0.533333                   0.0   \n",
       "\n",
       "   department_Finance  ...  department_Legal  department_Operations  \\\n",
       "0                 0.0  ...               0.0                    0.0   \n",
       "1                 0.0  ...               0.0                    0.0   \n",
       "2                 0.0  ...               0.0                    0.0   \n",
       "3                 0.0  ...               0.0                    0.0   \n",
       "4                 0.0  ...               0.0                    0.0   \n",
       "\n",
       "   department_Procurement  department_R&D  department_Sales & Marketing  \\\n",
       "0                     0.0             0.0                           0.0   \n",
       "1                     0.0             0.0                           0.0   \n",
       "2                     1.0             0.0                           0.0   \n",
       "3                     0.0             0.0                           1.0   \n",
       "4                     1.0             0.0                           0.0   \n",
       "\n",
       "   gender_m  education_Bachelor's  education_Below Secondary  \\\n",
       "0       1.0                   0.0                        0.0   \n",
       "1       1.0                   0.0                        0.0   \n",
       "2       1.0                   0.0                        0.0   \n",
       "3       1.0                   1.0                        0.0   \n",
       "4       0.0                   0.0                        0.0   \n",
       "\n",
       "   recruitment_channel_other  recruitment_channel_referred  \n",
       "0                        1.0                           0.0  \n",
       "1                        1.0                           0.0  \n",
       "2                        1.0                           0.0  \n",
       "3                        0.0                           0.0  \n",
       "4                        1.0                           0.0  \n",
       "\n",
       "[5 rows x 21 columns]"
      ]
     },
     "execution_count": 1330,
     "metadata": {},
     "output_type": "execute_result"
    }
   ],
   "source": [
    "X_train=scaled_df_train\n",
    "X_train.head(5)"
   ]
  },
  {
   "cell_type": "code",
   "execution_count": 1331,
   "metadata": {},
   "outputs": [
    {
     "data": {
      "text/plain": [
       "Index(['region', 'no_of_trainings', 'age', 'previous_year_rating',\n",
       "       'length_of_service', 'KPIs_met >80%', 'awards_won?',\n",
       "       'avg_training_score', 'department_Analytics', 'department_Finance',\n",
       "       'department_HR', 'department_Legal', 'department_Operations',\n",
       "       'department_Procurement', 'department_R&D',\n",
       "       'department_Sales & Marketing', 'gender_m', 'education_Bachelor's',\n",
       "       'education_Below Secondary', 'recruitment_channel_other',\n",
       "       'recruitment_channel_referred'],\n",
       "      dtype='object')"
      ]
     },
     "execution_count": 1331,
     "metadata": {},
     "output_type": "execute_result"
    }
   ],
   "source": [
    "X_train.columns.unique()"
   ]
  },
  {
   "cell_type": "code",
   "execution_count": 1332,
   "metadata": {},
   "outputs": [
    {
     "data": {
      "text/html": [
       "<div>\n",
       "<style scoped>\n",
       "    .dataframe tbody tr th:only-of-type {\n",
       "        vertical-align: middle;\n",
       "    }\n",
       "\n",
       "    .dataframe tbody tr th {\n",
       "        vertical-align: top;\n",
       "    }\n",
       "\n",
       "    .dataframe thead th {\n",
       "        text-align: right;\n",
       "    }\n",
       "</style>\n",
       "<table border=\"1\" class=\"dataframe\">\n",
       "  <thead>\n",
       "    <tr style=\"text-align: right;\">\n",
       "      <th></th>\n",
       "      <th>region</th>\n",
       "      <th>no_of_trainings</th>\n",
       "      <th>age</th>\n",
       "      <th>previous_year_rating</th>\n",
       "      <th>length_of_service</th>\n",
       "      <th>KPIs_met &gt;80%</th>\n",
       "      <th>awards_won?</th>\n",
       "      <th>avg_training_score</th>\n",
       "      <th>department_Analytics</th>\n",
       "      <th>department_Finance</th>\n",
       "      <th>...</th>\n",
       "      <th>department_Legal</th>\n",
       "      <th>department_Operations</th>\n",
       "      <th>department_Procurement</th>\n",
       "      <th>department_R&amp;D</th>\n",
       "      <th>department_Sales &amp; Marketing</th>\n",
       "      <th>gender_m</th>\n",
       "      <th>education_Bachelor's</th>\n",
       "      <th>education_Below Secondary</th>\n",
       "      <th>recruitment_channel_other</th>\n",
       "      <th>recruitment_channel_referred</th>\n",
       "    </tr>\n",
       "  </thead>\n",
       "  <tbody>\n",
       "    <tr>\n",
       "      <th>0</th>\n",
       "      <td>0.545455</td>\n",
       "      <td>0.000000</td>\n",
       "      <td>0.325</td>\n",
       "      <td>0.75</td>\n",
       "      <td>0.09375</td>\n",
       "      <td>1.0</td>\n",
       "      <td>0.0</td>\n",
       "      <td>0.250000</td>\n",
       "      <td>0.0</td>\n",
       "      <td>0.0</td>\n",
       "      <td>...</td>\n",
       "      <td>0.0</td>\n",
       "      <td>0.0</td>\n",
       "      <td>0.0</td>\n",
       "      <td>0.0</td>\n",
       "      <td>0.0</td>\n",
       "      <td>0.0</td>\n",
       "      <td>1.0</td>\n",
       "      <td>0.0</td>\n",
       "      <td>1.0</td>\n",
       "      <td>0.0</td>\n",
       "    </tr>\n",
       "    <tr>\n",
       "      <th>1</th>\n",
       "      <td>0.666667</td>\n",
       "      <td>0.000000</td>\n",
       "      <td>0.175</td>\n",
       "      <td>0.50</td>\n",
       "      <td>0.15625</td>\n",
       "      <td>0.0</td>\n",
       "      <td>0.0</td>\n",
       "      <td>0.150000</td>\n",
       "      <td>0.0</td>\n",
       "      <td>0.0</td>\n",
       "      <td>...</td>\n",
       "      <td>0.0</td>\n",
       "      <td>0.0</td>\n",
       "      <td>0.0</td>\n",
       "      <td>0.0</td>\n",
       "      <td>1.0</td>\n",
       "      <td>1.0</td>\n",
       "      <td>1.0</td>\n",
       "      <td>0.0</td>\n",
       "      <td>0.0</td>\n",
       "      <td>0.0</td>\n",
       "    </tr>\n",
       "    <tr>\n",
       "      <th>2</th>\n",
       "      <td>0.121212</td>\n",
       "      <td>0.000000</td>\n",
       "      <td>0.300</td>\n",
       "      <td>0.75</td>\n",
       "      <td>0.18750</td>\n",
       "      <td>1.0</td>\n",
       "      <td>0.0</td>\n",
       "      <td>0.666667</td>\n",
       "      <td>0.0</td>\n",
       "      <td>0.0</td>\n",
       "      <td>...</td>\n",
       "      <td>0.0</td>\n",
       "      <td>0.0</td>\n",
       "      <td>0.0</td>\n",
       "      <td>0.0</td>\n",
       "      <td>0.0</td>\n",
       "      <td>0.0</td>\n",
       "      <td>0.0</td>\n",
       "      <td>0.0</td>\n",
       "      <td>1.0</td>\n",
       "      <td>0.0</td>\n",
       "    </tr>\n",
       "    <tr>\n",
       "      <th>3</th>\n",
       "      <td>0.424242</td>\n",
       "      <td>0.000000</td>\n",
       "      <td>0.200</td>\n",
       "      <td>1.00</td>\n",
       "      <td>0.00000</td>\n",
       "      <td>0.0</td>\n",
       "      <td>0.0</td>\n",
       "      <td>0.350000</td>\n",
       "      <td>0.0</td>\n",
       "      <td>0.0</td>\n",
       "      <td>...</td>\n",
       "      <td>0.0</td>\n",
       "      <td>1.0</td>\n",
       "      <td>0.0</td>\n",
       "      <td>0.0</td>\n",
       "      <td>0.0</td>\n",
       "      <td>0.0</td>\n",
       "      <td>1.0</td>\n",
       "      <td>0.0</td>\n",
       "      <td>0.0</td>\n",
       "      <td>0.0</td>\n",
       "    </tr>\n",
       "    <tr>\n",
       "      <th>4</th>\n",
       "      <td>0.939394</td>\n",
       "      <td>0.111111</td>\n",
       "      <td>0.275</td>\n",
       "      <td>0.25</td>\n",
       "      <td>0.06250</td>\n",
       "      <td>0.0</td>\n",
       "      <td>0.0</td>\n",
       "      <td>0.116667</td>\n",
       "      <td>0.0</td>\n",
       "      <td>0.0</td>\n",
       "      <td>...</td>\n",
       "      <td>0.0</td>\n",
       "      <td>0.0</td>\n",
       "      <td>0.0</td>\n",
       "      <td>0.0</td>\n",
       "      <td>0.0</td>\n",
       "      <td>0.0</td>\n",
       "      <td>1.0</td>\n",
       "      <td>0.0</td>\n",
       "      <td>1.0</td>\n",
       "      <td>0.0</td>\n",
       "    </tr>\n",
       "  </tbody>\n",
       "</table>\n",
       "<p>5 rows × 21 columns</p>\n",
       "</div>"
      ],
      "text/plain": [
       "     region  no_of_trainings    age  previous_year_rating  length_of_service  \\\n",
       "0  0.545455         0.000000  0.325                  0.75            0.09375   \n",
       "1  0.666667         0.000000  0.175                  0.50            0.15625   \n",
       "2  0.121212         0.000000  0.300                  0.75            0.18750   \n",
       "3  0.424242         0.000000  0.200                  1.00            0.00000   \n",
       "4  0.939394         0.111111  0.275                  0.25            0.06250   \n",
       "\n",
       "   KPIs_met >80%  awards_won?  avg_training_score  department_Analytics  \\\n",
       "0            1.0          0.0            0.250000                   0.0   \n",
       "1            0.0          0.0            0.150000                   0.0   \n",
       "2            1.0          0.0            0.666667                   0.0   \n",
       "3            0.0          0.0            0.350000                   0.0   \n",
       "4            0.0          0.0            0.116667                   0.0   \n",
       "\n",
       "   department_Finance  ...  department_Legal  department_Operations  \\\n",
       "0                 0.0  ...               0.0                    0.0   \n",
       "1                 0.0  ...               0.0                    0.0   \n",
       "2                 0.0  ...               0.0                    0.0   \n",
       "3                 0.0  ...               0.0                    1.0   \n",
       "4                 0.0  ...               0.0                    0.0   \n",
       "\n",
       "   department_Procurement  department_R&D  department_Sales & Marketing  \\\n",
       "0                     0.0             0.0                           0.0   \n",
       "1                     0.0             0.0                           1.0   \n",
       "2                     0.0             0.0                           0.0   \n",
       "3                     0.0             0.0                           0.0   \n",
       "4                     0.0             0.0                           0.0   \n",
       "\n",
       "   gender_m  education_Bachelor's  education_Below Secondary  \\\n",
       "0       0.0                   1.0                        0.0   \n",
       "1       1.0                   1.0                        0.0   \n",
       "2       0.0                   0.0                        0.0   \n",
       "3       0.0                   1.0                        0.0   \n",
       "4       0.0                   1.0                        0.0   \n",
       "\n",
       "   recruitment_channel_other  recruitment_channel_referred  \n",
       "0                        1.0                           0.0  \n",
       "1                        0.0                           0.0  \n",
       "2                        1.0                           0.0  \n",
       "3                        0.0                           0.0  \n",
       "4                        1.0                           0.0  \n",
       "\n",
       "[5 rows x 21 columns]"
      ]
     },
     "execution_count": 1332,
     "metadata": {},
     "output_type": "execute_result"
    }
   ],
   "source": [
    "X_test=scaled_df_test\n",
    "X_test.head(5)"
   ]
  },
  {
   "cell_type": "code",
   "execution_count": 1333,
   "metadata": {},
   "outputs": [],
   "source": [
    "#Scaling the data \n",
    "#(Eventhough Standardization deals with outliers and not put the data in fixed scale between 0-1 as in MinMax normalisation\n",
    "#Yet we have used MinMax normalisation because my categorical variables are 0s and 1s so I bounded the range of my continuous\n",
    "#variables also between 0s and 1s so that uniformity is maintained)"
   ]
  },
  {
   "cell_type": "code",
   "execution_count": 1334,
   "metadata": {},
   "outputs": [],
   "source": [
    "from sklearn.linear_model import LogisticRegression"
   ]
  },
  {
   "cell_type": "code",
   "execution_count": 1335,
   "metadata": {},
   "outputs": [],
   "source": [
    "LR=LogisticRegression()\n",
    "LR.fit(X_train,y_train)\n",
    "y_pred=LR.predict(X_test)\n"
   ]
  },
  {
   "cell_type": "markdown",
   "metadata": {},
   "source": [
    "##### Model Evaluation for Logistic"
   ]
  },
  {
   "cell_type": "code",
   "execution_count": 1336,
   "metadata": {},
   "outputs": [
    {
     "data": {
      "text/plain": [
       "0.9304871373836892"
      ]
     },
     "execution_count": 1336,
     "metadata": {},
     "output_type": "execute_result"
    }
   ],
   "source": [
    "metrics.accuracy_score(y_test,y_pred)"
   ]
  },
  {
   "cell_type": "code",
   "execution_count": 1337,
   "metadata": {},
   "outputs": [
    {
     "data": {
      "text/plain": [
       "<matplotlib.axes._subplots.AxesSubplot at 0x1c12dabd640>"
      ]
     },
     "execution_count": 1337,
     "metadata": {},
     "output_type": "execute_result"
    },
    {
     "data": {
      "image/png": "[encoded data removed]",
      "text/plain": [
       "<Figure size 432x288 with 2 Axes>"
      ]
     },
     "metadata": {
      "needs_background": "light"
     },
     "output_type": "display_data"
    }
   ],
   "source": [
    "# Confusion Matrix\n",
    "\n",
    "cm = metrics.confusion_matrix(y_test,y_pred)\n",
    "sns.heatmap(cm,annot=True,cmap='Blues',fmt='g')"
   ]
  },
  {
   "cell_type": "markdown",
   "metadata": {},
   "source": [
    "###### horizontal is model vertical is actual in conf.matrix"
   ]
  },
  {
   "cell_type": "code",
   "execution_count": 1338,
   "metadata": {},
   "outputs": [
    {
     "name": "stdout",
     "output_type": "stream",
     "text": [
      "              precision    recall  f1-score   support\n",
      "\n",
      "           0       0.93      1.00      0.96     15043\n",
      "           1       0.86      0.22      0.35      1400\n",
      "\n",
      "    accuracy                           0.93     16443\n",
      "   macro avg       0.90      0.61      0.66     16443\n",
      "weighted avg       0.93      0.93      0.91     16443\n",
      "\n"
     ]
    }
   ],
   "source": [
    "#Classification Report\n",
    "\n",
    "print(classification_report(y_test, y_pred))"
   ]
  },
  {
   "cell_type": "markdown",
   "metadata": {},
   "source": [
    "#### AUC_ROC for Logistic Regression"
   ]
  },
  {
   "cell_type": "code",
   "execution_count": 1339,
   "metadata": {},
   "outputs": [],
   "source": [
    "#predicting the probability for test data for 1s and 0s\n",
    "probs = LR.predict_proba(X_test)"
   ]
  },
  {
   "cell_type": "code",
   "execution_count": 1340,
   "metadata": {},
   "outputs": [],
   "source": [
    "# Keep Probabilities of the positive class only i.e 2nd column.\n",
    "probs = probs[:, 1]\n"
   ]
  },
  {
   "cell_type": "code",
   "execution_count": 1341,
   "metadata": {},
   "outputs": [
    {
     "name": "stdout",
     "output_type": "stream",
     "text": [
      "AUC: 0.87\n"
     ]
    }
   ],
   "source": [
    "#Compute the AUC Score.\n",
    "auc = roc_auc_score(y_test, probs)\n",
    "print('AUC: %.2f'% auc)  #entirely printed as a string using '%'"
   ]
  },
  {
   "cell_type": "code",
   "execution_count": 1342,
   "metadata": {},
   "outputs": [],
   "source": [
    "# Getting the ROC Curve.\n",
    "fpr, tpr, thresholds = roc_curve(y_test, probs)"
   ]
  },
  {
   "cell_type": "code",
   "execution_count": 1343,
   "metadata": {},
   "outputs": [
    {
     "data": {
      "image/png": "[encoded data removed]",
      "text/plain": [
       "<Figure size 432x288 with 1 Axes>"
      ]
     },
     "metadata": {
      "needs_background": "light"
     },
     "output_type": "display_data"
    }
   ],
   "source": [
    "\n",
    "# Plot ROC Curve using defined function\n",
    "plot_roc_curve(fpr, tpr)"
   ]
  },
  {
   "cell_type": "markdown",
   "metadata": {},
   "source": [
    "###### AUC for Logistic is more than Decision Tree and KNN but less than Random Forest"
   ]
  },
  {
   "cell_type": "markdown",
   "metadata": {},
   "source": [
    "#### Observation"
   ]
  },
  {
   "cell_type": "markdown",
   "metadata": {},
   "source": [
    "\n",
    "#### We have observed that the Random Forest Classifier Performed better in sense of Accuracy,F-1 Score ,AUC-ROC and TPR"
   ]
  },
  {
   "cell_type": "code",
   "execution_count": null,
   "metadata": {},
   "outputs": [],
   "source": [
    "# After this we will be cleaning and preparing the Sample Test Data Set given in the same-way\n",
    "# to make our classification( Random Forest)."
   ]
  },
  {
   "cell_type": "code",
   "execution_count": null,
   "metadata": {},
   "outputs": [],
   "source": []
  },
  {
   "cell_type": "code",
   "execution_count": null,
   "metadata": {},
   "outputs": [],
   "source": []
  },
  {
   "cell_type": "code",
   "execution_count": null,
   "metadata": {},
   "outputs": [],
   "source": []
  },
  {
   "cell_type": "code",
   "execution_count": null,
   "metadata": {},
   "outputs": [],
   "source": []
  },
  {
   "cell_type": "code",
   "execution_count": null,
   "metadata": {},
   "outputs": [],
   "source": []
  },
  {
   "cell_type": "code",
   "execution_count": null,
   "metadata": {},
   "outputs": [],
   "source": []
  },
  {
   "cell_type": "code",
   "execution_count": null,
   "metadata": {},
   "outputs": [],
   "source": []
  },
  {
   "cell_type": "code",
   "execution_count": null,
   "metadata": {},
   "outputs": [],
   "source": []
  },
  {
   "cell_type": "code",
   "execution_count": null,
   "metadata": {},
   "outputs": [],
   "source": []
  },
  {
   "cell_type": "code",
   "execution_count": null,
   "metadata": {},
   "outputs": [],
   "source": []
  }
 ],
 "metadata": {
  "kernelspec": {
   "display_name": "Python 3",
   "language": "python",
   "name": "python3"
  },
  "language_info": {
   "codemirror_mode": {
    "name": "ipython",
    "version": 3
   },
   "file_extension": ".py",
   "mimetype": "text/x-python",
   "name": "python",
   "nbconvert_exporter": "python",
   "pygments_lexer": "ipython3",
   "version": "3.8.3"
  }
 },
 "nbformat": 4,
 "nbformat_minor": 4
}
